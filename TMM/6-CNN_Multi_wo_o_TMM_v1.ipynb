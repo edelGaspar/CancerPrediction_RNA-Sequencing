{
 "cells": [
  {
   "attachments": {},
   "cell_type": "markdown",
   "metadata": {},
   "source": [
    "## DNN Model for the classification of cancer types"
   ]
  },
  {
   "attachments": {},
   "cell_type": "markdown",
   "metadata": {},
   "source": [
    "## DNN Model (without_outliers)"
   ]
  },
  {
   "attachments": {},
   "cell_type": "markdown",
   "metadata": {},
   "source": [
    "## Imports"
   ]
  },
  {
   "cell_type": "code",
   "execution_count": 18,
   "metadata": {},
   "outputs": [],
   "source": [
    "import os\n",
    "import numpy as np\n",
    "import pandas as pd\n",
    "import tensorflow as tf\n",
    "import seaborn as sns\n",
    "import matplotlib.pyplot as plt\n",
    "from tensorflow import keras\n",
    "from keras.models import Sequential\n",
    "from keras.layers import Dense, Dropout, BatchNormalization, Conv2D, MaxPool2D, Bidirectional, Flatten, GRU, Reshape\n",
    "from keras.optimizers import SGD, Adam, Adamax, RMSprop, Adagrad\n",
    "from keras.metrics import AUC, Accuracy, CategoricalAccuracy, sparse_categorical_accuracy\n",
    "from tensorflow.keras import layers, activations\n",
    "from sklearn.utils.class_weight import compute_class_weight\n",
    "from sklearn.model_selection import train_test_split\n",
    "from tensorflow.keras.callbacks import ModelCheckpoint\n",
    "import keras_tuner as kt\n",
    "from statistics import mean\n",
    "from scikeras.wrappers import KerasClassifier\n",
    "from sklearn.model_selection import GridSearchCV\n",
    "import imblearn\n",
    "from collections import Counter\n",
    "from matplotlib import pyplot\n",
    "from imblearn.over_sampling import SMOTE\n",
    "from imblearn.combine import SMOTETomek\n",
    "from imblearn.under_sampling import TomekLinks\n",
    "import keras.backend as K\n",
    "from sklearn.metrics import classification_report, confusion_matrix\n"
   ]
  },
  {
   "attachments": {},
   "cell_type": "markdown",
   "metadata": {},
   "source": [
    "### Useful functions"
   ]
  },
  {
   "cell_type": "code",
   "execution_count": 19,
   "metadata": {},
   "outputs": [],
   "source": [
    "def recall(y_true, y_pred):\n",
    "    y_true = K.ones_like(y_true)\n",
    "    true_positives = K.sum(K.round(K.clip(y_true * y_pred, 0, 1)))\n",
    "    all_positives = K.sum(K.round(K.clip(y_true, 0, 1)))\n",
    "\n",
    "    recall = true_positives / (all_positives + K.epsilon())\n",
    "    return recall\n",
    "\n",
    "def precision(y_true, y_pred):\n",
    "    y_true = K.ones_like(y_true)\n",
    "    true_positives = K.sum(K.round(K.clip(y_true * y_pred, 0, 1)))\n",
    "\n",
    "    predicted_positives = K.sum(K.round(K.clip(y_pred, 0, 1)))\n",
    "    precision = true_positives / (predicted_positives + K.epsilon())\n",
    "    return precision\n",
    "\n",
    "def f1_score(y_true, y_pred):\n",
    "    precision = precision(y_true, y_pred)\n",
    "    recall = recall(y_true, y_pred)\n",
    "    return 2*((precision*recall)/(precision+recall+K.epsilon()))"
   ]
  },
  {
   "cell_type": "code",
   "execution_count": 20,
   "metadata": {},
   "outputs": [],
   "source": [
    "class MulticlassTruePositives(tf.keras.metrics.Metric):\n",
    "    def __init__(self, name='multiclass_true_positives', **kwargs):\n",
    "        super(MulticlassTruePositives, self).__init__(name=name, **kwargs)\n",
    "        self.true_positives = self.add_weight(name='tp', initializer='zeros')\n",
    "\n",
    "    def update_state(self, y_true, y_pred, sample_weight=None):\n",
    "        y_pred = tf.reshape(tf.argmax(y_pred, axis=1), shape=(-1, 1))\n",
    "        values = tf.cast(y_true, 'int32') == tf.cast(y_pred, 'int32')\n",
    "        values = tf.cast(values, 'float32')\n",
    "        if sample_weight is not None:\n",
    "            sample_weight = tf.cast(sample_weight, 'float32')\n",
    "            values = tf.multiply(values, sample_weight)\n",
    "        self.true_positives.assign_add(tf.reduce_sum(values))\n",
    "\n",
    "    def result(self):\n",
    "        return self.true_positives\n",
    "\n",
    "    def reset_states(self):\n",
    "        # The state of the metric will be reset at the start of each epoch.\n",
    "        self.true_positives.assign(0.)"
   ]
  },
  {
   "attachments": {},
   "cell_type": "markdown",
   "metadata": {},
   "source": [
    "## Load Data"
   ]
  },
  {
   "cell_type": "code",
   "execution_count": 21,
   "metadata": {},
   "outputs": [
    {
     "name": "stdout",
     "output_type": "stream",
     "text": [
      "Number of types of cancer: \n",
      " 19 \n",
      "\n",
      "Total number of samples: \n",
      " 2307 \n",
      "\n",
      "Number of features: \n",
      " 32 \n",
      "\n",
      "Number of samples by type of cancer: \n",
      " Patient_group\n",
      "0                700\n",
      "2                510\n",
      "7                141\n",
      "1                132\n",
      "3                125\n",
      "5                101\n",
      "4                 93\n",
      "11                85\n",
      "8                 84\n",
      "6                 68\n",
      "10                51\n",
      "13                39\n",
      "16                35\n",
      "9                 31\n",
      "17                28\n",
      "18                28\n",
      "12                23\n",
      "15                20\n",
      "14                13\n",
      "Name: count, dtype: int64 \n",
      "\n"
     ]
    }
   ],
   "source": [
    "#load dataframe\n",
    "#outlier_folder = \"with_outliers\"\n",
    "outlier_folder = \"without_outliers\"\n",
    "df_genes_labels_file = f'Data/{outlier_folder}/df_genes_labels_without_outliers_tmm.pkl'\n",
    "\n",
    "if os.path.exists(df_genes_labels_file):\n",
    "    df_genes_labels = pd.read_pickle(df_genes_labels_file)\n",
    "else:\n",
    "    raise Exception(\"You need to run the notebook \\\"PrepareDataExploratoryAnalysis\\\".\")\n",
    "\n",
    "df_genes_labels_file = f'Data/{outlier_folder}/df_expression_data_lasso_tmm.pkl'\n",
    "if os.path.exists(df_genes_labels_file):\n",
    "    df_genes_labels_selected = pd.read_pickle(df_genes_labels_file)\n",
    "else:\n",
    "    raise Exception(\"You need to run the notebook \\\"ReduceDimensionality\\\".\")\n",
    "\n",
    "labels = df_genes_labels.iloc[:, 5441:5442]\n",
    "\n",
    "df_genes_labels_selected['Patient_group'] = labels\n",
    "\n",
    "print(f'Number of types of cancer: \\n {len(labels.value_counts())} \\n')\n",
    "print(f'Total number of samples: \\n {len(labels)} \\n')\n",
    "print(f'Number of features: \\n {len(df_genes_labels_selected.columns) -1} \\n')\n",
    "print(f'Number of samples by type of cancer: \\n {labels.value_counts()} \\n')"
   ]
  },
  {
   "cell_type": "code",
   "execution_count": 22,
   "metadata": {},
   "outputs": [],
   "source": [
    "# Remove cancer types with less than 28 samples\n",
    "#counts = df_genes_labels_selected['Patient_group'].value_counts()\n",
    "#categories_to_maintain = counts[counts >= 28].index\n",
    "#df_genes_labels_selected = df_genes_labels_selected[df_genes_labels_selected['Patient_group'].isin(categories_to_maintain)]\n",
    "#counts = df_genes_labels_selected['Patient_group'].value_counts()\n",
    "#print(f'Number of types of cancer: \\n {len(counts)} \\n')\n",
    "#print(f'Number of samples by type of cancer: \\n {counts} \\n')\n"
   ]
  },
  {
   "cell_type": "code",
   "execution_count": 23,
   "metadata": {},
   "outputs": [
    {
     "name": "stdout",
     "output_type": "stream",
     "text": [
      "Cantidad de elementos por clase en TRAIN: \n",
      " Patient_group\n",
      "0     559\n",
      "2     407\n",
      "7     117\n",
      "1     107\n",
      "3     100\n",
      "4      81\n",
      "5      77\n",
      "11     73\n",
      "8      68\n",
      "6      51\n",
      "10     44\n",
      "13     33\n",
      "16     24\n",
      "17     23\n",
      "9      21\n",
      "18     20\n",
      "15     16\n",
      "12     15\n",
      "14      9\n",
      "Name: count, dtype: int64 \n",
      "\n",
      "Cantidad de elementos por clase en TEST: \n",
      " Patient_group\n",
      "0     141\n",
      "2     103\n",
      "3      25\n",
      "1      25\n",
      "7      24\n",
      "5      24\n",
      "6      17\n",
      "8      16\n",
      "11     12\n",
      "4      12\n",
      "16     11\n",
      "9      10\n",
      "12      8\n",
      "18      8\n",
      "10      7\n",
      "13      6\n",
      "17      5\n",
      "14      4\n",
      "15      4\n",
      "Name: count, dtype: int64\n"
     ]
    }
   ],
   "source": [
    "labels = df_genes_labels_selected['Patient_group']\n",
    "df_genes_labels_selected = df_genes_labels_selected.iloc[:,:-1]\n",
    "X_train, X_test, y_train, y_test = train_test_split(df_genes_labels_selected, labels, test_size=0.2, random_state=42, shuffle=True)\n",
    "\n",
    "print(f'Cantidad de elementos por clase en TRAIN: \\n {y_train.value_counts()} \\n')\n",
    "print(f'Cantidad de elementos por clase en TEST: \\n {y_test.value_counts()}')"
   ]
  },
  {
   "cell_type": "code",
   "execution_count": 24,
   "metadata": {},
   "outputs": [
    {
     "data": {
      "image/png": "[encoded data removed]",
      "text/plain": [
       "<Figure size 640x480 with 1 Axes>"
      ]
     },
     "metadata": {},
     "output_type": "display_data"
    }
   ],
   "source": [
    "# summarize distribution\n",
    "counter = Counter(y_train)\n",
    "# plot the distribution\n",
    "pyplot.bar(counter.keys(), counter.values())\n",
    "#plt.xlim(0, 28)\n",
    "pyplot.show()"
   ]
  },
  {
   "cell_type": "code",
   "execution_count": 25,
   "metadata": {},
   "outputs": [
    {
     "data": {
      "image/png": "[encoded data removed]",
      "text/plain": [
       "<Figure size 640x480 with 1 Axes>"
      ]
     },
     "metadata": {},
     "output_type": "display_data"
    }
   ],
   "source": [
    "X, y = SMOTE(k_neighbors=2).fit_resample(X_train, y_train)\n",
    "# summarize distribution\n",
    "counter = Counter(y)\n",
    "# plot the distribution\n",
    "pyplot.bar(counter.keys(), counter.values())\n",
    "pyplot.show()"
   ]
  },
  {
   "cell_type": "code",
   "execution_count": 26,
   "metadata": {},
   "outputs": [],
   "source": [
    "# Create Model. Reference: https://bmcbioinformatics.biomedcentral.com/articles/10.1186/s12859-022-04980-9#Tab2\n",
    "\n",
    "def model_builder(hp):\n",
    "    classifier = Sequential()\n",
    "    #hp_units_first_layer = hp.Int('units', min_value = 1024, max_value = 1024, default = 64, step = 32)\n",
    "    classifier.add(Dense(units = 1024, activation = 'relu', input_dim = 32))\n",
    "    classifier.add(Reshape((32, 32, 1)))\n",
    "    #hp_filters_first_conv = hp.Int('units', min_value = 128, max_value = 128, default = 128, step = 32)\n",
    "    classifier.add(Conv2D(filters = 128, kernel_size = 3, padding='same', strides = 2, activation='relu'))\n",
    "    classifier.add(MaxPool2D(pool_size = (2,2), strides = 2))\n",
    "    #classifier.add(Bidirectional(GRU(64, return_sequences = True, bias_regularizer=tf.keras.regularizers.l2(1e-4),\n",
    "    #                                     activity_regularizer=tf.keras.regularizers.l2(1e-5))))\n",
    "    #hp_filters_second_conv = hp.Int('units', min_value = 64, max_value = 64, default = 64, step = 32)\n",
    "    classifier.add(Conv2D(filters = 64, kernel_size = 3, padding='same', strides = 2, activation='relu'))\n",
    "    classifier.add(MaxPool2D(pool_size = (2,2), strides = 2))\n",
    "    classifier.add(Flatten())\n",
    "    classifier.add(Dense(128,activation = 'relu',kernel_regularizer=tf.keras.regularizers.l2()))\n",
    "    classifier.add(Dense(64,activation = 'relu',kernel_regularizer=tf.keras.regularizers.l2()))\n",
    "    classifier.add(Dropout(rate=0.6))\n",
    "    classifier.add(Dense(32,activation = 'relu',kernel_regularizer=tf.keras.regularizers.l2()))\n",
    "    classifier.add(Dropout(rate=0.2))\n",
    "    classifier.add(Dense(19,activation = 'softmax'))   \n",
    "    \n",
    "    #hp_learning_rate = hp.Float('lr', min_value=1e-8, max_value=1e-2, sampling=\"log\")\n",
    "    #optimizers_dict = {\n",
    "    #        \"Adam\": Adam(learning_rate=hp_learning_rate),\n",
    "    #        \"Adamax\": Adamax(learning_rate=hp_learning_rate),\n",
    "    #        \"SGD\": SGD(learning_rate=hp_learning_rate),\n",
    "    #        \"Adagrad\": Adagrad(learning_rate=hp_learning_rate),\n",
    "    #        \"RMSprop\": RMSprop(learning_rate=hp_learning_rate)\n",
    "    #        }\n",
    "    \n",
    "    #hp_optimizers = hp.Choice(name = 'optimizer', \n",
    "    #    values=['Adam', 'Adamax', 'SGD', 'Adagrad', 'RMSprop']\n",
    "    #    )\n",
    "        \n",
    "        \n",
    "    metrics=['accuracy',\n",
    "                       keras.metrics.categorical_accuracy,\n",
    "                       tf.keras.metrics.TopKCategoricalAccuracy(k=5),\n",
    "                       MulticlassTruePositives()]\n",
    "    \n",
    "    classifier.compile(optimizer='Adam',\n",
    "                loss = 'sparse_categorical_crossentropy', \n",
    "                metrics = metrics)\n",
    "\n",
    "    return classifier"
   ]
  },
  {
   "cell_type": "code",
   "execution_count": 27,
   "metadata": {},
   "outputs": [
    {
     "name": "stdout",
     "output_type": "stream",
     "text": [
      "Search space summary\n",
      "Default search space size: 0\n"
     ]
    }
   ],
   "source": [
    "tuner = kt.BayesianOptimization(\n",
    "    hypermodel=model_builder,\n",
    "    objective= kt.Objective('val_accuracy', direction='max'),\n",
    "    max_trials=40,    \n",
    "    directory = 'Data/model_tests',\n",
    "    project_name = 'cancer_MultiCLass_classif_CNN_tmm',\n",
    "    overwrite = True\n",
    ")\n",
    "tuner.search_space_summary()"
   ]
  },
  {
   "cell_type": "code",
   "execution_count": 28,
   "metadata": {},
   "outputs": [
    {
     "name": "stdout",
     "output_type": "stream",
     "text": [
      "Trial 1 Complete [00h 00m 37s]\n",
      "val_accuracy: 0.46883469820022583\n",
      "\n",
      "Best val_accuracy So Far: 0.46883469820022583\n",
      "Total elapsed time: 00h 00m 37s\n",
      "INFO:tensorflow:Oracle triggered exit\n"
     ]
    }
   ],
   "source": [
    "stop_early = tf.keras.callbacks.EarlyStopping(monitor='val_loss', patience=5)\n",
    "checkpoint = ModelCheckpoint('Data/models/best_multiclass_model_CNN_tmm.h5', monitor='val_loss', save_best_only=True, mode='min', verbose=1)\n",
    "tuner.search(X_train, y_train, epochs=100, validation_split=0.2, callbacks=[stop_early, checkpoint])"
   ]
  },
  {
   "cell_type": "code",
   "execution_count": 29,
   "metadata": {},
   "outputs": [
    {
     "name": "stdout",
     "output_type": "stream",
     "text": [
      "Epoch 1/100\n",
      "44/47 [===========================>..] - ETA: 0s - loss: 4.8402 - accuracy: 0.2315 - categorical_accuracy: 0.6676 - top_k_categorical_accuracy: 0.9638 - multiclass_true_positives: 326.0000"
     ]
    },
    {
     "name": "stderr",
     "output_type": "stream",
     "text": [
      "c:\\Users\\Edel\\.virtualenvs\\Desarrollo-OyWcDdAp\\lib\\site-packages\\keras\\src\\engine\\training.py:2620: UserWarning: Metric MulticlassTruePositives implements a `reset_states()` method; rename it to `reset_state()` (without the final \"s\"). The name `reset_states()` has been deprecated to improve API consistency.\n",
      "  m.reset_state()\n"
     ]
    },
    {
     "name": "stdout",
     "output_type": "stream",
     "text": [
      "47/47 [==============================] - 2s 22ms/step - loss: 4.8046 - accuracy: 0.2290 - categorical_accuracy: 0.6721 - top_k_categorical_accuracy: 0.9648 - multiclass_true_positives: 338.0000 - val_loss: 3.9284 - val_accuracy: 0.3279 - val_categorical_accuracy: 1.0000 - val_top_k_categorical_accuracy: 1.0000 - val_multiclass_true_positives: 121.0000\n",
      "Epoch 2/100\n",
      "47/47 [==============================] - 1s 16ms/step - loss: 3.4807 - accuracy: 0.2873 - categorical_accuracy: 0.8028 - top_k_categorical_accuracy: 1.0000 - multiclass_true_positives: 424.0000 - val_loss: 2.9468 - val_accuracy: 0.3279 - val_categorical_accuracy: 1.0000 - val_top_k_categorical_accuracy: 1.0000 - val_multiclass_true_positives: 121.0000\n",
      "Epoch 3/100\n",
      "47/47 [==============================] - 1s 16ms/step - loss: 2.9087 - accuracy: 0.3028 - categorical_accuracy: 0.7568 - top_k_categorical_accuracy: 1.0000 - multiclass_true_positives: 447.0000 - val_loss: 2.6464 - val_accuracy: 0.3604 - val_categorical_accuracy: 0.8726 - val_top_k_categorical_accuracy: 1.0000 - val_multiclass_true_positives: 133.0000\n",
      "Epoch 4/100\n",
      "47/47 [==============================] - 1s 16ms/step - loss: 2.6831 - accuracy: 0.3137 - categorical_accuracy: 0.8266 - top_k_categorical_accuracy: 1.0000 - multiclass_true_positives: 463.0000 - val_loss: 2.4700 - val_accuracy: 0.3550 - val_categorical_accuracy: 0.9024 - val_top_k_categorical_accuracy: 1.0000 - val_multiclass_true_positives: 131.0000\n",
      "Epoch 5/100\n",
      "47/47 [==============================] - 1s 18ms/step - loss: 2.5357 - accuracy: 0.3394 - categorical_accuracy: 0.7066 - top_k_categorical_accuracy: 1.0000 - multiclass_true_positives: 501.0000 - val_loss: 2.3914 - val_accuracy: 0.4363 - val_categorical_accuracy: 0.5230 - val_top_k_categorical_accuracy: 1.0000 - val_multiclass_true_positives: 161.0000\n",
      "Epoch 6/100\n",
      "47/47 [==============================] - 1s 18ms/step - loss: 2.4880 - accuracy: 0.3631 - categorical_accuracy: 0.5447 - top_k_categorical_accuracy: 1.0000 - multiclass_true_positives: 536.0000 - val_loss: 2.2904 - val_accuracy: 0.3902 - val_categorical_accuracy: 0.8320 - val_top_k_categorical_accuracy: 1.0000 - val_multiclass_true_positives: 144.0000\n",
      "Epoch 7/100\n",
      "47/47 [==============================] - 1s 18ms/step - loss: 2.3820 - accuracy: 0.4024 - categorical_accuracy: 0.5644 - top_k_categorical_accuracy: 1.0000 - multiclass_true_positives: 594.0000 - val_loss: 2.1928 - val_accuracy: 0.4580 - val_categorical_accuracy: 0.5257 - val_top_k_categorical_accuracy: 1.0000 - val_multiclass_true_positives: 169.0000\n",
      "Epoch 8/100\n",
      "47/47 [==============================] - 1s 18ms/step - loss: 2.3229 - accuracy: 0.4167 - categorical_accuracy: 0.5088 - top_k_categorical_accuracy: 1.0000 - multiclass_true_positives: 615.0000 - val_loss: 2.1641 - val_accuracy: 0.4390 - val_categorical_accuracy: 0.6396 - val_top_k_categorical_accuracy: 1.0000 - val_multiclass_true_positives: 162.0000\n",
      "Epoch 9/100\n",
      "47/47 [==============================] - 1s 18ms/step - loss: 2.2793 - accuracy: 0.4309 - categorical_accuracy: 0.5271 - top_k_categorical_accuracy: 0.9993 - multiclass_true_positives: 636.0000 - val_loss: 2.1965 - val_accuracy: 0.4580 - val_categorical_accuracy: 0.4932 - val_top_k_categorical_accuracy: 1.0000 - val_multiclass_true_positives: 169.0000\n",
      "Epoch 10/100\n",
      "47/47 [==============================] - 1s 17ms/step - loss: 2.2409 - accuracy: 0.4316 - categorical_accuracy: 0.5488 - top_k_categorical_accuracy: 0.9980 - multiclass_true_positives: 637.0000 - val_loss: 2.1265 - val_accuracy: 0.4580 - val_categorical_accuracy: 0.5068 - val_top_k_categorical_accuracy: 1.0000 - val_multiclass_true_positives: 169.0000\n",
      "Epoch 11/100\n",
      "47/47 [==============================] - 1s 20ms/step - loss: 2.2295 - accuracy: 0.4329 - categorical_accuracy: 0.5657 - top_k_categorical_accuracy: 0.9973 - multiclass_true_positives: 639.0000 - val_loss: 2.1073 - val_accuracy: 0.4390 - val_categorical_accuracy: 0.6775 - val_top_k_categorical_accuracy: 1.0000 - val_multiclass_true_positives: 162.0000\n",
      "Epoch 12/100\n",
      "47/47 [==============================] - 1s 18ms/step - loss: 2.2124 - accuracy: 0.4336 - categorical_accuracy: 0.5467 - top_k_categorical_accuracy: 0.9980 - multiclass_true_positives: 640.0000 - val_loss: 2.0797 - val_accuracy: 0.4661 - val_categorical_accuracy: 0.5285 - val_top_k_categorical_accuracy: 1.0000 - val_multiclass_true_positives: 172.0000\n",
      "Epoch 13/100\n",
      "47/47 [==============================] - 1s 18ms/step - loss: 2.2142 - accuracy: 0.4478 - categorical_accuracy: 0.5461 - top_k_categorical_accuracy: 0.9986 - multiclass_true_positives: 661.0000 - val_loss: 2.1215 - val_accuracy: 0.4553 - val_categorical_accuracy: 0.4986 - val_top_k_categorical_accuracy: 1.0000 - val_multiclass_true_positives: 168.0000\n",
      "Epoch 14/100\n",
      "47/47 [==============================] - 1s 17ms/step - loss: 2.1781 - accuracy: 0.4383 - categorical_accuracy: 0.5447 - top_k_categorical_accuracy: 0.9993 - multiclass_true_positives: 647.0000 - val_loss: 2.0934 - val_accuracy: 0.4499 - val_categorical_accuracy: 0.4743 - val_top_k_categorical_accuracy: 1.0000 - val_multiclass_true_positives: 166.0000\n",
      "Epoch 15/100\n",
      "47/47 [==============================] - 1s 16ms/step - loss: 2.1523 - accuracy: 0.4377 - categorical_accuracy: 0.5224 - top_k_categorical_accuracy: 0.9953 - multiclass_true_positives: 646.0000 - val_loss: 2.0758 - val_accuracy: 0.4390 - val_categorical_accuracy: 0.6748 - val_top_k_categorical_accuracy: 1.0000 - val_multiclass_true_positives: 162.0000\n",
      "Epoch 16/100\n",
      "47/47 [==============================] - 1s 18ms/step - loss: 2.1856 - accuracy: 0.4356 - categorical_accuracy: 0.5860 - top_k_categorical_accuracy: 0.9953 - multiclass_true_positives: 643.0000 - val_loss: 2.0571 - val_accuracy: 0.4607 - val_categorical_accuracy: 0.5122 - val_top_k_categorical_accuracy: 1.0000 - val_multiclass_true_positives: 170.0000\n",
      "Epoch 17/100\n",
      "47/47 [==============================] - 1s 16ms/step - loss: 2.1365 - accuracy: 0.4431 - categorical_accuracy: 0.5440 - top_k_categorical_accuracy: 0.9851 - multiclass_true_positives: 654.0000 - val_loss: 2.0383 - val_accuracy: 0.4715 - val_categorical_accuracy: 0.5474 - val_top_k_categorical_accuracy: 1.0000 - val_multiclass_true_positives: 174.0000\n",
      "Epoch 18/100\n",
      "47/47 [==============================] - 1s 16ms/step - loss: 2.1283 - accuracy: 0.4451 - categorical_accuracy: 0.5210 - top_k_categorical_accuracy: 0.9715 - multiclass_true_positives: 657.0000 - val_loss: 2.0400 - val_accuracy: 0.4390 - val_categorical_accuracy: 0.6477 - val_top_k_categorical_accuracy: 1.0000 - val_multiclass_true_positives: 162.0000\n",
      "Epoch 19/100\n",
      "47/47 [==============================] - 1s 16ms/step - loss: 2.1319 - accuracy: 0.4431 - categorical_accuracy: 0.5705 - top_k_categorical_accuracy: 0.9871 - multiclass_true_positives: 654.0000 - val_loss: 2.0380 - val_accuracy: 0.4688 - val_categorical_accuracy: 0.5881 - val_top_k_categorical_accuracy: 1.0000 - val_multiclass_true_positives: 173.0000\n",
      "Epoch 20/100\n",
      "47/47 [==============================] - 1s 16ms/step - loss: 2.1184 - accuracy: 0.4438 - categorical_accuracy: 0.5583 - top_k_categorical_accuracy: 0.9837 - multiclass_true_positives: 655.0000 - val_loss: 2.0577 - val_accuracy: 0.4499 - val_categorical_accuracy: 0.4363 - val_top_k_categorical_accuracy: 1.0000 - val_multiclass_true_positives: 166.0000\n",
      "Epoch 21/100\n",
      "47/47 [==============================] - 1s 17ms/step - loss: 2.0978 - accuracy: 0.4533 - categorical_accuracy: 0.5339 - top_k_categorical_accuracy: 0.9790 - multiclass_true_positives: 669.0000 - val_loss: 2.0227 - val_accuracy: 0.4580 - val_categorical_accuracy: 0.5095 - val_top_k_categorical_accuracy: 1.0000 - val_multiclass_true_positives: 169.0000\n",
      "Epoch 22/100\n",
      "47/47 [==============================] - 1s 18ms/step - loss: 2.0969 - accuracy: 0.4465 - categorical_accuracy: 0.5285 - top_k_categorical_accuracy: 0.9580 - multiclass_true_positives: 659.0000 - val_loss: 2.0634 - val_accuracy: 0.4526 - val_categorical_accuracy: 0.4878 - val_top_k_categorical_accuracy: 1.0000 - val_multiclass_true_positives: 167.0000\n",
      "Epoch 23/100\n",
      "47/47 [==============================] - 1s 16ms/step - loss: 2.0894 - accuracy: 0.4478 - categorical_accuracy: 0.5508 - top_k_categorical_accuracy: 0.9621 - multiclass_true_positives: 661.0000 - val_loss: 2.0130 - val_accuracy: 0.4580 - val_categorical_accuracy: 0.5556 - val_top_k_categorical_accuracy: 0.9919 - val_multiclass_true_positives: 169.0000\n",
      "Epoch 24/100\n",
      "47/47 [==============================] - 1s 17ms/step - loss: 2.0875 - accuracy: 0.4390 - categorical_accuracy: 0.5420 - top_k_categorical_accuracy: 0.9593 - multiclass_true_positives: 648.0000 - val_loss: 2.0290 - val_accuracy: 0.4553 - val_categorical_accuracy: 0.4661 - val_top_k_categorical_accuracy: 1.0000 - val_multiclass_true_positives: 168.0000\n",
      "Epoch 25/100\n",
      "47/47 [==============================] - 1s 17ms/step - loss: 2.1096 - accuracy: 0.4458 - categorical_accuracy: 0.5447 - top_k_categorical_accuracy: 0.9756 - multiclass_true_positives: 658.0000 - val_loss: 2.0054 - val_accuracy: 0.4607 - val_categorical_accuracy: 0.6098 - val_top_k_categorical_accuracy: 1.0000 - val_multiclass_true_positives: 170.0000\n",
      "Epoch 26/100\n",
      "47/47 [==============================] - 1s 18ms/step - loss: 2.1050 - accuracy: 0.4431 - categorical_accuracy: 0.5562 - top_k_categorical_accuracy: 0.9499 - multiclass_true_positives: 654.0000 - val_loss: 2.0294 - val_accuracy: 0.4580 - val_categorical_accuracy: 0.4905 - val_top_k_categorical_accuracy: 0.9810 - val_multiclass_true_positives: 169.0000\n",
      "Epoch 27/100\n",
      "47/47 [==============================] - 1s 19ms/step - loss: 2.0694 - accuracy: 0.4431 - categorical_accuracy: 0.5542 - top_k_categorical_accuracy: 0.9485 - multiclass_true_positives: 654.0000 - val_loss: 2.0115 - val_accuracy: 0.4580 - val_categorical_accuracy: 0.5068 - val_top_k_categorical_accuracy: 0.9431 - val_multiclass_true_positives: 169.0000\n",
      "Epoch 28/100\n",
      "47/47 [==============================] - 1s 18ms/step - loss: 2.0913 - accuracy: 0.4485 - categorical_accuracy: 0.5420 - top_k_categorical_accuracy: 0.9377 - multiclass_true_positives: 662.0000 - val_loss: 2.0431 - val_accuracy: 0.4553 - val_categorical_accuracy: 0.4363 - val_top_k_categorical_accuracy: 0.8997 - val_multiclass_true_positives: 168.0000\n",
      "Epoch 29/100\n",
      "47/47 [==============================] - 1s 19ms/step - loss: 2.0602 - accuracy: 0.4478 - categorical_accuracy: 0.5271 - top_k_categorical_accuracy: 0.9316 - multiclass_true_positives: 661.0000 - val_loss: 1.9918 - val_accuracy: 0.4607 - val_categorical_accuracy: 0.5203 - val_top_k_categorical_accuracy: 0.8835 - val_multiclass_true_positives: 170.0000\n",
      "Epoch 30/100\n",
      "47/47 [==============================] - 1s 19ms/step - loss: 2.0320 - accuracy: 0.4546 - categorical_accuracy: 0.5542 - top_k_categorical_accuracy: 0.9397 - multiclass_true_positives: 671.0000 - val_loss: 2.0633 - val_accuracy: 0.4580 - val_categorical_accuracy: 0.5176 - val_top_k_categorical_accuracy: 0.8997 - val_multiclass_true_positives: 169.0000\n",
      "Epoch 31/100\n",
      "47/47 [==============================] - 1s 19ms/step - loss: 2.0480 - accuracy: 0.4573 - categorical_accuracy: 0.5325 - top_k_categorical_accuracy: 0.9295 - multiclass_true_positives: 675.0000 - val_loss: 2.0551 - val_accuracy: 0.4553 - val_categorical_accuracy: 0.4607 - val_top_k_categorical_accuracy: 0.9431 - val_multiclass_true_positives: 168.0000\n",
      "Epoch 32/100\n",
      "47/47 [==============================] - 1s 21ms/step - loss: 2.0592 - accuracy: 0.4485 - categorical_accuracy: 0.5210 - top_k_categorical_accuracy: 0.9356 - multiclass_true_positives: 662.0000 - val_loss: 1.9842 - val_accuracy: 0.4661 - val_categorical_accuracy: 0.5583 - val_top_k_categorical_accuracy: 0.9702 - val_multiclass_true_positives: 172.0000\n",
      "Epoch 33/100\n",
      "47/47 [==============================] - 1s 19ms/step - loss: 2.0342 - accuracy: 0.4539 - categorical_accuracy: 0.5359 - top_k_categorical_accuracy: 0.9458 - multiclass_true_positives: 670.0000 - val_loss: 2.0288 - val_accuracy: 0.4526 - val_categorical_accuracy: 0.5095 - val_top_k_categorical_accuracy: 0.9404 - val_multiclass_true_positives: 167.0000\n",
      "Epoch 34/100\n",
      "47/47 [==============================] - 1s 20ms/step - loss: 2.0252 - accuracy: 0.4553 - categorical_accuracy: 0.5386 - top_k_categorical_accuracy: 0.9038 - multiclass_true_positives: 672.0000 - val_loss: 1.9973 - val_accuracy: 0.4499 - val_categorical_accuracy: 0.4878 - val_top_k_categorical_accuracy: 0.9485 - val_multiclass_true_positives: 166.0000\n",
      "Epoch 35/100\n",
      "47/47 [==============================] - 1s 19ms/step - loss: 2.0103 - accuracy: 0.4533 - categorical_accuracy: 0.5291 - top_k_categorical_accuracy: 0.9079 - multiclass_true_positives: 669.0000 - val_loss: 1.9943 - val_accuracy: 0.4688 - val_categorical_accuracy: 0.5691 - val_top_k_categorical_accuracy: 0.9512 - val_multiclass_true_positives: 173.0000\n",
      "Epoch 36/100\n",
      "47/47 [==============================] - 1s 19ms/step - loss: 2.0257 - accuracy: 0.4593 - categorical_accuracy: 0.5305 - top_k_categorical_accuracy: 0.9065 - multiclass_true_positives: 678.0000 - val_loss: 2.0250 - val_accuracy: 0.4444 - val_categorical_accuracy: 0.4228 - val_top_k_categorical_accuracy: 0.8564 - val_multiclass_true_positives: 164.0000\n",
      "Epoch 37/100\n",
      "47/47 [==============================] - 1s 19ms/step - loss: 2.0039 - accuracy: 0.4593 - categorical_accuracy: 0.5373 - top_k_categorical_accuracy: 0.9004 - multiclass_true_positives: 678.0000 - val_loss: 2.0121 - val_accuracy: 0.4444 - val_categorical_accuracy: 0.5122 - val_top_k_categorical_accuracy: 0.8943 - val_multiclass_true_positives: 164.0000\n",
      "Epoch 38/100\n",
      "47/47 [==============================] - 1s 18ms/step - loss: 2.0210 - accuracy: 0.4560 - categorical_accuracy: 0.5163 - top_k_categorical_accuracy: 0.9072 - multiclass_true_positives: 673.0000 - val_loss: 1.9903 - val_accuracy: 0.4526 - val_categorical_accuracy: 0.5095 - val_top_k_categorical_accuracy: 0.9431 - val_multiclass_true_positives: 167.0000\n",
      "Epoch 39/100\n",
      "47/47 [==============================] - 1s 18ms/step - loss: 1.9929 - accuracy: 0.4607 - categorical_accuracy: 0.5366 - top_k_categorical_accuracy: 0.9241 - multiclass_true_positives: 680.0000 - val_loss: 1.9945 - val_accuracy: 0.4580 - val_categorical_accuracy: 0.5637 - val_top_k_categorical_accuracy: 0.9079 - val_multiclass_true_positives: 169.0000\n",
      "Epoch 40/100\n",
      "47/47 [==============================] - 1s 19ms/step - loss: 2.0042 - accuracy: 0.4627 - categorical_accuracy: 0.5102 - top_k_categorical_accuracy: 0.8997 - multiclass_true_positives: 683.0000 - val_loss: 2.0247 - val_accuracy: 0.4417 - val_categorical_accuracy: 0.6992 - val_top_k_categorical_accuracy: 0.9566 - val_multiclass_true_positives: 163.0000\n",
      "Epoch 41/100\n",
      "47/47 [==============================] - 1s 20ms/step - loss: 2.0113 - accuracy: 0.4505 - categorical_accuracy: 0.5434 - top_k_categorical_accuracy: 0.9133 - multiclass_true_positives: 665.0000 - val_loss: 2.0247 - val_accuracy: 0.4417 - val_categorical_accuracy: 0.5393 - val_top_k_categorical_accuracy: 0.9621 - val_multiclass_true_positives: 163.0000\n",
      "Epoch 42/100\n",
      "47/47 [==============================] - 1s 17ms/step - loss: 1.9787 - accuracy: 0.4600 - categorical_accuracy: 0.5318 - top_k_categorical_accuracy: 0.8902 - multiclass_true_positives: 679.0000 - val_loss: 1.9976 - val_accuracy: 0.4526 - val_categorical_accuracy: 0.6667 - val_top_k_categorical_accuracy: 0.9783 - val_multiclass_true_positives: 167.0000\n",
      "Epoch 43/100\n",
      "47/47 [==============================] - 1s 17ms/step - loss: 2.0192 - accuracy: 0.4458 - categorical_accuracy: 0.5440 - top_k_categorical_accuracy: 0.9140 - multiclass_true_positives: 658.0000 - val_loss: 1.9926 - val_accuracy: 0.4472 - val_categorical_accuracy: 0.5014 - val_top_k_categorical_accuracy: 0.8753 - val_multiclass_true_positives: 165.0000\n",
      "Epoch 44/100\n",
      "47/47 [==============================] - 1s 18ms/step - loss: 1.9732 - accuracy: 0.4593 - categorical_accuracy: 0.5102 - top_k_categorical_accuracy: 0.8869 - multiclass_true_positives: 678.0000 - val_loss: 1.9952 - val_accuracy: 0.4580 - val_categorical_accuracy: 0.5962 - val_top_k_categorical_accuracy: 0.9214 - val_multiclass_true_positives: 169.0000\n",
      "Epoch 45/100\n",
      "47/47 [==============================] - 1s 19ms/step - loss: 1.9983 - accuracy: 0.4539 - categorical_accuracy: 0.5379 - top_k_categorical_accuracy: 0.9045 - multiclass_true_positives: 670.0000 - val_loss: 2.0127 - val_accuracy: 0.4499 - val_categorical_accuracy: 0.6043 - val_top_k_categorical_accuracy: 0.9864 - val_multiclass_true_positives: 166.0000\n",
      "Epoch 46/100\n",
      "47/47 [==============================] - 1s 18ms/step - loss: 1.9710 - accuracy: 0.4593 - categorical_accuracy: 0.5163 - top_k_categorical_accuracy: 0.9363 - multiclass_true_positives: 678.0000 - val_loss: 2.0143 - val_accuracy: 0.4526 - val_categorical_accuracy: 0.4553 - val_top_k_categorical_accuracy: 0.9837 - val_multiclass_true_positives: 167.0000\n",
      "Epoch 47/100\n",
      "47/47 [==============================] - 1s 17ms/step - loss: 1.9662 - accuracy: 0.4600 - categorical_accuracy: 0.5230 - top_k_categorical_accuracy: 0.9119 - multiclass_true_positives: 679.0000 - val_loss: 1.9763 - val_accuracy: 0.4607 - val_categorical_accuracy: 0.5041 - val_top_k_categorical_accuracy: 0.9864 - val_multiclass_true_positives: 170.0000\n",
      "Epoch 48/100\n",
      "47/47 [==============================] - 1s 19ms/step - loss: 1.9625 - accuracy: 0.4661 - categorical_accuracy: 0.5217 - top_k_categorical_accuracy: 0.9099 - multiclass_true_positives: 688.0000 - val_loss: 1.9915 - val_accuracy: 0.4472 - val_categorical_accuracy: 0.6016 - val_top_k_categorical_accuracy: 0.9864 - val_multiclass_true_positives: 165.0000\n",
      "Epoch 49/100\n",
      "47/47 [==============================] - 1s 18ms/step - loss: 1.9583 - accuracy: 0.4621 - categorical_accuracy: 0.5312 - top_k_categorical_accuracy: 0.8896 - multiclass_true_positives: 682.0000 - val_loss: 2.0091 - val_accuracy: 0.4526 - val_categorical_accuracy: 0.4553 - val_top_k_categorical_accuracy: 0.8862 - val_multiclass_true_positives: 167.0000\n",
      "Epoch 50/100\n",
      "47/47 [==============================] - 1s 21ms/step - loss: 1.9444 - accuracy: 0.4627 - categorical_accuracy: 0.5291 - top_k_categorical_accuracy: 0.8516 - multiclass_true_positives: 683.0000 - val_loss: 2.0056 - val_accuracy: 0.4363 - val_categorical_accuracy: 0.5935 - val_top_k_categorical_accuracy: 0.9106 - val_multiclass_true_positives: 161.0000\n",
      "Epoch 51/100\n",
      "47/47 [==============================] - 1s 19ms/step - loss: 2.0063 - accuracy: 0.4560 - categorical_accuracy: 0.5562 - top_k_categorical_accuracy: 0.8787 - multiclass_true_positives: 673.0000 - val_loss: 2.0350 - val_accuracy: 0.4390 - val_categorical_accuracy: 0.5257 - val_top_k_categorical_accuracy: 0.8753 - val_multiclass_true_positives: 162.0000\n",
      "Epoch 52/100\n",
      "47/47 [==============================] - 1s 19ms/step - loss: 1.9423 - accuracy: 0.4675 - categorical_accuracy: 0.5102 - top_k_categorical_accuracy: 0.8421 - multiclass_true_positives: 690.0000 - val_loss: 2.0591 - val_accuracy: 0.4499 - val_categorical_accuracy: 0.4770 - val_top_k_categorical_accuracy: 0.7995 - val_multiclass_true_positives: 166.0000\n",
      "Epoch 53/100\n",
      "47/47 [==============================] - 1s 18ms/step - loss: 1.9384 - accuracy: 0.4627 - categorical_accuracy: 0.5312 - top_k_categorical_accuracy: 0.8550 - multiclass_true_positives: 683.0000 - val_loss: 1.9980 - val_accuracy: 0.4526 - val_categorical_accuracy: 0.5257 - val_top_k_categorical_accuracy: 0.8266 - val_multiclass_true_positives: 167.0000\n",
      "Epoch 54/100\n",
      "47/47 [==============================] - 1s 20ms/step - loss: 1.9474 - accuracy: 0.4546 - categorical_accuracy: 0.5095 - top_k_categorical_accuracy: 0.8089 - multiclass_true_positives: 671.0000 - val_loss: 1.9911 - val_accuracy: 0.4417 - val_categorical_accuracy: 0.6477 - val_top_k_categorical_accuracy: 0.9377 - val_multiclass_true_positives: 163.0000\n",
      "Epoch 55/100\n",
      "47/47 [==============================] - 1s 19ms/step - loss: 1.9400 - accuracy: 0.4648 - categorical_accuracy: 0.5447 - top_k_categorical_accuracy: 0.8604 - multiclass_true_positives: 686.0000 - val_loss: 1.9952 - val_accuracy: 0.4390 - val_categorical_accuracy: 0.4905 - val_top_k_categorical_accuracy: 0.8022 - val_multiclass_true_positives: 162.0000\n",
      "Epoch 56/100\n",
      "47/47 [==============================] - 1s 18ms/step - loss: 1.9490 - accuracy: 0.4593 - categorical_accuracy: 0.5305 - top_k_categorical_accuracy: 0.8313 - multiclass_true_positives: 678.0000 - val_loss: 1.9692 - val_accuracy: 0.4526 - val_categorical_accuracy: 0.5691 - val_top_k_categorical_accuracy: 0.9133 - val_multiclass_true_positives: 167.0000\n",
      "Epoch 57/100\n",
      "47/47 [==============================] - 1s 18ms/step - loss: 1.9224 - accuracy: 0.4756 - categorical_accuracy: 0.5237 - top_k_categorical_accuracy: 0.8388 - multiclass_true_positives: 702.0000 - val_loss: 1.9948 - val_accuracy: 0.4526 - val_categorical_accuracy: 0.4580 - val_top_k_categorical_accuracy: 0.7724 - val_multiclass_true_positives: 167.0000\n",
      "Epoch 58/100\n",
      "47/47 [==============================] - 1s 20ms/step - loss: 1.9173 - accuracy: 0.4587 - categorical_accuracy: 0.5115 - top_k_categorical_accuracy: 0.7913 - multiclass_true_positives: 677.0000 - val_loss: 2.0405 - val_accuracy: 0.4417 - val_categorical_accuracy: 0.4201 - val_top_k_categorical_accuracy: 0.6938 - val_multiclass_true_positives: 163.0000\n",
      "Epoch 59/100\n",
      "47/47 [==============================] - 1s 19ms/step - loss: 1.9084 - accuracy: 0.4743 - categorical_accuracy: 0.5095 - top_k_categorical_accuracy: 0.8157 - multiclass_true_positives: 700.0000 - val_loss: 2.0064 - val_accuracy: 0.4309 - val_categorical_accuracy: 0.5095 - val_top_k_categorical_accuracy: 0.8103 - val_multiclass_true_positives: 159.0000\n",
      "Epoch 60/100\n",
      "47/47 [==============================] - 1s 18ms/step - loss: 1.9071 - accuracy: 0.4702 - categorical_accuracy: 0.5061 - top_k_categorical_accuracy: 0.7859 - multiclass_true_positives: 694.0000 - val_loss: 2.0115 - val_accuracy: 0.4444 - val_categorical_accuracy: 0.5122 - val_top_k_categorical_accuracy: 0.7724 - val_multiclass_true_positives: 164.0000\n",
      "Epoch 61/100\n",
      "47/47 [==============================] - 1s 20ms/step - loss: 1.9100 - accuracy: 0.4743 - categorical_accuracy: 0.5034 - top_k_categorical_accuracy: 0.7554 - multiclass_true_positives: 700.0000 - val_loss: 1.9913 - val_accuracy: 0.4472 - val_categorical_accuracy: 0.5366 - val_top_k_categorical_accuracy: 0.7778 - val_multiclass_true_positives: 165.0000\n",
      "Epoch 62/100\n",
      "47/47 [==============================] - 1s 18ms/step - loss: 1.9214 - accuracy: 0.4688 - categorical_accuracy: 0.5318 - top_k_categorical_accuracy: 0.7832 - multiclass_true_positives: 692.0000 - val_loss: 2.0190 - val_accuracy: 0.4309 - val_categorical_accuracy: 0.4770 - val_top_k_categorical_accuracy: 0.7290 - val_multiclass_true_positives: 159.0000\n",
      "Epoch 63/100\n",
      "47/47 [==============================] - 1s 18ms/step - loss: 1.8852 - accuracy: 0.4810 - categorical_accuracy: 0.5156 - top_k_categorical_accuracy: 0.7744 - multiclass_true_positives: 710.0000 - val_loss: 2.0581 - val_accuracy: 0.4472 - val_categorical_accuracy: 0.4173 - val_top_k_categorical_accuracy: 0.6802 - val_multiclass_true_positives: 165.0000\n",
      "Epoch 64/100\n",
      "47/47 [==============================] - 1s 19ms/step - loss: 1.8766 - accuracy: 0.4770 - categorical_accuracy: 0.5075 - top_k_categorical_accuracy: 0.7541 - multiclass_true_positives: 704.0000 - val_loss: 2.0094 - val_accuracy: 0.4634 - val_categorical_accuracy: 0.5014 - val_top_k_categorical_accuracy: 0.6802 - val_multiclass_true_positives: 171.0000\n",
      "Epoch 65/100\n",
      "47/47 [==============================] - 1s 21ms/step - loss: 1.8931 - accuracy: 0.4864 - categorical_accuracy: 0.5095 - top_k_categorical_accuracy: 0.6965 - multiclass_true_positives: 718.0000 - val_loss: 2.0056 - val_accuracy: 0.4580 - val_categorical_accuracy: 0.5637 - val_top_k_categorical_accuracy: 0.8157 - val_multiclass_true_positives: 169.0000\n",
      "Epoch 66/100\n",
      "47/47 [==============================] - 1s 19ms/step - loss: 1.8886 - accuracy: 0.4763 - categorical_accuracy: 0.5129 - top_k_categorical_accuracy: 0.7310 - multiclass_true_positives: 703.0000 - val_loss: 2.0730 - val_accuracy: 0.4499 - val_categorical_accuracy: 0.4363 - val_top_k_categorical_accuracy: 0.6206 - val_multiclass_true_positives: 166.0000\n",
      "Epoch 67/100\n",
      "47/47 [==============================] - 1s 19ms/step - loss: 1.8942 - accuracy: 0.4763 - categorical_accuracy: 0.5142 - top_k_categorical_accuracy: 0.7080 - multiclass_true_positives: 703.0000 - val_loss: 2.0813 - val_accuracy: 0.4580 - val_categorical_accuracy: 0.4390 - val_top_k_categorical_accuracy: 0.6477 - val_multiclass_true_positives: 169.0000\n",
      "Epoch 68/100\n",
      "47/47 [==============================] - 1s 19ms/step - loss: 1.8858 - accuracy: 0.4851 - categorical_accuracy: 0.5054 - top_k_categorical_accuracy: 0.7297 - multiclass_true_positives: 716.0000 - val_loss: 2.0209 - val_accuracy: 0.4417 - val_categorical_accuracy: 0.5285 - val_top_k_categorical_accuracy: 0.7615 - val_multiclass_true_positives: 163.0000\n",
      "Epoch 69/100\n",
      "47/47 [==============================] - 1s 21ms/step - loss: 1.8524 - accuracy: 0.4878 - categorical_accuracy: 0.4986 - top_k_categorical_accuracy: 0.7276 - multiclass_true_positives: 720.0000 - val_loss: 2.0302 - val_accuracy: 0.4526 - val_categorical_accuracy: 0.5041 - val_top_k_categorical_accuracy: 0.6775 - val_multiclass_true_positives: 167.0000\n",
      "Epoch 70/100\n",
      "47/47 [==============================] - 1s 19ms/step - loss: 1.9111 - accuracy: 0.4621 - categorical_accuracy: 0.5041 - top_k_categorical_accuracy: 0.7446 - multiclass_true_positives: 682.0000 - val_loss: 1.9953 - val_accuracy: 0.4499 - val_categorical_accuracy: 0.5339 - val_top_k_categorical_accuracy: 0.6965 - val_multiclass_true_positives: 166.0000\n",
      "Epoch 71/100\n",
      "47/47 [==============================] - 1s 18ms/step - loss: 1.9204 - accuracy: 0.4817 - categorical_accuracy: 0.5027 - top_k_categorical_accuracy: 0.7243 - multiclass_true_positives: 711.0000 - val_loss: 1.9991 - val_accuracy: 0.4526 - val_categorical_accuracy: 0.4715 - val_top_k_categorical_accuracy: 0.6640 - val_multiclass_true_positives: 167.0000\n",
      "Epoch 72/100\n",
      "47/47 [==============================] - 1s 18ms/step - loss: 1.8924 - accuracy: 0.4824 - categorical_accuracy: 0.5196 - top_k_categorical_accuracy: 0.7392 - multiclass_true_positives: 712.0000 - val_loss: 2.1183 - val_accuracy: 0.4499 - val_categorical_accuracy: 0.6396 - val_top_k_categorical_accuracy: 0.8184 - val_multiclass_true_positives: 166.0000\n",
      "Epoch 73/100\n",
      "47/47 [==============================] - 1s 18ms/step - loss: 1.9235 - accuracy: 0.4770 - categorical_accuracy: 0.5183 - top_k_categorical_accuracy: 0.7161 - multiclass_true_positives: 704.0000 - val_loss: 2.0268 - val_accuracy: 0.4444 - val_categorical_accuracy: 0.4607 - val_top_k_categorical_accuracy: 0.6640 - val_multiclass_true_positives: 164.0000\n",
      "Epoch 74/100\n",
      "47/47 [==============================] - 1s 18ms/step - loss: 1.8691 - accuracy: 0.4817 - categorical_accuracy: 0.5183 - top_k_categorical_accuracy: 0.7764 - multiclass_true_positives: 711.0000 - val_loss: 2.0898 - val_accuracy: 0.4390 - val_categorical_accuracy: 0.5420 - val_top_k_categorical_accuracy: 0.8076 - val_multiclass_true_positives: 162.0000\n",
      "Epoch 75/100\n",
      "47/47 [==============================] - 1s 19ms/step - loss: 1.8348 - accuracy: 0.4892 - categorical_accuracy: 0.5298 - top_k_categorical_accuracy: 0.7236 - multiclass_true_positives: 722.0000 - val_loss: 2.0436 - val_accuracy: 0.4526 - val_categorical_accuracy: 0.4472 - val_top_k_categorical_accuracy: 0.6152 - val_multiclass_true_positives: 167.0000\n",
      "Epoch 76/100\n",
      "47/47 [==============================] - 1s 22ms/step - loss: 1.9008 - accuracy: 0.4743 - categorical_accuracy: 0.4959 - top_k_categorical_accuracy: 0.6951 - multiclass_true_positives: 700.0000 - val_loss: 2.0295 - val_accuracy: 0.4444 - val_categorical_accuracy: 0.5583 - val_top_k_categorical_accuracy: 0.7236 - val_multiclass_true_positives: 164.0000\n",
      "Epoch 77/100\n",
      "47/47 [==============================] - 1s 18ms/step - loss: 1.8314 - accuracy: 0.4817 - categorical_accuracy: 0.5115 - top_k_categorical_accuracy: 0.7019 - multiclass_true_positives: 711.0000 - val_loss: 2.1094 - val_accuracy: 0.4417 - val_categorical_accuracy: 0.4878 - val_top_k_categorical_accuracy: 0.6369 - val_multiclass_true_positives: 163.0000\n",
      "Epoch 78/100\n",
      "47/47 [==============================] - 1s 19ms/step - loss: 1.8467 - accuracy: 0.4919 - categorical_accuracy: 0.5054 - top_k_categorical_accuracy: 0.6931 - multiclass_true_positives: 726.0000 - val_loss: 2.0575 - val_accuracy: 0.4309 - val_categorical_accuracy: 0.5718 - val_top_k_categorical_accuracy: 0.7425 - val_multiclass_true_positives: 159.0000\n",
      "Epoch 79/100\n",
      "47/47 [==============================] - 1s 20ms/step - loss: 1.8078 - accuracy: 0.4932 - categorical_accuracy: 0.5190 - top_k_categorical_accuracy: 0.6836 - multiclass_true_positives: 728.0000 - val_loss: 2.0848 - val_accuracy: 0.4526 - val_categorical_accuracy: 0.4824 - val_top_k_categorical_accuracy: 0.6098 - val_multiclass_true_positives: 167.0000\n",
      "Epoch 80/100\n",
      "47/47 [==============================] - 1s 19ms/step - loss: 1.8399 - accuracy: 0.4953 - categorical_accuracy: 0.5115 - top_k_categorical_accuracy: 0.6850 - multiclass_true_positives: 731.0000 - val_loss: 2.0779 - val_accuracy: 0.4553 - val_categorical_accuracy: 0.4390 - val_top_k_categorical_accuracy: 0.5799 - val_multiclass_true_positives: 168.0000\n",
      "Epoch 81/100\n",
      "47/47 [==============================] - 1s 19ms/step - loss: 1.8329 - accuracy: 0.4993 - categorical_accuracy: 0.4946 - top_k_categorical_accuracy: 0.6680 - multiclass_true_positives: 737.0000 - val_loss: 2.0694 - val_accuracy: 0.4363 - val_categorical_accuracy: 0.4851 - val_top_k_categorical_accuracy: 0.6152 - val_multiclass_true_positives: 161.0000\n",
      "Epoch 82/100\n",
      "47/47 [==============================] - 1s 19ms/step - loss: 1.8791 - accuracy: 0.4837 - categorical_accuracy: 0.4939 - top_k_categorical_accuracy: 0.6646 - multiclass_true_positives: 714.0000 - val_loss: 2.0495 - val_accuracy: 0.4580 - val_categorical_accuracy: 0.4797 - val_top_k_categorical_accuracy: 0.6396 - val_multiclass_true_positives: 169.0000\n",
      "Epoch 83/100\n",
      "47/47 [==============================] - 1s 20ms/step - loss: 1.8681 - accuracy: 0.4892 - categorical_accuracy: 0.5325 - top_k_categorical_accuracy: 0.7141 - multiclass_true_positives: 722.0000 - val_loss: 2.0454 - val_accuracy: 0.4526 - val_categorical_accuracy: 0.5122 - val_top_k_categorical_accuracy: 0.7425 - val_multiclass_true_positives: 167.0000\n",
      "Epoch 84/100\n",
      "47/47 [==============================] - 1s 18ms/step - loss: 1.8426 - accuracy: 0.4837 - categorical_accuracy: 0.4939 - top_k_categorical_accuracy: 0.6599 - multiclass_true_positives: 714.0000 - val_loss: 2.0334 - val_accuracy: 0.4607 - val_categorical_accuracy: 0.5610 - val_top_k_categorical_accuracy: 0.6829 - val_multiclass_true_positives: 170.0000\n",
      "Epoch 85/100\n",
      "47/47 [==============================] - 1s 17ms/step - loss: 1.8466 - accuracy: 0.4953 - categorical_accuracy: 0.5217 - top_k_categorical_accuracy: 0.6965 - multiclass_true_positives: 731.0000 - val_loss: 2.0454 - val_accuracy: 0.4444 - val_categorical_accuracy: 0.5230 - val_top_k_categorical_accuracy: 0.6396 - val_multiclass_true_positives: 164.0000\n",
      "Epoch 86/100\n",
      "47/47 [==============================] - 1s 20ms/step - loss: 1.8292 - accuracy: 0.4919 - categorical_accuracy: 0.4973 - top_k_categorical_accuracy: 0.6768 - multiclass_true_positives: 726.0000 - val_loss: 2.0688 - val_accuracy: 0.4444 - val_categorical_accuracy: 0.4661 - val_top_k_categorical_accuracy: 0.6314 - val_multiclass_true_positives: 164.0000\n",
      "Epoch 87/100\n",
      "47/47 [==============================] - 1s 18ms/step - loss: 1.7973 - accuracy: 0.5000 - categorical_accuracy: 0.4864 - top_k_categorical_accuracy: 0.6795 - multiclass_true_positives: 738.0000 - val_loss: 2.0753 - val_accuracy: 0.4417 - val_categorical_accuracy: 0.3984 - val_top_k_categorical_accuracy: 0.4932 - val_multiclass_true_positives: 163.0000\n",
      "Epoch 88/100\n",
      "47/47 [==============================] - 1s 17ms/step - loss: 1.7955 - accuracy: 0.4932 - categorical_accuracy: 0.5027 - top_k_categorical_accuracy: 0.6768 - multiclass_true_positives: 728.0000 - val_loss: 2.0568 - val_accuracy: 0.4309 - val_categorical_accuracy: 0.5447 - val_top_k_categorical_accuracy: 0.7236 - val_multiclass_true_positives: 159.0000\n",
      "Epoch 89/100\n",
      "47/47 [==============================] - 1s 18ms/step - loss: 1.7970 - accuracy: 0.4959 - categorical_accuracy: 0.5020 - top_k_categorical_accuracy: 0.6619 - multiclass_true_positives: 732.0000 - val_loss: 2.0944 - val_accuracy: 0.4309 - val_categorical_accuracy: 0.5393 - val_top_k_categorical_accuracy: 0.6694 - val_multiclass_true_positives: 159.0000\n",
      "Epoch 90/100\n",
      "47/47 [==============================] - 1s 20ms/step - loss: 1.7875 - accuracy: 0.5027 - categorical_accuracy: 0.4898 - top_k_categorical_accuracy: 0.6633 - multiclass_true_positives: 742.0000 - val_loss: 2.1468 - val_accuracy: 0.4499 - val_categorical_accuracy: 0.5014 - val_top_k_categorical_accuracy: 0.6152 - val_multiclass_true_positives: 166.0000\n",
      "Epoch 91/100\n",
      "47/47 [==============================] - 1s 18ms/step - loss: 1.7650 - accuracy: 0.5007 - categorical_accuracy: 0.4912 - top_k_categorical_accuracy: 0.6504 - multiclass_true_positives: 739.0000 - val_loss: 2.2629 - val_accuracy: 0.4526 - val_categorical_accuracy: 0.4526 - val_top_k_categorical_accuracy: 0.5935 - val_multiclass_true_positives: 167.0000\n",
      "Epoch 92/100\n",
      "47/47 [==============================] - 1s 19ms/step - loss: 1.8031 - accuracy: 0.4959 - categorical_accuracy: 0.4953 - top_k_categorical_accuracy: 0.6660 - multiclass_true_positives: 732.0000 - val_loss: 2.1297 - val_accuracy: 0.4607 - val_categorical_accuracy: 0.4824 - val_top_k_categorical_accuracy: 0.6206 - val_multiclass_true_positives: 170.0000\n",
      "Epoch 93/100\n",
      "47/47 [==============================] - 1s 19ms/step - loss: 1.8217 - accuracy: 0.4986 - categorical_accuracy: 0.4736 - top_k_categorical_accuracy: 0.6362 - multiclass_true_positives: 736.0000 - val_loss: 2.0942 - val_accuracy: 0.4336 - val_categorical_accuracy: 0.4499 - val_top_k_categorical_accuracy: 0.5827 - val_multiclass_true_positives: 160.0000\n",
      "Epoch 94/100\n",
      "47/47 [==============================] - 1s 18ms/step - loss: 1.7971 - accuracy: 0.4953 - categorical_accuracy: 0.4831 - top_k_categorical_accuracy: 0.6450 - multiclass_true_positives: 731.0000 - val_loss: 2.0302 - val_accuracy: 0.4634 - val_categorical_accuracy: 0.4743 - val_top_k_categorical_accuracy: 0.6043 - val_multiclass_true_positives: 171.0000\n",
      "Epoch 95/100\n",
      "47/47 [==============================] - 1s 19ms/step - loss: 1.7466 - accuracy: 0.5129 - categorical_accuracy: 0.4824 - top_k_categorical_accuracy: 0.6524 - multiclass_true_positives: 757.0000 - val_loss: 2.2346 - val_accuracy: 0.4390 - val_categorical_accuracy: 0.4119 - val_top_k_categorical_accuracy: 0.4797 - val_multiclass_true_positives: 162.0000\n",
      "Epoch 96/100\n",
      "47/47 [==============================] - 1s 18ms/step - loss: 1.7550 - accuracy: 0.5041 - categorical_accuracy: 0.4600 - top_k_categorical_accuracy: 0.6267 - multiclass_true_positives: 744.0000 - val_loss: 2.1442 - val_accuracy: 0.4390 - val_categorical_accuracy: 0.5583 - val_top_k_categorical_accuracy: 0.6911 - val_multiclass_true_positives: 162.0000\n",
      "Epoch 97/100\n",
      "47/47 [==============================] - 1s 20ms/step - loss: 1.7606 - accuracy: 0.5027 - categorical_accuracy: 0.4810 - top_k_categorical_accuracy: 0.6287 - multiclass_true_positives: 742.0000 - val_loss: 2.2102 - val_accuracy: 0.4444 - val_categorical_accuracy: 0.6260 - val_top_k_categorical_accuracy: 0.7669 - val_multiclass_true_positives: 164.0000\n",
      "Epoch 98/100\n",
      "47/47 [==============================] - 1s 19ms/step - loss: 1.7330 - accuracy: 0.5149 - categorical_accuracy: 0.4729 - top_k_categorical_accuracy: 0.6382 - multiclass_true_positives: 760.0000 - val_loss: 2.1142 - val_accuracy: 0.4417 - val_categorical_accuracy: 0.4146 - val_top_k_categorical_accuracy: 0.5474 - val_multiclass_true_positives: 163.0000\n",
      "Epoch 99/100\n",
      "47/47 [==============================] - 1s 18ms/step - loss: 1.7308 - accuracy: 0.5041 - categorical_accuracy: 0.4675 - top_k_categorical_accuracy: 0.6260 - multiclass_true_positives: 744.0000 - val_loss: 2.1154 - val_accuracy: 0.4282 - val_categorical_accuracy: 0.5095 - val_top_k_categorical_accuracy: 0.6585 - val_multiclass_true_positives: 158.0000\n",
      "Epoch 100/100\n",
      "47/47 [==============================] - 1s 21ms/step - loss: 1.7497 - accuracy: 0.5102 - categorical_accuracy: 0.4614 - top_k_categorical_accuracy: 0.6070 - multiclass_true_positives: 753.0000 - val_loss: 2.1073 - val_accuracy: 0.4390 - val_categorical_accuracy: 0.5474 - val_top_k_categorical_accuracy: 0.7019 - val_multiclass_true_positives: 162.0000\n",
      "Best epoch: 17\n"
     ]
    }
   ],
   "source": [
    "# Get the optimal hyperparameters\n",
    "best_hps=tuner.get_best_hyperparameters(num_trials=1)[0]\n",
    "\n",
    "# Build the model with the optimal hyperparameters and train it on the data for 50 epochs\n",
    "model = tuner.hypermodel.build(best_hps)\n",
    "history = model.fit(X_train, y_train, epochs=100, validation_split=0.2)\n",
    "\n",
    "val_acc_per_epoch = history.history['val_accuracy']\n",
    "best_epoch = val_acc_per_epoch.index(max(val_acc_per_epoch)) + 1\n",
    "print('Best epoch: %d' % (best_epoch,))"
   ]
  },
  {
   "cell_type": "code",
   "execution_count": 30,
   "metadata": {},
   "outputs": [
    {
     "name": "stdout",
     "output_type": "stream",
     "text": [
      "Epoch 1/17\n",
      "45/47 [===========================>..] - ETA: 0s - loss: 4.8269 - accuracy: 0.1437 - categorical_accuracy: 0.2819 - top_k_categorical_accuracy: 0.6250 - multiclass_true_positives: 207.0000"
     ]
    },
    {
     "name": "stderr",
     "output_type": "stream",
     "text": [
      "c:\\Users\\Edel\\.virtualenvs\\Desarrollo-OyWcDdAp\\lib\\site-packages\\keras\\src\\engine\\training.py:2620: UserWarning: Metric MulticlassTruePositives implements a `reset_states()` method; rename it to `reset_state()` (without the final \"s\"). The name `reset_states()` has been deprecated to improve API consistency.\n",
      "  m.reset_state()\n"
     ]
    },
    {
     "name": "stdout",
     "output_type": "stream",
     "text": [
      "47/47 [==============================] - 2s 22ms/step - loss: 4.7999 - accuracy: 0.1484 - categorical_accuracy: 0.2893 - top_k_categorical_accuracy: 0.6328 - multiclass_true_positives: 219.0000 - val_loss: 3.6268 - val_accuracy: 0.3279 - val_categorical_accuracy: 1.0000 - val_top_k_categorical_accuracy: 1.0000 - val_multiclass_true_positives: 121.0000\n",
      "Epoch 2/17\n",
      "47/47 [==============================] - 1s 16ms/step - loss: 3.4071 - accuracy: 0.2575 - categorical_accuracy: 0.5813 - top_k_categorical_accuracy: 0.9743 - multiclass_true_positives: 380.0000 - val_loss: 3.0156 - val_accuracy: 0.3279 - val_categorical_accuracy: 1.0000 - val_top_k_categorical_accuracy: 1.0000 - val_multiclass_true_positives: 121.0000\n",
      "Epoch 3/17\n",
      "47/47 [==============================] - 1s 17ms/step - loss: 2.8731 - accuracy: 0.2608 - categorical_accuracy: 0.7154 - top_k_categorical_accuracy: 0.9986 - multiclass_true_positives: 385.0000 - val_loss: 2.5621 - val_accuracy: 0.3279 - val_categorical_accuracy: 1.0000 - val_top_k_categorical_accuracy: 1.0000 - val_multiclass_true_positives: 121.0000\n",
      "Epoch 4/17\n",
      "47/47 [==============================] - 1s 17ms/step - loss: 2.6650 - accuracy: 0.2873 - categorical_accuracy: 0.7791 - top_k_categorical_accuracy: 1.0000 - multiclass_true_positives: 424.0000 - val_loss: 2.4259 - val_accuracy: 0.3279 - val_categorical_accuracy: 1.0000 - val_top_k_categorical_accuracy: 1.0000 - val_multiclass_true_positives: 121.0000\n",
      "Epoch 5/17\n",
      "47/47 [==============================] - 1s 18ms/step - loss: 2.5337 - accuracy: 0.2839 - categorical_accuracy: 0.8083 - top_k_categorical_accuracy: 1.0000 - multiclass_true_positives: 419.0000 - val_loss: 2.3555 - val_accuracy: 0.3279 - val_categorical_accuracy: 1.0000 - val_top_k_categorical_accuracy: 1.0000 - val_multiclass_true_positives: 121.0000\n",
      "Epoch 6/17\n",
      "47/47 [==============================] - 1s 16ms/step - loss: 2.4473 - accuracy: 0.2967 - categorical_accuracy: 0.8089 - top_k_categorical_accuracy: 1.0000 - multiclass_true_positives: 438.0000 - val_loss: 2.2937 - val_accuracy: 0.3279 - val_categorical_accuracy: 1.0000 - val_top_k_categorical_accuracy: 1.0000 - val_multiclass_true_positives: 121.0000\n",
      "Epoch 7/17\n",
      "47/47 [==============================] - 1s 16ms/step - loss: 2.4073 - accuracy: 0.3028 - categorical_accuracy: 0.8618 - top_k_categorical_accuracy: 1.0000 - multiclass_true_positives: 447.0000 - val_loss: 2.2618 - val_accuracy: 0.3279 - val_categorical_accuracy: 1.0000 - val_top_k_categorical_accuracy: 1.0000 - val_multiclass_true_positives: 121.0000\n",
      "Epoch 8/17\n",
      "47/47 [==============================] - 1s 16ms/step - loss: 2.3963 - accuracy: 0.3001 - categorical_accuracy: 0.7663 - top_k_categorical_accuracy: 1.0000 - multiclass_true_positives: 443.0000 - val_loss: 2.2499 - val_accuracy: 0.3469 - val_categorical_accuracy: 0.9051 - val_top_k_categorical_accuracy: 1.0000 - val_multiclass_true_positives: 128.0000\n",
      "Epoch 9/17\n",
      "47/47 [==============================] - 1s 15ms/step - loss: 2.3534 - accuracy: 0.3293 - categorical_accuracy: 0.7642 - top_k_categorical_accuracy: 1.0000 - multiclass_true_positives: 486.0000 - val_loss: 2.2188 - val_accuracy: 0.3523 - val_categorical_accuracy: 0.8889 - val_top_k_categorical_accuracy: 1.0000 - val_multiclass_true_positives: 130.0000\n",
      "Epoch 10/17\n",
      "47/47 [==============================] - 1s 16ms/step - loss: 2.3288 - accuracy: 0.3489 - categorical_accuracy: 0.7087 - top_k_categorical_accuracy: 1.0000 - multiclass_true_positives: 515.0000 - val_loss: 2.1987 - val_accuracy: 0.4119 - val_categorical_accuracy: 0.6829 - val_top_k_categorical_accuracy: 1.0000 - val_multiclass_true_positives: 152.0000\n",
      "Epoch 11/17\n",
      "47/47 [==============================] - 1s 16ms/step - loss: 2.3048 - accuracy: 0.3625 - categorical_accuracy: 0.6430 - top_k_categorical_accuracy: 1.0000 - multiclass_true_positives: 535.0000 - val_loss: 2.2443 - val_accuracy: 0.4282 - val_categorical_accuracy: 0.5691 - val_top_k_categorical_accuracy: 1.0000 - val_multiclass_true_positives: 158.0000\n",
      "Epoch 12/17\n",
      "47/47 [==============================] - 1s 17ms/step - loss: 2.2770 - accuracy: 0.3726 - categorical_accuracy: 0.6592 - top_k_categorical_accuracy: 1.0000 - multiclass_true_positives: 550.0000 - val_loss: 2.1579 - val_accuracy: 0.4092 - val_categorical_accuracy: 0.6938 - val_top_k_categorical_accuracy: 1.0000 - val_multiclass_true_positives: 151.0000\n",
      "Epoch 13/17\n",
      "47/47 [==============================] - 1s 16ms/step - loss: 2.2448 - accuracy: 0.4092 - categorical_accuracy: 0.5820 - top_k_categorical_accuracy: 1.0000 - multiclass_true_positives: 604.0000 - val_loss: 2.2101 - val_accuracy: 0.4201 - val_categorical_accuracy: 0.3930 - val_top_k_categorical_accuracy: 1.0000 - val_multiclass_true_positives: 155.0000\n",
      "Epoch 14/17\n",
      "47/47 [==============================] - 1s 15ms/step - loss: 2.2451 - accuracy: 0.4051 - categorical_accuracy: 0.4946 - top_k_categorical_accuracy: 1.0000 - multiclass_true_positives: 598.0000 - val_loss: 2.1403 - val_accuracy: 0.4472 - val_categorical_accuracy: 0.4770 - val_top_k_categorical_accuracy: 1.0000 - val_multiclass_true_positives: 165.0000\n",
      "Epoch 15/17\n",
      "47/47 [==============================] - 1s 17ms/step - loss: 2.2101 - accuracy: 0.4160 - categorical_accuracy: 0.5020 - top_k_categorical_accuracy: 1.0000 - multiclass_true_positives: 614.0000 - val_loss: 2.1944 - val_accuracy: 0.4173 - val_categorical_accuracy: 0.3252 - val_top_k_categorical_accuracy: 1.0000 - val_multiclass_true_positives: 154.0000\n",
      "Epoch 16/17\n",
      "47/47 [==============================] - 1s 16ms/step - loss: 2.1990 - accuracy: 0.4228 - categorical_accuracy: 0.4661 - top_k_categorical_accuracy: 1.0000 - multiclass_true_positives: 624.0000 - val_loss: 2.1030 - val_accuracy: 0.4580 - val_categorical_accuracy: 0.5474 - val_top_k_categorical_accuracy: 1.0000 - val_multiclass_true_positives: 169.0000\n",
      "Epoch 17/17\n",
      "47/47 [==============================] - 1s 15ms/step - loss: 2.1990 - accuracy: 0.4234 - categorical_accuracy: 0.4641 - top_k_categorical_accuracy: 1.0000 - multiclass_true_positives: 625.0000 - val_loss: 2.0983 - val_accuracy: 0.4417 - val_categorical_accuracy: 0.5637 - val_top_k_categorical_accuracy: 1.0000 - val_multiclass_true_positives: 163.0000\n"
     ]
    },
    {
     "data": {
      "text/plain": [
       "<keras.src.callbacks.History at 0x1bf136b15a0>"
      ]
     },
     "execution_count": 30,
     "metadata": {},
     "output_type": "execute_result"
    }
   ],
   "source": [
    "hypermodel = tuner.hypermodel.build(best_hps)\n",
    "\n",
    "# Retrain the model\n",
    "hypermodel.fit(X_train, y_train, epochs=best_epoch, validation_split=0.2)"
   ]
  },
  {
   "cell_type": "code",
   "execution_count": 31,
   "metadata": {},
   "outputs": [
    {
     "name": "stdout",
     "output_type": "stream",
     "text": [
      "15/15 [==============================] - 0s 6ms/step - loss: 2.1777 - accuracy: 0.4394 - categorical_accuracy: 0.5476 - top_k_categorical_accuracy: 0.7208 - multiclass_true_positives: 203.0000\n",
      "test loss: 2.177687168121338, test accuracy: 0.43939393758773804\n"
     ]
    },
    {
     "name": "stderr",
     "output_type": "stream",
     "text": [
      "c:\\Users\\Edel\\.virtualenvs\\Desarrollo-OyWcDdAp\\lib\\site-packages\\keras\\src\\engine\\training.py:2620: UserWarning: Metric MulticlassTruePositives implements a `reset_states()` method; rename it to `reset_state()` (without the final \"s\"). The name `reset_states()` has been deprecated to improve API consistency.\n",
      "  m.reset_state()\n"
     ]
    }
   ],
   "source": [
    "# Evaluate the result\n",
    "eval_result = model.evaluate(X_test, y_test)\n",
    "print(f\"test loss: {eval_result[0]}, test accuracy: {eval_result[1]}\")"
   ]
  },
  {
   "cell_type": "code",
   "execution_count": 32,
   "metadata": {},
   "outputs": [
    {
     "name": "stdout",
     "output_type": "stream",
     "text": [
      "15/15 [==============================] - 0s 5ms/step\n",
      "              precision    recall  f1-score   support\n",
      "\n",
      "           0       0.51      0.91      0.65       141\n",
      "           1       0.00      0.00      0.00        25\n",
      "           2       0.48      0.67      0.56       103\n",
      "           3       0.00      0.00      0.00        25\n",
      "           4       0.00      0.00      0.00        12\n",
      "           5       0.17      0.08      0.11        24\n",
      "           6       0.00      0.00      0.00        17\n",
      "           7       0.08      0.17      0.11        24\n",
      "           8       0.00      0.00      0.00        16\n",
      "           9       0.00      0.00      0.00        10\n",
      "          10       0.00      0.00      0.00         7\n",
      "          11       0.00      0.00      0.00        12\n",
      "          12       0.00      0.00      0.00         8\n",
      "          13       0.00      0.00      0.00         6\n",
      "          14       0.00      0.00      0.00         4\n",
      "          15       0.00      0.00      0.00         4\n",
      "          16       0.00      0.00      0.00        11\n",
      "          17       0.00      0.00      0.00         5\n",
      "          18       0.00      0.00      0.00         8\n",
      "\n",
      "    accuracy                           0.44       462\n",
      "   macro avg       0.06      0.10      0.07       462\n",
      "weighted avg       0.27      0.44      0.33       462\n",
      "\n"
     ]
    },
    {
     "name": "stderr",
     "output_type": "stream",
     "text": [
      "c:\\Users\\Edel\\.virtualenvs\\Desarrollo-OyWcDdAp\\lib\\site-packages\\sklearn\\metrics\\_classification.py:1469: UndefinedMetricWarning: Precision and F-score are ill-defined and being set to 0.0 in labels with no predicted samples. Use `zero_division` parameter to control this behavior.\n",
      "  _warn_prf(average, modifier, msg_start, len(result))\n",
      "c:\\Users\\Edel\\.virtualenvs\\Desarrollo-OyWcDdAp\\lib\\site-packages\\sklearn\\metrics\\_classification.py:1469: UndefinedMetricWarning: Precision and F-score are ill-defined and being set to 0.0 in labels with no predicted samples. Use `zero_division` parameter to control this behavior.\n",
      "  _warn_prf(average, modifier, msg_start, len(result))\n",
      "c:\\Users\\Edel\\.virtualenvs\\Desarrollo-OyWcDdAp\\lib\\site-packages\\sklearn\\metrics\\_classification.py:1469: UndefinedMetricWarning: Precision and F-score are ill-defined and being set to 0.0 in labels with no predicted samples. Use `zero_division` parameter to control this behavior.\n",
      "  _warn_prf(average, modifier, msg_start, len(result))\n"
     ]
    }
   ],
   "source": [
    "y_pred = model.predict(X_test)\n",
    "predict = y_pred.argmax(axis=1)\n",
    "print(classification_report(y_test, predict))"
   ]
  },
  {
   "cell_type": "code",
   "execution_count": 33,
   "metadata": {},
   "outputs": [
    {
     "data": {
      "text/plain": [
       "<Axes: >"
      ]
     },
     "execution_count": 33,
     "metadata": {},
     "output_type": "execute_result"
    },
    {
     "data": {
      "image/png": "[encoded data removed]",
      "text/plain": [
       "<Figure size 640x480 with 2 Axes>"
      ]
     },
     "metadata": {},
     "output_type": "display_data"
    }
   ],
   "source": [
    "cm = confusion_matrix(y_test, predict)\n",
    "#sns.heatmap(cm, square=True, annot=True, cmap='Blues', fmt='d', cbar=False)\n",
    "sns.heatmap(cm, annot=True, cmap='Blues')"
   ]
  },
  {
   "cell_type": "code",
   "execution_count": null,
   "metadata": {},
   "outputs": [],
   "source": []
  }
 ],
 "metadata": {
  "kernelspec": {
   "display_name": "Desarrollo-OyWcDdAp",
   "language": "python",
   "name": "python3"
  },
  "language_info": {
   "codemirror_mode": {
    "name": "ipython",
    "version": 3
   },
   "file_extension": ".py",
   "mimetype": "text/x-python",
   "name": "python",
   "nbconvert_exporter": "python",
   "pygments_lexer": "ipython3",
   "version": "3.10.4"
  },
  "orig_nbformat": 4,
  "vscode": {
   "interpreter": {
    "hash": "0c86d74f942837168ba3eb0ab04c2d3bf4a14a75d7820611aca17ecb14925afc"
   }
  }
 },
 "nbformat": 4,
 "nbformat_minor": 2
}
