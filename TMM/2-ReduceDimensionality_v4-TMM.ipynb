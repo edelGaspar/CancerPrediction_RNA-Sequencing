{
 "cells": [
  {
   "attachments": {},
   "cell_type": "markdown",
   "metadata": {},
   "source": [
    "# Data preparation and analysis (with_outliers)\n"
   ]
  },
  {
   "attachments": {},
   "cell_type": "markdown",
   "metadata": {},
   "source": [
    "## Imports"
   ]
  },
  {
   "cell_type": "code",
   "execution_count": 1,
   "metadata": {},
   "outputs": [],
   "source": [
    "import os\n",
    "import numpy as np\n",
    "import pandas as pd\n",
    "import random\n",
    "import plotly.express as px\n",
    "import warnings\n",
    "from sklearn.model_selection import GridSearchCV\n",
    "from sklearn.svm import LinearSVC\n",
    "from sklearn.linear_model import LassoCV\n",
    "from sklearn.model_selection import cross_validate, train_test_split\n",
    "from sklearn import metrics\n",
    "from sklearn.linear_model import ElasticNetCV\n",
    "from sklearn.ensemble import RandomForestClassifier\n",
    "from sklearn.neighbors import KNeighborsClassifier\n",
    "from sklearn.feature_selection import RFE\n",
    "from sklearn.linear_model import LogisticRegression\n",
    "from sklearn.feature_selection import SelectKBest, f_classif\n",
    "import matplotlib.pyplot as plt"
   ]
  },
  {
   "attachments": {},
   "cell_type": "markdown",
   "metadata": {},
   "source": [
    "## Load Data"
   ]
  },
  {
   "cell_type": "code",
   "execution_count": 2,
   "metadata": {},
   "outputs": [],
   "source": [
    "#load dataframe\n",
    "\n",
    "#outlier_folder = \"witout_outliers\"\n",
    "outlier_folder = \"with_outliers\"\n",
    "df_genes_labels_file = f'Data/{outlier_folder}/df_genes_labels_tmm.pkl'\n",
    "if os.path.exists(df_genes_labels_file):\n",
    "    df_genes_labels = pd.read_pickle(df_genes_labels_file)\n",
    "else:\n",
    "    raise Exception(\"You need to run the notebook \\\"PrepareDataExploratoryAnalysis\\\".\")\n",
    "\n",
    "df_genes_labels[['Classification', 'Patient_group', 'Center',\n",
    " 'Source', 'Cell_type', 'Group', 'Stage', 'Sex']] = df_genes_labels[['Classification', 'Patient_group', 'Center',\n",
    "  'Source', 'Cell_type', 'Group', 'Stage', 'Sex']].apply(lambda x: pd.factorize(x)[0])\n",
    "\n",
    "expression_data = df_genes_labels.iloc[:, :5440]\n",
    "labels = df_genes_labels.iloc[:, 5440:5441].values.ravel()"
   ]
  },
  {
   "attachments": {},
   "cell_type": "markdown",
   "metadata": {},
   "source": [
    "## Reduce dimensionality\n",
    "\n",
    "References:\n",
    "\n",
    "https://www.researchgate.net/publication/339646247_Gene_Expression_Classification_Based_on_Deep_Learning <br>\n",
    "https://bmcbioinformatics.biomedcentral.com/articles/10.1186/s12859-021-04527-4 <br>\n",
    "https://arxiv.org/abs/2301.12222\n"
   ]
  },
  {
   "attachments": {},
   "cell_type": "markdown",
   "metadata": {},
   "source": [
    "### Useful functions"
   ]
  },
  {
   "cell_type": "code",
   "execution_count": 3,
   "metadata": {},
   "outputs": [],
   "source": [
    "# Estimate best hyperparams to SVC, RandomForest and K-NN\n",
    "# defining parameter range\n",
    "\n",
    "def estimate_hyper_svc(expression_data_selected, labels, cores):\n",
    "    param_grid = {\n",
    "        'tol': [0.1, 0.01, 0.001, 0.0001, 1e-4, 1e-5, 1e-6],\n",
    "        'dual':[True],\n",
    "        'multi_class':['ovr', 'crammer_singer'],\n",
    "        'class_weight': ('balanced', 'None')} \n",
    "    grid = GridSearchCV(LinearSVC(), param_grid, refit = True, verbose = 1, scoring='roc_auc', n_jobs=cores)\n",
    "    X_train, X_test, y_train, y_test = train_test_split(expression_data_selected, labels, test_size=0.40, random_state=42, stratify=labels)\n",
    "    with warnings.catch_warnings():\n",
    "        warnings.simplefilter('ignore')\n",
    "        grid.fit(X_train, y_train)\n",
    "    # print best score\n",
    "    print(grid.best_score_)\n",
    "    # print best parameter after tuning\n",
    "    print(grid.best_params_)\n",
    "    # print how our model looks after hyper-parameter tuning\n",
    "    print(grid.best_estimator_)\n",
    "    return grid\n",
    "\n",
    "def estimate_hyper_rf(expression_data_selected, labels, cores):\n",
    "    param_grid = {\n",
    "    'bootstrap': [True],\n",
    "    'max_depth': [80, 90, 100, 110],\n",
    "    'max_features': [2, 3],\n",
    "    'min_samples_leaf': [3, 4, 5],\n",
    "    'min_samples_split': [8, 10, 12],\n",
    "    'n_estimators': [100, 200, 300, 1000]}\n",
    "    grid = GridSearchCV(estimator = RandomForestClassifier(), param_grid = param_grid, cv = 3, n_jobs = cores, verbose = 1)\n",
    "    X_train, X_test, y_train, y_test = train_test_split(expression_data_selected, labels, test_size=0.40, random_state=42, stratify=labels)\n",
    "    with warnings.catch_warnings():\n",
    "        warnings.simplefilter('ignore')\n",
    "        grid.fit(X_train, y_train)\n",
    "    # print best score\n",
    "    print(grid.best_score_)\n",
    "    # print best parameter after tuning\n",
    "    print(grid.best_params_)\n",
    "    # print how our model looks after hyper-parameter tuning\n",
    "    print(grid.best_estimator_)\n",
    "    return grid\n",
    "\n",
    "def estimate_hyper_knn(expression_data_selected, labels, cores):\n",
    "    k_range = list(range(1, 50))\n",
    "    param_grid = dict(n_neighbors=k_range)\n",
    "    grid = GridSearchCV(estimator = KNeighborsClassifier(), param_grid = param_grid, cv = 3, n_jobs = cores, verbose = 1, scoring='accuracy')\n",
    "    X_train, X_test, y_train, y_test = train_test_split(expression_data_selected, labels, test_size=0.40, random_state=42, stratify=labels)\n",
    "    with warnings.catch_warnings():\n",
    "        warnings.simplefilter('ignore')\n",
    "        grid.fit(X_train, y_train)\n",
    "    # print best score\n",
    "    print(grid.best_score_)\n",
    "    # print best parameter after tuning\n",
    "    print(grid.best_params_)\n",
    "    # print how our model looks after hyper-parameter tuning\n",
    "    print(grid.best_estimator_)\n",
    "    return grid\n",
    "\n",
    "def print_evaluate(model, test_features, test_labels):\n",
    "    predictions = model.predict(test_features)\n",
    "    errors = abs(predictions - test_labels)\n",
    "    print('Model Performance with best hyperparameters')\n",
    "    print('Average Error: {:0.4f} degrees.'.format(np.mean(errors)))\n",
    "    print(\"Accuracy score %.3f\" %metrics.accuracy_score(test_labels, predictions))\n",
    "\n",
    "def run_model(model, expression_data, labels):\n",
    "    X_train, X_test, y_train, y_test = train_test_split(expression_data, labels, test_size=0.40, random_state=42, stratify=labels)\n",
    "    with warnings.catch_warnings():\n",
    "        warnings.simplefilter('ignore')\n",
    "        model.fit(X_train, y_train)\n",
    "    scores = model.score(X_test, y_test)\n",
    "    y_pred = model.predict(X_test)        \n",
    "    print_evaluate(model, X_test, y_test)\n",
    "\n",
    "def evaluate_models(expression_data_selected, labels):\n",
    "    print('---SVC---')\n",
    "    grid = estimate_hyper_svc(expression_data_selected, labels, -1)\n",
    "    # Run model with parameters obtained\n",
    "    run_model(grid.best_estimator_, expression_data_selected, labels)\n",
    "    print('---Random Forest---')\n",
    "    grid = estimate_hyper_rf(expression_data_selected, labels, -1)\n",
    "    # Run model with parameters obtained\n",
    "    run_model(grid.best_estimator_, expression_data_selected, labels)\n",
    "    print('---K-NN---')\n",
    "    grid = estimate_hyper_knn(expression_data_selected, labels, -1)\n",
    "    # Run model with parameters obtained\n",
    "    run_model(grid.best_estimator_, expression_data_selected, labels)"
   ]
  },
  {
   "attachments": {},
   "cell_type": "markdown",
   "metadata": {},
   "source": [
    "### Embedded methods (Lasso (L1 regression) and decision trees (feature importance based on purity))"
   ]
  },
  {
   "cell_type": "code",
   "execution_count": 4,
   "metadata": {},
   "outputs": [],
   "source": [
    "# load/save result (10 min)\n",
    "df_genes_labels_file = f'Data/{outlier_folder}/df_expression_data_lasso_tmm.pkl'\n",
    "if os.path.exists(df_genes_labels_file):\n",
    "    df_expression_data_selected_lasso = pd.read_pickle(df_genes_labels_file)    \n",
    "else:\n",
    "    k = 50 # number of features (genes) to select\n",
    "    with warnings.catch_warnings():\n",
    "        warnings.simplefilter('ignore')\n",
    "        lasso = LassoCV(cv=5, n_jobs=-1).fit(expression_data, labels)\n",
    "    coef = np.abs(lasso.coef_)\n",
    "    important_genes = coef.argsort()[-k:][::-1]\n",
    "    df_expression_data_selected_lasso = expression_data.iloc[:, important_genes]\n",
    "    df_expression_data_selected_lasso.to_pickle(df_genes_labels_file)"
   ]
  },
  {
   "cell_type": "code",
   "execution_count": 9,
   "metadata": {},
   "outputs": [
    {
     "name": "stdout",
     "output_type": "stream",
     "text": [
      "---SVC---\n",
      "Fitting 5 folds for each of 28 candidates, totalling 140 fits\n",
      "0.8802098685628097\n",
      "{'class_weight': 'balanced', 'dual': True, 'multi_class': 'crammer_singer', 'tol': 1e-06}\n",
      "LinearSVC(class_weight='balanced', multi_class='crammer_singer', tol=1e-06)\n",
      "Model Performance with best hyperparameters\n",
      "Average Error: 0.2019 degrees.\n",
      "Accuracy score 0.798\n",
      "---Random Forest---\n",
      "Fitting 3 folds for each of 288 candidates, totalling 864 fits\n",
      "0.785106219330226\n",
      "{'bootstrap': True, 'max_depth': 100, 'max_features': 3, 'min_samples_leaf': 3, 'min_samples_split': 12, 'n_estimators': 200}\n",
      "RandomForestClassifier(max_depth=100, max_features=3, min_samples_leaf=3,\n",
      "                       min_samples_split=12, n_estimators=200)\n",
      "Model Performance with best hyperparameters\n",
      "Average Error: 0.1966 degrees.\n",
      "Accuracy score 0.803\n",
      "---K-NN---\n",
      "Fitting 3 folds for each of 49 candidates, totalling 147 fits\n",
      "0.7979848324026643\n",
      "{'n_neighbors': 7}\n",
      "KNeighborsClassifier(n_neighbors=7)\n",
      "Model Performance with best hyperparameters\n",
      "Average Error: 0.1998 degrees.\n",
      "Accuracy score 0.800\n"
     ]
    }
   ],
   "source": [
    "# Evaluate features selected in SVC, Random Forest and K-NN models (10 min)\n",
    "evaluate_models(df_expression_data_selected_lasso, labels)"
   ]
  },
  {
   "attachments": {},
   "cell_type": "markdown",
   "metadata": {},
   "source": [
    "### Regularization methods (Elastic Net (L1 and L2) regression)"
   ]
  },
  {
   "cell_type": "code",
   "execution_count": 10,
   "metadata": {},
   "outputs": [],
   "source": [
    "# load/save result (69 min)\n",
    "df_genes_labels_file =f'Data/{outlier_folder}/df_expression_data_reg_Elastic_net_tmm.pkl'\n",
    "if os.path.exists(df_genes_labels_file):\n",
    "    df_expression_data_selected_elastic_net = pd.read_pickle(df_genes_labels_file)    \n",
    "else:\n",
    "    k = 50 # number of features (genes) to select\n",
    "    with warnings.catch_warnings():\n",
    "        warnings.simplefilter('ignore')\n",
    "        elastic_net = ElasticNetCV(l1_ratio=[.1, .5, .7, .9, .95, .99, 1], cv=5, n_jobs=-1).fit(expression_data, labels)\n",
    "    coef = np.abs(elastic_net.coef_)\n",
    "    important_genes = coef.argsort()[-k:][::-1]\n",
    "    df_expression_data_selected_elastic_net = expression_data.iloc[:, important_genes]\n",
    "    df_expression_data_selected_elastic_net.to_pickle(df_genes_labels_file)"
   ]
  },
  {
   "cell_type": "code",
   "execution_count": 11,
   "metadata": {},
   "outputs": [
    {
     "name": "stdout",
     "output_type": "stream",
     "text": [
      "---SVC---\n",
      "Fitting 5 folds for each of 28 candidates, totalling 140 fits\n",
      "0.880068950657186\n",
      "{'class_weight': 'balanced', 'dual': True, 'multi_class': 'ovr', 'tol': 0.01}\n",
      "LinearSVC(class_weight='balanced', tol=0.01)\n",
      "Model Performance with best hyperparameters\n",
      "Average Error: 0.2299 degrees.\n",
      "Accuracy score 0.770\n",
      "---Random Forest---\n",
      "Fitting 3 folds for each of 288 candidates, totalling 864 fits\n",
      "0.7843909117479656\n",
      "{'bootstrap': True, 'max_depth': 110, 'max_features': 3, 'min_samples_leaf': 4, 'min_samples_split': 8, 'n_estimators': 200}\n",
      "RandomForestClassifier(max_depth=110, max_features=3, min_samples_leaf=4,\n",
      "                       min_samples_split=8, n_estimators=200)\n",
      "Model Performance with best hyperparameters\n",
      "Average Error: 0.1890 degrees.\n",
      "Accuracy score 0.811\n",
      "---K-NN---\n",
      "Fitting 3 folds for each of 49 candidates, totalling 147 fits\n",
      "0.7958358330641314\n",
      "{'n_neighbors': 15}\n",
      "KNeighborsClassifier(n_neighbors=15)\n",
      "Model Performance with best hyperparameters\n",
      "Average Error: 0.1805 degrees.\n",
      "Accuracy score 0.820\n"
     ]
    }
   ],
   "source": [
    "# Evaluate features selected in SVC, Random Forest and K-NN models (10 min)\n",
    "evaluate_models(df_expression_data_selected_elastic_net, labels)"
   ]
  },
  {
   "attachments": {},
   "cell_type": "markdown",
   "metadata": {},
   "source": [
    "### Wrapper methods (Recursive Feauture Elimination(RFE) and sequential forward or back selection)"
   ]
  },
  {
   "cell_type": "code",
   "execution_count": 12,
   "metadata": {},
   "outputs": [],
   "source": [
    "# load/save result (176 min)\n",
    "df_genes_labels_file =f'Data/{outlier_folder}/df_expression_data_rfe_tmm.pkl'\n",
    "if os.path.exists(df_genes_labels_file):\n",
    "     df_expression_data_selected_rfe = pd.read_pickle(df_genes_labels_file)    \n",
    "else:\n",
    "     k = 50 # number of features (genes) to select\n",
    "     selector = RFE(LogisticRegression(n_jobs=-1), n_features_to_select=k, step=1)\n",
    "     expression_data_selected_rfe = selector.fit_transform(expression_data, labels)\n",
    "     df_expression_data_selected_rfe = expression_data[selector.get_feature_names_out()]\n",
    "     df_expression_data_selected_rfe.to_pickle(df_genes_labels_file)"
   ]
  },
  {
   "cell_type": "code",
   "execution_count": 13,
   "metadata": {},
   "outputs": [
    {
     "name": "stdout",
     "output_type": "stream",
     "text": [
      "---SVC---\n",
      "Fitting 5 folds for each of 28 candidates, totalling 140 fits\n",
      "0.9060008618832148\n",
      "{'class_weight': 'balanced', 'dual': True, 'multi_class': 'ovr', 'tol': 0.0001}\n",
      "LinearSVC(class_weight='balanced')\n",
      "Model Performance with best hyperparameters\n",
      "Average Error: 0.2470 degrees.\n",
      "Accuracy score 0.753\n",
      "---Random Forest---\n",
      "Fitting 3 folds for each of 288 candidates, totalling 864 fits\n",
      "0.7729352223606689\n",
      "{'bootstrap': True, 'max_depth': 90, 'max_features': 3, 'min_samples_leaf': 3, 'min_samples_split': 8, 'n_estimators': 200}\n",
      "RandomForestClassifier(max_depth=90, max_features=3, min_samples_leaf=3,\n",
      "                       min_samples_split=8, n_estimators=200)\n",
      "Model Performance with best hyperparameters\n",
      "Average Error: 0.2137 degrees.\n",
      "Accuracy score 0.786\n",
      "---K-NN---\n",
      "Fitting 3 folds for each of 49 candidates, totalling 147 fits\n",
      "0.7822465272970603\n",
      "{'n_neighbors': 36}\n",
      "KNeighborsClassifier(n_neighbors=36)\n",
      "Model Performance with best hyperparameters\n",
      "Average Error: 0.1933 degrees.\n",
      "Accuracy score 0.807\n"
     ]
    }
   ],
   "source": [
    "# Evaluate features selected in SVC, Random Forest and K-NN models (10 min)\n",
    "evaluate_models(df_expression_data_selected_rfe, labels)"
   ]
  },
  {
   "attachments": {},
   "cell_type": "markdown",
   "metadata": {},
   "source": [
    "### Filter methods (t-test, chi-square test, Pearson correlation, or mutual information)"
   ]
  },
  {
   "cell_type": "code",
   "execution_count": 14,
   "metadata": {},
   "outputs": [],
   "source": [
    "# load/save result (35 min)\n",
    "df_genes_labels_file =f'Data/{outlier_folder}/df_expression_data_filter_methods_tmm.pkl'\n",
    "if os.path.exists(df_genes_labels_file):\n",
    "     df_expression_data_selected_filters = pd.read_pickle(df_genes_labels_file)    \n",
    "else:\n",
    "     k = 50 # number of features (genes) to select\n",
    "     selector = SelectKBest(f_classif, k=k)\n",
    "     expression_data_selected_filters = selector.fit_transform(expression_data, labels)\n",
    "     df_expression_data_selected_filters = expression_data[selector.get_feature_names_out()]\n",
    "     df_expression_data_selected_filters.to_pickle(df_genes_labels_file)"
   ]
  },
  {
   "cell_type": "code",
   "execution_count": 15,
   "metadata": {},
   "outputs": [
    {
     "name": "stdout",
     "output_type": "stream",
     "text": [
      "---SVC---\n",
      "Fitting 5 folds for each of 28 candidates, totalling 140 fits\n",
      "0.80647848883143\n",
      "{'class_weight': 'balanced', 'dual': True, 'multi_class': 'crammer_singer', 'tol': 0.0001}\n",
      "LinearSVC(class_weight='balanced', multi_class='crammer_singer')\n",
      "Model Performance with best hyperparameters\n",
      "Average Error: 0.2331 degrees.\n",
      "Accuracy score 0.767\n",
      "---Random Forest---\n",
      "Fitting 3 folds for each of 288 candidates, totalling 864 fits\n",
      "0.7750703770363191\n",
      "{'bootstrap': True, 'max_depth': 110, 'max_features': 2, 'min_samples_leaf': 3, 'min_samples_split': 8, 'n_estimators': 100}\n",
      "RandomForestClassifier(max_depth=110, max_features=2, min_samples_leaf=3,\n",
      "                       min_samples_split=8)\n",
      "Model Performance with best hyperparameters\n",
      "Average Error: 0.2202 degrees.\n",
      "Accuracy score 0.780\n",
      "---K-NN---\n",
      "Fitting 3 folds for each of 49 candidates, totalling 147 fits\n",
      "0.774353531158183\n",
      "{'n_neighbors': 21}\n",
      "KNeighborsClassifier(n_neighbors=21)\n",
      "Model Performance with best hyperparameters\n",
      "Average Error: 0.2137 degrees.\n",
      "Accuracy score 0.786\n"
     ]
    }
   ],
   "source": [
    "# Evaluate features selected in SVC, Random Forest and K-NN models (10 min)\n",
    "evaluate_models(df_expression_data_selected_filters, labels)"
   ]
  },
  {
   "attachments": {},
   "cell_type": "markdown",
   "metadata": {},
   "source": [
    "### Compare feture sets and extract commun genes"
   ]
  },
  {
   "cell_type": "code",
   "execution_count": 16,
   "metadata": {},
   "outputs": [
    {
     "name": "stdout",
     "output_type": "stream",
     "text": [
      "[]\n"
     ]
    }
   ],
   "source": [
    "common_genes_four_selection = np.intersect1d(np.intersect1d(df_expression_data_selected_lasso.columns, df_expression_data_selected_elastic_net.columns),\n",
    "                            np.intersect1d(df_expression_data_selected_rfe.columns, df_expression_data_selected_filters.columns))\n",
    "print(common_genes_four_selection)"
   ]
  },
  {
   "cell_type": "code",
   "execution_count": 17,
   "metadata": {},
   "outputs": [
    {
     "name": "stdout",
     "output_type": "stream",
     "text": [
      "['ENSG00000012223' 'ENSG00000069535' 'ENSG00000070961' 'ENSG00000096060'\n",
      " 'ENSG00000100079' 'ENSG00000102781' 'ENSG00000103316' 'ENSG00000103423'\n",
      " 'ENSG00000103495' 'ENSG00000107742' 'ENSG00000108264' 'ENSG00000115457'\n",
      " 'ENSG00000115738' 'ENSG00000116191' 'ENSG00000118503' 'ENSG00000120656'\n",
      " 'ENSG00000122965' 'ENSG00000125124' 'ENSG00000130948' 'ENSG00000134574'\n",
      " 'ENSG00000138795' 'ENSG00000142089' 'ENSG00000142856' 'ENSG00000143546'\n",
      " 'ENSG00000143669' 'ENSG00000151789' 'ENSG00000154917' 'ENSG00000157193'\n",
      " 'ENSG00000158578' 'ENSG00000163131' 'ENSG00000164091' 'ENSG00000164116'\n",
      " 'ENSG00000164674' 'ENSG00000167286' 'ENSG00000169429' 'ENSG00000174365'\n",
      " 'ENSG00000180817' 'ENSG00000182463' 'ENSG00000184613' 'ENSG00000184634'\n",
      " 'ENSG00000203875' 'ENSG00000213465' 'ENSG00000228651' 'ENSG00000238683'\n",
      " 'ENSG00000240225' 'ENSG00000260661' 'ENSG00000269028']\n",
      "Number of common elements 47\n"
     ]
    }
   ],
   "source": [
    "common_genes_Lasso_EkastinNet = np.intersect1d(df_expression_data_selected_lasso.columns,\n",
    "                                                df_expression_data_selected_elastic_net.columns)\n",
    "print(common_genes_Lasso_EkastinNet)\n",
    "print(f'Number of common elements {len(common_genes_Lasso_EkastinNet)}')"
   ]
  },
  {
   "cell_type": "code",
   "execution_count": 18,
   "metadata": {},
   "outputs": [
    {
     "data": {
      "image/png": "[encoded data removed]",
      "text/plain": [
       "<Figure size 640x480 with 1 Axes>"
      ]
     },
     "metadata": {},
     "output_type": "display_data"
    }
   ],
   "source": [
    "all_genes = np.concatenate((df_expression_data_selected_lasso.columns,\n",
    "                            df_expression_data_selected_elastic_net.columns,\n",
    "                            df_expression_data_selected_rfe.columns,\n",
    "                            df_expression_data_selected_filters.columns))\n",
    "items, amounts = np.unique(all_genes, return_counts=True)\n",
    "filtered_items = items[amounts > 2]\n",
    "filtered_amounts = amounts[amounts > 2]\n",
    "\n",
    "sorted_indexes = np.argsort(filtered_amounts)[::-1]\n",
    "sorted_items = filtered_items[sorted_indexes]\n",
    "sorted_amounts = filtered_amounts[sorted_indexes]\n",
    "plt.bar(sorted_items, sorted_amounts)\n",
    "plt.xlabel('Genes')\n",
    "plt.ylabel('Amounts')\n",
    "plt.xticks(rotation=45)\n",
    "plt.yticks(np.arange(1, 5))\n",
    "plt.title('Number of times a gene appears in the selection')\n",
    "plt.show()"
   ]
  },
  {
   "cell_type": "code",
   "execution_count": 19,
   "metadata": {},
   "outputs": [],
   "source": [
    "df_genes_labels_file = f'Data/{outlier_folder}/df_six_main_tmm.pkl'\n",
    "df_six_principals = expression_data[sorted_items]\n",
    "df_six_principals.to_pickle(df_genes_labels_file)"
   ]
  },
  {
   "cell_type": "code",
   "execution_count": 20,
   "metadata": {},
   "outputs": [
    {
     "name": "stdout",
     "output_type": "stream",
     "text": [
      "---SVC---\n",
      "Fitting 5 folds for each of 28 candidates, totalling 140 fits\n",
      "0.8070924369747899\n",
      "{'class_weight': 'balanced', 'dual': True, 'multi_class': 'ovr', 'tol': 0.0001}\n",
      "LinearSVC(class_weight='balanced')\n",
      "Model Performance with best hyperparameters\n",
      "Average Error: 0.2159 degrees.\n",
      "Accuracy score 0.784\n",
      "---Random Forest---\n",
      "Fitting 3 folds for each of 288 candidates, totalling 864 fits\n",
      "0.7636239174242774\n",
      "{'bootstrap': True, 'max_depth': 90, 'max_features': 3, 'min_samples_leaf': 3, 'min_samples_split': 8, 'n_estimators': 200}\n",
      "RandomForestClassifier(max_depth=90, max_features=3, min_samples_leaf=3,\n",
      "                       min_samples_split=8, n_estimators=200)\n",
      "Model Performance with best hyperparameters\n",
      "Average Error: 0.2019 degrees.\n",
      "Accuracy score 0.798\n",
      "---K-NN---\n",
      "Fitting 3 folds for each of 49 candidates, totalling 147 fits\n",
      "0.7593136123802052\n",
      "{'n_neighbors': 29}\n",
      "KNeighborsClassifier(n_neighbors=29)\n",
      "Model Performance with best hyperparameters\n",
      "Average Error: 0.2084 degrees.\n",
      "Accuracy score 0.792\n"
     ]
    }
   ],
   "source": [
    "evaluate_models(df_six_principals, labels)"
   ]
  },
  {
   "attachments": {},
   "cell_type": "markdown",
   "metadata": {},
   "source": []
  }
 ],
 "metadata": {
  "kernelspec": {
   "display_name": "Desarrollo-OyWcDdAp",
   "language": "python",
   "name": "python3"
  },
  "language_info": {
   "codemirror_mode": {
    "name": "ipython",
    "version": 3
   },
   "file_extension": ".py",
   "mimetype": "text/x-python",
   "name": "python",
   "nbconvert_exporter": "python",
   "pygments_lexer": "ipython3",
   "version": "3.10.4"
  },
  "orig_nbformat": 4,
  "vscode": {
   "interpreter": {
    "hash": "0c86d74f942837168ba3eb0ab04c2d3bf4a14a75d7820611aca17ecb14925afc"
   }
  }
 },
 "nbformat": 4,
 "nbformat_minor": 2
}
