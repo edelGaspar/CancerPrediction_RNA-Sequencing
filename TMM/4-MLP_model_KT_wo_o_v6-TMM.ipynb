{
 "cells": [
  {
   "attachments": {},
   "cell_type": "markdown",
   "metadata": {},
   "source": [
    "## DNN Model for binary classification Cancer or No Cancer"
   ]
  },
  {
   "attachments": {},
   "cell_type": "markdown",
   "metadata": {},
   "source": [
    "## Imports"
   ]
  },
  {
   "cell_type": "code",
   "execution_count": 1,
   "metadata": {},
   "outputs": [],
   "source": [
    "import os\n",
    "import numpy as np\n",
    "import pandas as pd\n",
    "import tensorflow as tf\n",
    "import matplotlib.pyplot as plt\n",
    "from tensorflow import keras\n",
    "from sklearn.model_selection import train_test_split\n",
    "from sklearn.preprocessing import LabelEncoder\n",
    "from keras.models import Sequential\n",
    "from keras.layers import Dense, Dropout, BatchNormalization\n",
    "from keras.optimizers import SGD, Adam, Adamax, RMSprop\n",
    "from tensorflow.keras import layers, activations\n",
    "import keras_tuner as kt\n",
    "from statistics import mean\n",
    "from scikeras.wrappers import KerasClassifier\n",
    "from sklearn.model_selection import GridSearchCV\n",
    "from tensorflow.keras.callbacks import ModelCheckpoint\n"
   ]
  },
  {
   "attachments": {},
   "cell_type": "markdown",
   "metadata": {},
   "source": [
    "## Load Data"
   ]
  },
  {
   "cell_type": "code",
   "execution_count": 2,
   "metadata": {},
   "outputs": [
    {
     "name": "stdout",
     "output_type": "stream",
     "text": [
      "Cantidad de elementos por clase en TRAIN: \n",
      " Classification\n",
      "1                 1050\n",
      "0                  520\n",
      "Name: count, dtype: int64 \n",
      "\n",
      "Cantidad de elementos por clase en TEST: \n",
      " Classification\n",
      "1                 276\n",
      "0                 117\n",
      "Name: count, dtype: int64\n"
     ]
    }
   ],
   "source": [
    "#load dataframe\n",
    "outlier_folder = \"without_outliers\"\n",
    "#outlier_folder = \"with_outliers\"\n",
    "df_genes_labels_file = f'Data/{outlier_folder}/df_genes_labels.pkl'\n",
    "if os.path.exists(df_genes_labels_file):\n",
    "    df_genes_labels = pd.read_pickle(df_genes_labels_file)\n",
    "else:\n",
    "    raise Exception(\"You need to run the notebook \\\"PrepareDataExploratoryAnalysis\\\".\")\n",
    "\n",
    "df_genes_labels_file = f'Data/{outlier_folder}/df_expression_data_lasso.pkl'\n",
    "if os.path.exists(df_genes_labels_file):\n",
    "    df_genes_labels_selected = pd.read_pickle(df_genes_labels_file)\n",
    "else:\n",
    "    raise Exception(\"You need to run the notebook \\\"ReduceDimensionality\\\".\")\n",
    "\n",
    "labels = df_genes_labels.iloc[:, 5440:5441]\n",
    "\n",
    "X_train, X_test, y_train, y_test = train_test_split(df_genes_labels_selected, labels, test_size=0.2, random_state=42, shuffle=True)\n",
    "\n",
    "print(f'Cantidad de elementos por clase en TRAIN: \\n {y_train.value_counts()} \\n')\n",
    "print(f'Cantidad de elementos por clase en TEST: \\n {y_test.value_counts()}')"
   ]
  },
  {
   "cell_type": "code",
   "execution_count": 23,
   "metadata": {},
   "outputs": [],
   "source": [
    "def model_builder(hp):\n",
    "    classifier = Sequential()\n",
    "    hp_units_first_layer = hp.Int('units', min_value = 32, max_value = 128, default = 64, step = 32)\n",
    "    classifier.add(Dense(units = hp_units_first_layer, activation = 'relu', input_dim = 50))\n",
    "    \n",
    "    for i in range(hp.Int('units_layers', min_value = 1, max_value = 5, step = 1)):\n",
    "        classifier.add(Dense(units = hp.Int(f\"units_{i}\", min_value=32, max_value=512, step=32),\n",
    "                              activation = hp.Choice(\"activation\", [\"relu\", \"elu\"])))\n",
    "        if hp.Boolean(\"dropout_layer\"):\n",
    "            classifier.add(Dropout(rate=hp.Float(f\"dropout_rate_{i}\", min_value=0.2, max_value=0.5, default=0.25, step=0.05,)))\n",
    "    classifier.add(Dense(1, activation = 'sigmoid'))\n",
    "\n",
    "    hp_learning_rate = hp.Float(\"lr\", min_value=1e-8, max_value=1e-2, sampling=\"log\")\n",
    "    classifier.compile(optimizer=keras.optimizers.Adam(learning_rate=hp_learning_rate),\n",
    "                loss = 'binary_crossentropy', \n",
    "                metrics = ['accuracy'])\n",
    "\n",
    "    return classifier"
   ]
  },
  {
   "cell_type": "code",
   "execution_count": 25,
   "metadata": {},
   "outputs": [],
   "source": [
    "tuner = kt.RandomSearch(\n",
    "    hypermodel=model_builder,\n",
    "    objective=\"val_accuracy\",\n",
    "    max_trials=50,\n",
    "    executions_per_trial=5,\n",
    "    overwrite=True,\n",
    "    directory=\"Data/model_tests\",\n",
    "    project_name=\"cancer_classif_RS\",\n",
    ")"
   ]
  },
  {
   "cell_type": "code",
   "execution_count": 26,
   "metadata": {},
   "outputs": [
    {
     "name": "stdout",
     "output_type": "stream",
     "text": [
      "Search space summary\n",
      "Default search space size: 6\n",
      "units (Int)\n",
      "{'default': 64, 'conditions': [], 'min_value': 32, 'max_value': 128, 'step': 32, 'sampling': 'linear'}\n",
      "units_layers (Int)\n",
      "{'default': None, 'conditions': [], 'min_value': 1, 'max_value': 5, 'step': 1, 'sampling': 'linear'}\n",
      "units_0 (Int)\n",
      "{'default': None, 'conditions': [], 'min_value': 32, 'max_value': 512, 'step': 32, 'sampling': 'linear'}\n",
      "activation (Choice)\n",
      "{'default': 'relu', 'conditions': [], 'values': ['relu', 'elu'], 'ordered': False}\n",
      "dropout_layer (Boolean)\n",
      "{'default': False, 'conditions': []}\n",
      "lr (Float)\n",
      "{'default': 1e-08, 'conditions': [], 'min_value': 1e-08, 'max_value': 0.01, 'step': None, 'sampling': 'log'}\n"
     ]
    }
   ],
   "source": [
    "tuner.search_space_summary()"
   ]
  },
  {
   "cell_type": "code",
   "execution_count": 27,
   "metadata": {},
   "outputs": [
    {
     "name": "stdout",
     "output_type": "stream",
     "text": [
      "Trial 5 Complete [00h 01m 41s]\n",
      "val_accuracy: 0.7180661559104919\n",
      "\n",
      "Best val_accuracy So Far: 0.736386775970459\n",
      "Total elapsed time: 00h 06m 07s\n",
      "INFO:tensorflow:Oracle triggered exit\n"
     ]
    }
   ],
   "source": [
    "stop_early = tf.keras.callbacks.EarlyStopping(monitor='val_loss', patience=5)\n",
    "tuner.search(df_genes_labels_selected, labels, epochs=500, validation_split=0.2, callbacks=[stop_early])"
   ]
  },
  {
   "cell_type": "code",
   "execution_count": 28,
   "metadata": {},
   "outputs": [
    {
     "ename": "NameError",
     "evalue": "name 'labels_enc' is not defined",
     "output_type": "error",
     "traceback": [
      "\u001b[1;31m---------------------------------------------------------------------------\u001b[0m",
      "\u001b[1;31mNameError\u001b[0m                                 Traceback (most recent call last)",
      "Cell \u001b[1;32mIn[28], line 6\u001b[0m\n\u001b[0;32m      4\u001b[0m \u001b[39m# Build the model with the optimal hyperparameters and train it on the data for 50 epochs\u001b[39;00m\n\u001b[0;32m      5\u001b[0m model \u001b[39m=\u001b[39m tuner\u001b[39m.\u001b[39mhypermodel\u001b[39m.\u001b[39mbuild(best_hps)\n\u001b[1;32m----> 6\u001b[0m history \u001b[39m=\u001b[39m model\u001b[39m.\u001b[39mfit(df_genes_labels_selected, labels_enc, epochs\u001b[39m=\u001b[39m\u001b[39m50\u001b[39m, validation_split\u001b[39m=\u001b[39m\u001b[39m0.2\u001b[39m)\n\u001b[0;32m      8\u001b[0m val_acc_per_epoch \u001b[39m=\u001b[39m history\u001b[39m.\u001b[39mhistory[\u001b[39m'\u001b[39m\u001b[39mval_accuracy\u001b[39m\u001b[39m'\u001b[39m]\n\u001b[0;32m      9\u001b[0m best_epoch \u001b[39m=\u001b[39m val_acc_per_epoch\u001b[39m.\u001b[39mindex(\u001b[39mmax\u001b[39m(val_acc_per_epoch)) \u001b[39m+\u001b[39m \u001b[39m1\u001b[39m\n",
      "\u001b[1;31mNameError\u001b[0m: name 'labels_enc' is not defined"
     ]
    }
   ],
   "source": [
    "# Get the optimal hyperparameters\n",
    "best_hps=tuner.get_best_hyperparameters(num_trials=1)[0]\n",
    "\n",
    "# Build the model with the optimal hyperparameters and train it on the data for 50 epochs\n",
    "model = tuner.hypermodel.build(best_hps)\n",
    "history = model.fit(df_genes_labels_selected, labels_enc, epochs=50, validation_split=0.2)\n",
    "\n",
    "val_acc_per_epoch = history.history['val_accuracy']\n",
    "best_epoch = val_acc_per_epoch.index(max(val_acc_per_epoch)) + 1\n",
    "print('Best epoch: %d' % (best_epoch,))"
   ]
  },
  {
   "cell_type": "code",
   "execution_count": null,
   "metadata": {},
   "outputs": [
    {
     "name": "stdout",
     "output_type": "stream",
     "text": [
      "Epoch 1/7\n",
      "59/59 [==============================] - 1s 7ms/step - loss: 91.5646 - accuracy: 0.6321 - val_loss: 28.2322 - val_accuracy: 0.7021\n",
      "Epoch 2/7\n",
      "59/59 [==============================] - 0s 5ms/step - loss: 43.2920 - accuracy: 0.6560 - val_loss: 28.7553 - val_accuracy: 0.7043\n",
      "Epoch 3/7\n",
      "59/59 [==============================] - 0s 5ms/step - loss: 29.1624 - accuracy: 0.6661 - val_loss: 20.5084 - val_accuracy: 0.6979\n",
      "Epoch 4/7\n",
      "59/59 [==============================] - 0s 5ms/step - loss: 21.9159 - accuracy: 0.6858 - val_loss: 19.5359 - val_accuracy: 0.7170\n",
      "Epoch 5/7\n",
      "59/59 [==============================] - 0s 4ms/step - loss: 16.8627 - accuracy: 0.7013 - val_loss: 17.7357 - val_accuracy: 0.7149\n",
      "Epoch 6/7\n",
      "59/59 [==============================] - 0s 5ms/step - loss: 15.0417 - accuracy: 0.7007 - val_loss: 17.4946 - val_accuracy: 0.7021\n",
      "Epoch 7/7\n",
      "59/59 [==============================] - 0s 4ms/step - loss: 14.1836 - accuracy: 0.6976 - val_loss: 14.5756 - val_accuracy: 0.7064\n"
     ]
    },
    {
     "data": {
      "text/plain": [
       "<keras.callbacks.History at 0x1b6e1494c40>"
      ]
     },
     "execution_count": 95,
     "metadata": {},
     "output_type": "execute_result"
    }
   ],
   "source": [
    "hypermodel = tuner.hypermodel.build(best_hps)\n",
    "\n",
    "# Retrain the model\n",
    "hypermodel.fit(df_genes_labels_selected, labels_enc, epochs=best_epoch, validation_split=0.2)"
   ]
  },
  {
   "cell_type": "code",
   "execution_count": null,
   "metadata": {},
   "outputs": [],
   "source": []
  },
  {
   "cell_type": "code",
   "execution_count": null,
   "metadata": {},
   "outputs": [],
   "source": []
  },
  {
   "cell_type": "code",
   "execution_count": null,
   "metadata": {},
   "outputs": [],
   "source": []
  }
 ],
 "metadata": {
  "kernelspec": {
   "display_name": "Desarrollo-OyWcDdAp",
   "language": "python",
   "name": "python3"
  },
  "language_info": {
   "codemirror_mode": {
    "name": "ipython",
    "version": 3
   },
   "file_extension": ".py",
   "mimetype": "text/x-python",
   "name": "python",
   "nbconvert_exporter": "python",
   "pygments_lexer": "ipython3",
   "version": "3.10.4"
  },
  "orig_nbformat": 4,
  "vscode": {
   "interpreter": {
    "hash": "0c86d74f942837168ba3eb0ab04c2d3bf4a14a75d7820611aca17ecb14925afc"
   }
  }
 },
 "nbformat": 4,
 "nbformat_minor": 2
}
