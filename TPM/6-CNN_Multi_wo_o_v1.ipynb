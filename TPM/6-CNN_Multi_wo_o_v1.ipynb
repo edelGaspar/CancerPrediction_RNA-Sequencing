{
 "cells": [
  {
   "attachments": {},
   "cell_type": "markdown",
   "metadata": {},
   "source": [
    "## DNN Model for the classification of cancer types"
   ]
  },
  {
   "attachments": {},
   "cell_type": "markdown",
   "metadata": {},
   "source": [
    "## DNN Model (without_outliers)"
   ]
  },
  {
   "attachments": {},
   "cell_type": "markdown",
   "metadata": {},
   "source": [
    "## Imports"
   ]
  },
  {
   "cell_type": "code",
   "execution_count": 1,
   "metadata": {},
   "outputs": [],
   "source": [
    "import os\n",
    "import numpy as np\n",
    "import pandas as pd\n",
    "import tensorflow as tf\n",
    "import seaborn as sns\n",
    "import matplotlib.pyplot as plt\n",
    "from tensorflow import keras\n",
    "from keras.models import Sequential\n",
    "from keras.layers import Dense, Dropout, BatchNormalization, Conv2D, MaxPool2D, Bidirectional, Flatten, GRU, Reshape\n",
    "from keras.optimizers import SGD, Adam, Adamax, RMSprop, Adagrad\n",
    "from keras.metrics import AUC, Accuracy, CategoricalAccuracy, sparse_categorical_accuracy\n",
    "from tensorflow.keras import layers, activations\n",
    "from sklearn.utils.class_weight import compute_class_weight\n",
    "from sklearn.model_selection import train_test_split\n",
    "from tensorflow.keras.callbacks import ModelCheckpoint\n",
    "import keras_tuner as kt\n",
    "from statistics import mean\n",
    "from scikeras.wrappers import KerasClassifier\n",
    "from sklearn.model_selection import GridSearchCV\n",
    "import imblearn\n",
    "from collections import Counter\n",
    "from matplotlib import pyplot\n",
    "from imblearn.over_sampling import SMOTE\n",
    "from imblearn.combine import SMOTETomek\n",
    "from imblearn.under_sampling import TomekLinks\n",
    "import keras.backend as K\n",
    "from sklearn.metrics import classification_report, confusion_matrix\n"
   ]
  },
  {
   "attachments": {},
   "cell_type": "markdown",
   "metadata": {},
   "source": [
    "### Useful functions"
   ]
  },
  {
   "cell_type": "code",
   "execution_count": 2,
   "metadata": {},
   "outputs": [],
   "source": [
    "def recall(y_true, y_pred):\n",
    "    y_true = K.ones_like(y_true)\n",
    "    true_positives = K.sum(K.round(K.clip(y_true * y_pred, 0, 1)))\n",
    "    all_positives = K.sum(K.round(K.clip(y_true, 0, 1)))\n",
    "\n",
    "    recall = true_positives / (all_positives + K.epsilon())\n",
    "    return recall\n",
    "\n",
    "def precision(y_true, y_pred):\n",
    "    y_true = K.ones_like(y_true)\n",
    "    true_positives = K.sum(K.round(K.clip(y_true * y_pred, 0, 1)))\n",
    "\n",
    "    predicted_positives = K.sum(K.round(K.clip(y_pred, 0, 1)))\n",
    "    precision = true_positives / (predicted_positives + K.epsilon())\n",
    "    return precision\n",
    "\n",
    "def f1_score(y_true, y_pred):\n",
    "    precision = precision(y_true, y_pred)\n",
    "    recall = recall(y_true, y_pred)\n",
    "    return 2*((precision*recall)/(precision+recall+K.epsilon()))"
   ]
  },
  {
   "cell_type": "code",
   "execution_count": 3,
   "metadata": {},
   "outputs": [],
   "source": [
    "class MulticlassTruePositives(tf.keras.metrics.Metric):\n",
    "    def __init__(self, name='multiclass_true_positives', **kwargs):\n",
    "        super(MulticlassTruePositives, self).__init__(name=name, **kwargs)\n",
    "        self.true_positives = self.add_weight(name='tp', initializer='zeros')\n",
    "\n",
    "    def update_state(self, y_true, y_pred, sample_weight=None):\n",
    "        y_pred = tf.reshape(tf.argmax(y_pred, axis=1), shape=(-1, 1))\n",
    "        values = tf.cast(y_true, 'int32') == tf.cast(y_pred, 'int32')\n",
    "        values = tf.cast(values, 'float32')\n",
    "        if sample_weight is not None:\n",
    "            sample_weight = tf.cast(sample_weight, 'float32')\n",
    "            values = tf.multiply(values, sample_weight)\n",
    "        self.true_positives.assign_add(tf.reduce_sum(values))\n",
    "\n",
    "    def result(self):\n",
    "        return self.true_positives\n",
    "\n",
    "    def reset_states(self):\n",
    "        # The state of the metric will be reset at the start of each epoch.\n",
    "        self.true_positives.assign(0.)"
   ]
  },
  {
   "attachments": {},
   "cell_type": "markdown",
   "metadata": {},
   "source": [
    "## Load Data"
   ]
  },
  {
   "cell_type": "code",
   "execution_count": 4,
   "metadata": {},
   "outputs": [
    {
     "name": "stdout",
     "output_type": "stream",
     "text": [
      "Number of types of cancer: \n",
      " 19 \n",
      "\n",
      "Total number of samples: \n",
      " 1963 \n",
      "\n",
      "Number of features: \n",
      " 144 \n",
      "\n",
      "Number of samples by type of cancer: \n",
      " Patient_group\n",
      "0                658\n",
      "2                359\n",
      "7                118\n",
      "1                118\n",
      "3                113\n",
      "4                 90\n",
      "5                 89\n",
      "8                 75\n",
      "6                 65\n",
      "11                62\n",
      "16                33\n",
      "13                29\n",
      "10                28\n",
      "17                27\n",
      "9                 27\n",
      "18                25\n",
      "12                21\n",
      "15                17\n",
      "14                 9\n",
      "Name: count, dtype: int64 \n",
      "\n"
     ]
    }
   ],
   "source": [
    "#load dataframe\n",
    "#outlier_folder = \"with_outliers\"\n",
    "outlier_folder = \"without_outliers\"\n",
    "df_genes_labels_file = f'Data/{outlier_folder}/df_genes_labels_without_outliers.pkl'\n",
    "\n",
    "if os.path.exists(df_genes_labels_file):\n",
    "    df_genes_labels = pd.read_pickle(df_genes_labels_file)\n",
    "else:\n",
    "    raise Exception(\"You need to run the notebook \\\"PrepareDataExploratoryAnalysis\\\".\")\n",
    "\n",
    "df_genes_labels_file = f'Data/{outlier_folder}/df_expression_data_lasso.pkl'\n",
    "if os.path.exists(df_genes_labels_file):\n",
    "    df_genes_labels_selected = pd.read_pickle(df_genes_labels_file)\n",
    "else:\n",
    "    raise Exception(\"You need to run the notebook \\\"ReduceDimensionality\\\".\")\n",
    "\n",
    "labels = df_genes_labels.iloc[:, 5441:5442]\n",
    "\n",
    "df_genes_labels_selected['Patient_group'] = labels\n",
    "\n",
    "print(f'Number of types of cancer: \\n {len(labels.value_counts())} \\n')\n",
    "print(f'Total number of samples: \\n {len(labels)} \\n')\n",
    "print(f'Number of features: \\n {len(df_genes_labels_selected.columns) -1} \\n')\n",
    "print(f'Number of samples by type of cancer: \\n {labels.value_counts()} \\n')"
   ]
  },
  {
   "cell_type": "code",
   "execution_count": 5,
   "metadata": {},
   "outputs": [],
   "source": [
    "# Remove cancer types with less than 28 samples\n",
    "#counts = df_genes_labels_selected['Patient_group'].value_counts()\n",
    "#categories_to_maintain = counts[counts >= 28].index\n",
    "#df_genes_labels_selected = df_genes_labels_selected[df_genes_labels_selected['Patient_group'].isin(categories_to_maintain)]\n",
    "#counts = df_genes_labels_selected['Patient_group'].value_counts()\n",
    "#print(f'Number of types of cancer: \\n {len(counts)} \\n')\n",
    "#print(f'Number of samples by type of cancer: \\n {counts} \\n')\n"
   ]
  },
  {
   "cell_type": "code",
   "execution_count": 6,
   "metadata": {},
   "outputs": [
    {
     "name": "stdout",
     "output_type": "stream",
     "text": [
      "Cantidad de elementos por clase en TRAIN: \n",
      " Patient_group\n",
      "0     539\n",
      "2     285\n",
      "1      95\n",
      "3      90\n",
      "7      86\n",
      "5      72\n",
      "4      69\n",
      "8      61\n",
      "6      57\n",
      "11     47\n",
      "16     30\n",
      "10     24\n",
      "13     23\n",
      "17     20\n",
      "9      18\n",
      "18     18\n",
      "12     16\n",
      "15     14\n",
      "14      6\n",
      "Name: count, dtype: int64 \n",
      "\n",
      "Cantidad de elementos por clase en TEST: \n",
      " Patient_group\n",
      "0     119\n",
      "2      74\n",
      "7      32\n",
      "1      23\n",
      "3      23\n",
      "4      21\n",
      "5      17\n",
      "11     15\n",
      "8      14\n",
      "9       9\n",
      "6       8\n",
      "17      7\n",
      "18      7\n",
      "13      6\n",
      "12      5\n",
      "10      4\n",
      "16      3\n",
      "15      3\n",
      "14      3\n",
      "Name: count, dtype: int64\n"
     ]
    }
   ],
   "source": [
    "labels = df_genes_labels_selected['Patient_group']\n",
    "df_genes_labels_selected = df_genes_labels_selected.iloc[:,:-1]\n",
    "X_train, X_test, y_train, y_test = train_test_split(df_genes_labels_selected, labels, test_size=0.2, random_state=42, shuffle=True)\n",
    "\n",
    "print(f'Cantidad de elementos por clase en TRAIN: \\n {y_train.value_counts()} \\n')\n",
    "print(f'Cantidad de elementos por clase en TEST: \\n {y_test.value_counts()}')"
   ]
  },
  {
   "cell_type": "code",
   "execution_count": 7,
   "metadata": {},
   "outputs": [
    {
     "data": {
      "image/png": "[encoded data removed]",
      "text/plain": [
       "<Figure size 640x480 with 1 Axes>"
      ]
     },
     "metadata": {},
     "output_type": "display_data"
    }
   ],
   "source": [
    "# summarize distribution\n",
    "counter = Counter(y_train)\n",
    "# plot the distribution\n",
    "pyplot.bar(counter.keys(), counter.values())\n",
    "#plt.xlim(0, 28)\n",
    "pyplot.show()"
   ]
  },
  {
   "cell_type": "code",
   "execution_count": 8,
   "metadata": {},
   "outputs": [
    {
     "data": {
      "image/png": "[encoded data removed]",
      "text/plain": [
       "<Figure size 640x480 with 1 Axes>"
      ]
     },
     "metadata": {},
     "output_type": "display_data"
    }
   ],
   "source": [
    "X, y = SMOTE(k_neighbors=2).fit_resample(X_train, y_train)\n",
    "# summarize distribution\n",
    "counter = Counter(y)\n",
    "# plot the distribution\n",
    "pyplot.bar(counter.keys(), counter.values())\n",
    "pyplot.show()"
   ]
  },
  {
   "cell_type": "code",
   "execution_count": 9,
   "metadata": {},
   "outputs": [],
   "source": [
    "# Create Model. Reference: https://bmcbioinformatics.biomedcentral.com/articles/10.1186/s12859-022-04980-9#Tab2\n",
    "\n",
    "def model_builder(hp):\n",
    "    classifier = Sequential()\n",
    "    #hp_units_first_layer = hp.Int('units', min_value = 1024, max_value = 1024, default = 64, step = 32)\n",
    "    classifier.add(Dense(units = 1024, activation = 'relu', input_dim = 144))\n",
    "    classifier.add(Reshape((32, 32, 1)))\n",
    "    #hp_filters_first_conv = hp.Int('units', min_value = 128, max_value = 128, default = 128, step = 32)\n",
    "    classifier.add(Conv2D(filters = 128, kernel_size = 3, padding='same', strides = 2, activation='relu'))\n",
    "    classifier.add(MaxPool2D(pool_size = (2,2), strides = 2))\n",
    "    #classifier.add(Bidirectional(GRU(64, return_sequences = True, bias_regularizer=tf.keras.regularizers.l2(1e-4),\n",
    "    #                                     activity_regularizer=tf.keras.regularizers.l2(1e-5))))\n",
    "    #hp_filters_second_conv = hp.Int('units', min_value = 64, max_value = 64, default = 64, step = 32)\n",
    "    classifier.add(Conv2D(filters = 64, kernel_size = 3, padding='same', strides = 2, activation='relu'))\n",
    "    classifier.add(MaxPool2D(pool_size = (2,2), strides = 2))\n",
    "    classifier.add(Flatten())\n",
    "    classifier.add(Dense(128,activation = 'relu',kernel_regularizer=tf.keras.regularizers.l2()))\n",
    "    classifier.add(Dense(64,activation = 'relu',kernel_regularizer=tf.keras.regularizers.l2()))\n",
    "    classifier.add(Dropout(rate=0.6))\n",
    "    classifier.add(Dense(32,activation = 'relu',kernel_regularizer=tf.keras.regularizers.l2()))\n",
    "    classifier.add(Dropout(rate=0.2))\n",
    "    classifier.add(Dense(19,activation = 'softmax'))   \n",
    "    \n",
    "    #hp_learning_rate = hp.Float('lr', min_value=1e-8, max_value=1e-2, sampling=\"log\")\n",
    "    #optimizers_dict = {\n",
    "    #        \"Adam\": Adam(learning_rate=hp_learning_rate),\n",
    "    #        \"Adamax\": Adamax(learning_rate=hp_learning_rate),\n",
    "    #        \"SGD\": SGD(learning_rate=hp_learning_rate),\n",
    "    #        \"Adagrad\": Adagrad(learning_rate=hp_learning_rate),\n",
    "    #        \"RMSprop\": RMSprop(learning_rate=hp_learning_rate)\n",
    "    #        }\n",
    "    \n",
    "    #hp_optimizers = hp.Choice(name = 'optimizer', \n",
    "    #    values=['Adam', 'Adamax', 'SGD', 'Adagrad', 'RMSprop']\n",
    "    #    )\n",
    "        \n",
    "        \n",
    "    metrics=['accuracy',\n",
    "                       keras.metrics.categorical_accuracy,\n",
    "                       tf.keras.metrics.TopKCategoricalAccuracy(k=5),\n",
    "                       MulticlassTruePositives()]\n",
    "    \n",
    "    classifier.compile(optimizer='Adam',\n",
    "                loss = 'sparse_categorical_crossentropy', \n",
    "                metrics = metrics)\n",
    "\n",
    "    return classifier"
   ]
  },
  {
   "cell_type": "code",
   "execution_count": 10,
   "metadata": {},
   "outputs": [
    {
     "name": "stdout",
     "output_type": "stream",
     "text": [
      "Search space summary\n",
      "Default search space size: 0\n"
     ]
    }
   ],
   "source": [
    "tuner = kt.BayesianOptimization(\n",
    "    hypermodel=model_builder,\n",
    "    objective= kt.Objective('val_accuracy', direction='max'),\n",
    "    max_trials=40,    \n",
    "    directory = 'Data/model_tests',\n",
    "    project_name = 'cancer_MultiCLass_classif_CNN',\n",
    "    overwrite = True\n",
    ")\n",
    "tuner.search_space_summary()"
   ]
  },
  {
   "cell_type": "code",
   "execution_count": 11,
   "metadata": {},
   "outputs": [
    {
     "name": "stdout",
     "output_type": "stream",
     "text": [
      "Trial 1 Complete [00h 01m 19s]\n",
      "val_accuracy: 0.3407643437385559\n",
      "\n",
      "Best val_accuracy So Far: 0.3407643437385559\n",
      "Total elapsed time: 00h 01m 19s\n",
      "INFO:tensorflow:Oracle triggered exit\n"
     ]
    }
   ],
   "source": [
    "stop_early = tf.keras.callbacks.EarlyStopping(monitor='val_loss', patience=5)\n",
    "checkpoint = ModelCheckpoint('Data/models/best_multiclass_model_CNN.h5', monitor='val_loss', save_best_only=True, mode='min', verbose=1)\n",
    "tuner.search(X_train, y_train, epochs=100, validation_split=0.2, callbacks=[stop_early, checkpoint])"
   ]
  },
  {
   "cell_type": "code",
   "execution_count": 17,
   "metadata": {},
   "outputs": [
    {
     "name": "stdout",
     "output_type": "stream",
     "text": [
      "Epoch 1/100\n",
      "37/40 [==========================>...] - ETA: 0s - loss: 38.3679 - accuracy: 0.1807 - categorical_accuracy: 0.4552 - top_k_categorical_accuracy: 0.7407 - multiclass_true_positives: 214.0000"
     ]
    },
    {
     "name": "stderr",
     "output_type": "stream",
     "text": [
      "c:\\Users\\Edel\\.virtualenvs\\Desarrollo-OyWcDdAp\\lib\\site-packages\\keras\\engine\\training.py:2448: UserWarning: Metric MulticlassTruePositives implements a `reset_states()` method; rename it to `reset_state()` (without the final \"s\"). The name `reset_states()` has been deprecated to improve API consistency.\n",
      "  m.reset_state()\n"
     ]
    },
    {
     "name": "stdout",
     "output_type": "stream",
     "text": [
      "40/40 [==============================] - 3s 26ms/step - loss: 36.4746 - accuracy: 0.1911 - categorical_accuracy: 0.4865 - top_k_categorical_accuracy: 0.7556 - multiclass_true_positives: 240.0000 - val_loss: 5.2949 - val_accuracy: 0.2866 - val_categorical_accuracy: 0.8599 - val_top_k_categorical_accuracy: 0.9968 - val_multiclass_true_positives: 90.0000\n",
      "Epoch 2/100\n",
      "40/40 [==============================] - 1s 18ms/step - loss: 5.1228 - accuracy: 0.3439 - categorical_accuracy: 0.9896 - top_k_categorical_accuracy: 0.9992 - multiclass_true_positives: 432.0000 - val_loss: 4.9649 - val_accuracy: 0.3376 - val_categorical_accuracy: 0.9936 - val_top_k_categorical_accuracy: 0.9936 - val_multiclass_true_positives: 106.0000\n",
      "Epoch 3/100\n",
      "40/40 [==============================] - 1s 17ms/step - loss: 4.8726 - accuracy: 0.3439 - categorical_accuracy: 0.9936 - top_k_categorical_accuracy: 0.9992 - multiclass_true_positives: 432.0000 - val_loss: 4.7823 - val_accuracy: 0.3376 - val_categorical_accuracy: 0.9936 - val_top_k_categorical_accuracy: 0.9968 - val_multiclass_true_positives: 106.0000\n",
      "Epoch 4/100\n",
      "40/40 [==============================] - 1s 17ms/step - loss: 4.7260 - accuracy: 0.3416 - categorical_accuracy: 0.9857 - top_k_categorical_accuracy: 0.9968 - multiclass_true_positives: 429.0000 - val_loss: 4.6641 - val_accuracy: 0.3376 - val_categorical_accuracy: 0.9968 - val_top_k_categorical_accuracy: 1.0000 - val_multiclass_true_positives: 106.0000\n",
      "Epoch 5/100\n",
      "40/40 [==============================] - 1s 18ms/step - loss: 4.6190 - accuracy: 0.3432 - categorical_accuracy: 0.9904 - top_k_categorical_accuracy: 1.0000 - multiclass_true_positives: 431.0000 - val_loss: 4.5752 - val_accuracy: 0.3376 - val_categorical_accuracy: 1.0000 - val_top_k_categorical_accuracy: 1.0000 - val_multiclass_true_positives: 106.0000\n",
      "Epoch 6/100\n",
      "40/40 [==============================] - 1s 21ms/step - loss: 4.5349 - accuracy: 0.3439 - categorical_accuracy: 0.9976 - top_k_categorical_accuracy: 1.0000 - multiclass_true_positives: 432.0000 - val_loss: 4.4975 - val_accuracy: 0.3376 - val_categorical_accuracy: 1.0000 - val_top_k_categorical_accuracy: 1.0000 - val_multiclass_true_positives: 106.0000\n",
      "Epoch 7/100\n",
      "40/40 [==============================] - 1s 18ms/step - loss: 4.4619 - accuracy: 0.3455 - categorical_accuracy: 0.9944 - top_k_categorical_accuracy: 1.0000 - multiclass_true_positives: 434.0000 - val_loss: 4.4281 - val_accuracy: 0.3376 - val_categorical_accuracy: 1.0000 - val_top_k_categorical_accuracy: 1.0000 - val_multiclass_true_positives: 106.0000\n",
      "Epoch 8/100\n",
      "40/40 [==============================] - 1s 17ms/step - loss: 4.3918 - accuracy: 0.3447 - categorical_accuracy: 0.9952 - top_k_categorical_accuracy: 1.0000 - multiclass_true_positives: 433.0000 - val_loss: 4.3651 - val_accuracy: 0.3376 - val_categorical_accuracy: 0.9968 - val_top_k_categorical_accuracy: 0.9968 - val_multiclass_true_positives: 106.0000\n",
      "Epoch 9/100\n",
      "40/40 [==============================] - 1s 18ms/step - loss: 4.3324 - accuracy: 0.3471 - categorical_accuracy: 0.9944 - top_k_categorical_accuracy: 1.0000 - multiclass_true_positives: 436.0000 - val_loss: 4.3040 - val_accuracy: 0.3376 - val_categorical_accuracy: 1.0000 - val_top_k_categorical_accuracy: 1.0000 - val_multiclass_true_positives: 106.0000\n",
      "Epoch 10/100\n",
      "40/40 [==============================] - 1s 19ms/step - loss: 4.2796 - accuracy: 0.3447 - categorical_accuracy: 0.9992 - top_k_categorical_accuracy: 1.0000 - multiclass_true_positives: 433.0000 - val_loss: 4.2493 - val_accuracy: 0.3376 - val_categorical_accuracy: 1.0000 - val_top_k_categorical_accuracy: 1.0000 - val_multiclass_true_positives: 106.0000\n",
      "Epoch 11/100\n",
      "40/40 [==============================] - 1s 18ms/step - loss: 4.2252 - accuracy: 0.3455 - categorical_accuracy: 0.9952 - top_k_categorical_accuracy: 1.0000 - multiclass_true_positives: 434.0000 - val_loss: 4.1974 - val_accuracy: 0.3376 - val_categorical_accuracy: 1.0000 - val_top_k_categorical_accuracy: 1.0000 - val_multiclass_true_positives: 106.0000\n",
      "Epoch 12/100\n",
      "40/40 [==============================] - 1s 18ms/step - loss: 4.1800 - accuracy: 0.3439 - categorical_accuracy: 0.9960 - top_k_categorical_accuracy: 1.0000 - multiclass_true_positives: 432.0000 - val_loss: 4.1494 - val_accuracy: 0.3376 - val_categorical_accuracy: 1.0000 - val_top_k_categorical_accuracy: 1.0000 - val_multiclass_true_positives: 106.0000\n",
      "Epoch 13/100\n",
      "40/40 [==============================] - 1s 19ms/step - loss: 4.1289 - accuracy: 0.3447 - categorical_accuracy: 0.9992 - top_k_categorical_accuracy: 1.0000 - multiclass_true_positives: 433.0000 - val_loss: 4.1052 - val_accuracy: 0.3376 - val_categorical_accuracy: 1.0000 - val_top_k_categorical_accuracy: 1.0000 - val_multiclass_true_positives: 106.0000\n",
      "Epoch 14/100\n",
      "40/40 [==============================] - 1s 19ms/step - loss: 4.0932 - accuracy: 0.3455 - categorical_accuracy: 0.9984 - top_k_categorical_accuracy: 1.0000 - multiclass_true_positives: 434.0000 - val_loss: 4.0636 - val_accuracy: 0.3376 - val_categorical_accuracy: 1.0000 - val_top_k_categorical_accuracy: 1.0000 - val_multiclass_true_positives: 106.0000\n",
      "Epoch 15/100\n",
      "40/40 [==============================] - 1s 17ms/step - loss: 4.5880 - accuracy: 0.3288 - categorical_accuracy: 0.9467 - top_k_categorical_accuracy: 0.9721 - multiclass_true_positives: 413.0000 - val_loss: 4.0284 - val_accuracy: 0.3376 - val_categorical_accuracy: 1.0000 - val_top_k_categorical_accuracy: 1.0000 - val_multiclass_true_positives: 106.0000\n",
      "Epoch 16/100\n",
      "40/40 [==============================] - 1s 19ms/step - loss: 4.0099 - accuracy: 0.3447 - categorical_accuracy: 1.0000 - top_k_categorical_accuracy: 1.0000 - multiclass_true_positives: 433.0000 - val_loss: 3.9884 - val_accuracy: 0.3376 - val_categorical_accuracy: 1.0000 - val_top_k_categorical_accuracy: 1.0000 - val_multiclass_true_positives: 106.0000\n",
      "Epoch 17/100\n",
      "40/40 [==============================] - 1s 20ms/step - loss: 3.9808 - accuracy: 0.3447 - categorical_accuracy: 1.0000 - top_k_categorical_accuracy: 1.0000 - multiclass_true_positives: 433.0000 - val_loss: 3.9532 - val_accuracy: 0.3376 - val_categorical_accuracy: 1.0000 - val_top_k_categorical_accuracy: 1.0000 - val_multiclass_true_positives: 106.0000\n",
      "Epoch 18/100\n",
      "40/40 [==============================] - 1s 19ms/step - loss: 3.9479 - accuracy: 0.3455 - categorical_accuracy: 0.9992 - top_k_categorical_accuracy: 1.0000 - multiclass_true_positives: 434.0000 - val_loss: 3.9210 - val_accuracy: 0.3376 - val_categorical_accuracy: 1.0000 - val_top_k_categorical_accuracy: 1.0000 - val_multiclass_true_positives: 106.0000\n",
      "Epoch 19/100\n",
      "40/40 [==============================] - 1s 17ms/step - loss: 3.9162 - accuracy: 0.3439 - categorical_accuracy: 0.9992 - top_k_categorical_accuracy: 1.0000 - multiclass_true_positives: 432.0000 - val_loss: 3.8925 - val_accuracy: 0.3376 - val_categorical_accuracy: 1.0000 - val_top_k_categorical_accuracy: 1.0000 - val_multiclass_true_positives: 106.0000\n",
      "Epoch 20/100\n",
      "40/40 [==============================] - 1s 18ms/step - loss: 3.8880 - accuracy: 0.3447 - categorical_accuracy: 1.0000 - top_k_categorical_accuracy: 1.0000 - multiclass_true_positives: 433.0000 - val_loss: 3.8657 - val_accuracy: 0.3376 - val_categorical_accuracy: 1.0000 - val_top_k_categorical_accuracy: 1.0000 - val_multiclass_true_positives: 106.0000\n",
      "Epoch 21/100\n",
      "40/40 [==============================] - 1s 18ms/step - loss: 3.8596 - accuracy: 0.3447 - categorical_accuracy: 1.0000 - top_k_categorical_accuracy: 1.0000 - multiclass_true_positives: 433.0000 - val_loss: 3.8411 - val_accuracy: 0.3376 - val_categorical_accuracy: 1.0000 - val_top_k_categorical_accuracy: 1.0000 - val_multiclass_true_positives: 106.0000\n",
      "Epoch 22/100\n",
      "40/40 [==============================] - 1s 16ms/step - loss: 3.8373 - accuracy: 0.3447 - categorical_accuracy: 1.0000 - top_k_categorical_accuracy: 1.0000 - multiclass_true_positives: 433.0000 - val_loss: 3.8182 - val_accuracy: 0.3376 - val_categorical_accuracy: 1.0000 - val_top_k_categorical_accuracy: 1.0000 - val_multiclass_true_positives: 106.0000\n",
      "Epoch 23/100\n",
      "40/40 [==============================] - 1s 19ms/step - loss: 3.8202 - accuracy: 0.3447 - categorical_accuracy: 1.0000 - top_k_categorical_accuracy: 1.0000 - multiclass_true_positives: 433.0000 - val_loss: 3.7965 - val_accuracy: 0.3376 - val_categorical_accuracy: 1.0000 - val_top_k_categorical_accuracy: 1.0000 - val_multiclass_true_positives: 106.0000\n",
      "Epoch 24/100\n",
      "40/40 [==============================] - 1s 17ms/step - loss: 3.7870 - accuracy: 0.3447 - categorical_accuracy: 1.0000 - top_k_categorical_accuracy: 1.0000 - multiclass_true_positives: 433.0000 - val_loss: 3.7755 - val_accuracy: 0.3376 - val_categorical_accuracy: 1.0000 - val_top_k_categorical_accuracy: 1.0000 - val_multiclass_true_positives: 106.0000\n",
      "Epoch 25/100\n",
      "40/40 [==============================] - 1s 21ms/step - loss: 3.7675 - accuracy: 0.3447 - categorical_accuracy: 1.0000 - top_k_categorical_accuracy: 1.0000 - multiclass_true_positives: 433.0000 - val_loss: 3.7560 - val_accuracy: 0.3376 - val_categorical_accuracy: 1.0000 - val_top_k_categorical_accuracy: 1.0000 - val_multiclass_true_positives: 106.0000\n",
      "Epoch 26/100\n",
      "40/40 [==============================] - 1s 19ms/step - loss: 3.7765 - accuracy: 0.3447 - categorical_accuracy: 1.0000 - top_k_categorical_accuracy: 1.0000 - multiclass_true_positives: 433.0000 - val_loss: 3.7370 - val_accuracy: 0.3376 - val_categorical_accuracy: 1.0000 - val_top_k_categorical_accuracy: 1.0000 - val_multiclass_true_positives: 106.0000\n",
      "Epoch 27/100\n",
      "40/40 [==============================] - 1s 19ms/step - loss: 3.7442 - accuracy: 0.3447 - categorical_accuracy: 1.0000 - top_k_categorical_accuracy: 1.0000 - multiclass_true_positives: 433.0000 - val_loss: 3.7189 - val_accuracy: 0.3376 - val_categorical_accuracy: 1.0000 - val_top_k_categorical_accuracy: 1.0000 - val_multiclass_true_positives: 106.0000\n",
      "Epoch 28/100\n",
      "40/40 [==============================] - 1s 16ms/step - loss: 3.7104 - accuracy: 0.3447 - categorical_accuracy: 1.0000 - top_k_categorical_accuracy: 1.0000 - multiclass_true_positives: 433.0000 - val_loss: 3.7036 - val_accuracy: 0.3376 - val_categorical_accuracy: 1.0000 - val_top_k_categorical_accuracy: 1.0000 - val_multiclass_true_positives: 106.0000\n",
      "Epoch 29/100\n",
      "40/40 [==============================] - 1s 16ms/step - loss: 3.7032 - accuracy: 0.3447 - categorical_accuracy: 1.0000 - top_k_categorical_accuracy: 1.0000 - multiclass_true_positives: 433.0000 - val_loss: 3.6838 - val_accuracy: 0.3376 - val_categorical_accuracy: 1.0000 - val_top_k_categorical_accuracy: 1.0000 - val_multiclass_true_positives: 106.0000\n",
      "Epoch 30/100\n",
      "40/40 [==============================] - 1s 16ms/step - loss: 3.6811 - accuracy: 0.3447 - categorical_accuracy: 1.0000 - top_k_categorical_accuracy: 1.0000 - multiclass_true_positives: 433.0000 - val_loss: 3.6663 - val_accuracy: 0.3376 - val_categorical_accuracy: 1.0000 - val_top_k_categorical_accuracy: 1.0000 - val_multiclass_true_positives: 106.0000\n",
      "Epoch 31/100\n",
      "40/40 [==============================] - 1s 20ms/step - loss: 3.6605 - accuracy: 0.3447 - categorical_accuracy: 1.0000 - top_k_categorical_accuracy: 1.0000 - multiclass_true_positives: 433.0000 - val_loss: 3.6491 - val_accuracy: 0.3376 - val_categorical_accuracy: 1.0000 - val_top_k_categorical_accuracy: 1.0000 - val_multiclass_true_positives: 106.0000\n",
      "Epoch 32/100\n",
      "40/40 [==============================] - 1s 22ms/step - loss: 3.6502 - accuracy: 0.3447 - categorical_accuracy: 0.9992 - top_k_categorical_accuracy: 1.0000 - multiclass_true_positives: 433.0000 - val_loss: 3.6324 - val_accuracy: 0.3376 - val_categorical_accuracy: 1.0000 - val_top_k_categorical_accuracy: 1.0000 - val_multiclass_true_positives: 106.0000\n",
      "Epoch 33/100\n",
      "40/40 [==============================] - 1s 22ms/step - loss: 3.6320 - accuracy: 0.3447 - categorical_accuracy: 1.0000 - top_k_categorical_accuracy: 1.0000 - multiclass_true_positives: 433.0000 - val_loss: 3.6162 - val_accuracy: 0.3376 - val_categorical_accuracy: 1.0000 - val_top_k_categorical_accuracy: 1.0000 - val_multiclass_true_positives: 106.0000\n",
      "Epoch 34/100\n",
      "40/40 [==============================] - 1s 18ms/step - loss: 3.6127 - accuracy: 0.3447 - categorical_accuracy: 1.0000 - top_k_categorical_accuracy: 1.0000 - multiclass_true_positives: 433.0000 - val_loss: 3.6001 - val_accuracy: 0.3376 - val_categorical_accuracy: 1.0000 - val_top_k_categorical_accuracy: 1.0000 - val_multiclass_true_positives: 106.0000\n",
      "Epoch 35/100\n",
      "40/40 [==============================] - 1s 19ms/step - loss: 3.5925 - accuracy: 0.3447 - categorical_accuracy: 1.0000 - top_k_categorical_accuracy: 1.0000 - multiclass_true_positives: 433.0000 - val_loss: 3.5837 - val_accuracy: 0.3376 - val_categorical_accuracy: 1.0000 - val_top_k_categorical_accuracy: 1.0000 - val_multiclass_true_positives: 106.0000\n",
      "Epoch 36/100\n",
      "40/40 [==============================] - 1s 17ms/step - loss: 3.5791 - accuracy: 0.3447 - categorical_accuracy: 1.0000 - top_k_categorical_accuracy: 1.0000 - multiclass_true_positives: 433.0000 - val_loss: 3.5683 - val_accuracy: 0.3376 - val_categorical_accuracy: 1.0000 - val_top_k_categorical_accuracy: 1.0000 - val_multiclass_true_positives: 106.0000\n",
      "Epoch 37/100\n",
      "40/40 [==============================] - 1s 18ms/step - loss: 3.5640 - accuracy: 0.3447 - categorical_accuracy: 1.0000 - top_k_categorical_accuracy: 1.0000 - multiclass_true_positives: 433.0000 - val_loss: 3.5530 - val_accuracy: 0.3376 - val_categorical_accuracy: 1.0000 - val_top_k_categorical_accuracy: 1.0000 - val_multiclass_true_positives: 106.0000\n",
      "Epoch 38/100\n",
      "40/40 [==============================] - 1s 17ms/step - loss: 3.5572 - accuracy: 0.3447 - categorical_accuracy: 1.0000 - top_k_categorical_accuracy: 1.0000 - multiclass_true_positives: 433.0000 - val_loss: 3.5378 - val_accuracy: 0.3376 - val_categorical_accuracy: 1.0000 - val_top_k_categorical_accuracy: 1.0000 - val_multiclass_true_positives: 106.0000\n",
      "Epoch 39/100\n",
      "40/40 [==============================] - 1s 19ms/step - loss: 3.5348 - accuracy: 0.3447 - categorical_accuracy: 1.0000 - top_k_categorical_accuracy: 1.0000 - multiclass_true_positives: 433.0000 - val_loss: 3.5226 - val_accuracy: 0.3376 - val_categorical_accuracy: 1.0000 - val_top_k_categorical_accuracy: 1.0000 - val_multiclass_true_positives: 106.0000\n",
      "Epoch 40/100\n",
      "40/40 [==============================] - 1s 18ms/step - loss: 3.5171 - accuracy: 0.3447 - categorical_accuracy: 1.0000 - top_k_categorical_accuracy: 1.0000 - multiclass_true_positives: 433.0000 - val_loss: 3.5080 - val_accuracy: 0.3376 - val_categorical_accuracy: 1.0000 - val_top_k_categorical_accuracy: 1.0000 - val_multiclass_true_positives: 106.0000\n",
      "Epoch 41/100\n",
      "40/40 [==============================] - 1s 18ms/step - loss: 3.5001 - accuracy: 0.3455 - categorical_accuracy: 0.9992 - top_k_categorical_accuracy: 1.0000 - multiclass_true_positives: 434.0000 - val_loss: 3.4931 - val_accuracy: 0.3376 - val_categorical_accuracy: 1.0000 - val_top_k_categorical_accuracy: 1.0000 - val_multiclass_true_positives: 106.0000\n",
      "Epoch 42/100\n",
      "40/40 [==============================] - 1s 18ms/step - loss: 3.4860 - accuracy: 0.3447 - categorical_accuracy: 1.0000 - top_k_categorical_accuracy: 1.0000 - multiclass_true_positives: 433.0000 - val_loss: 3.4787 - val_accuracy: 0.3376 - val_categorical_accuracy: 1.0000 - val_top_k_categorical_accuracy: 1.0000 - val_multiclass_true_positives: 106.0000\n",
      "Epoch 43/100\n",
      "40/40 [==============================] - 1s 21ms/step - loss: 3.4698 - accuracy: 0.3447 - categorical_accuracy: 1.0000 - top_k_categorical_accuracy: 1.0000 - multiclass_true_positives: 433.0000 - val_loss: 3.4636 - val_accuracy: 0.3376 - val_categorical_accuracy: 1.0000 - val_top_k_categorical_accuracy: 1.0000 - val_multiclass_true_positives: 106.0000\n",
      "Epoch 44/100\n",
      "40/40 [==============================] - 1s 17ms/step - loss: 3.4520 - accuracy: 0.3447 - categorical_accuracy: 1.0000 - top_k_categorical_accuracy: 1.0000 - multiclass_true_positives: 433.0000 - val_loss: 3.4497 - val_accuracy: 0.3376 - val_categorical_accuracy: 1.0000 - val_top_k_categorical_accuracy: 1.0000 - val_multiclass_true_positives: 106.0000\n",
      "Epoch 45/100\n",
      "40/40 [==============================] - 1s 22ms/step - loss: 3.4367 - accuracy: 0.3447 - categorical_accuracy: 1.0000 - top_k_categorical_accuracy: 1.0000 - multiclass_true_positives: 433.0000 - val_loss: 3.4353 - val_accuracy: 0.3376 - val_categorical_accuracy: 1.0000 - val_top_k_categorical_accuracy: 1.0000 - val_multiclass_true_positives: 106.0000\n",
      "Epoch 46/100\n",
      "40/40 [==============================] - 1s 22ms/step - loss: 3.4239 - accuracy: 0.3447 - categorical_accuracy: 1.0000 - top_k_categorical_accuracy: 1.0000 - multiclass_true_positives: 433.0000 - val_loss: 3.4212 - val_accuracy: 0.3376 - val_categorical_accuracy: 1.0000 - val_top_k_categorical_accuracy: 1.0000 - val_multiclass_true_positives: 106.0000\n",
      "Epoch 47/100\n",
      "40/40 [==============================] - 1s 18ms/step - loss: 3.4156 - accuracy: 0.3439 - categorical_accuracy: 0.9992 - top_k_categorical_accuracy: 1.0000 - multiclass_true_positives: 432.0000 - val_loss: 3.4072 - val_accuracy: 0.3376 - val_categorical_accuracy: 1.0000 - val_top_k_categorical_accuracy: 1.0000 - val_multiclass_true_positives: 106.0000\n",
      "Epoch 48/100\n",
      "40/40 [==============================] - 1s 18ms/step - loss: 3.3952 - accuracy: 0.3447 - categorical_accuracy: 1.0000 - top_k_categorical_accuracy: 1.0000 - multiclass_true_positives: 433.0000 - val_loss: 3.3938 - val_accuracy: 0.3376 - val_categorical_accuracy: 1.0000 - val_top_k_categorical_accuracy: 1.0000 - val_multiclass_true_positives: 106.0000\n",
      "Epoch 49/100\n",
      "40/40 [==============================] - 1s 17ms/step - loss: 3.3826 - accuracy: 0.3447 - categorical_accuracy: 1.0000 - top_k_categorical_accuracy: 1.0000 - multiclass_true_positives: 433.0000 - val_loss: 3.3798 - val_accuracy: 0.3376 - val_categorical_accuracy: 1.0000 - val_top_k_categorical_accuracy: 1.0000 - val_multiclass_true_positives: 106.0000\n",
      "Epoch 50/100\n",
      "40/40 [==============================] - 1s 18ms/step - loss: 3.3725 - accuracy: 0.3447 - categorical_accuracy: 1.0000 - top_k_categorical_accuracy: 1.0000 - multiclass_true_positives: 433.0000 - val_loss: 3.3662 - val_accuracy: 0.3376 - val_categorical_accuracy: 1.0000 - val_top_k_categorical_accuracy: 1.0000 - val_multiclass_true_positives: 106.0000\n",
      "Epoch 51/100\n",
      "40/40 [==============================] - 1s 17ms/step - loss: 3.3526 - accuracy: 0.3447 - categorical_accuracy: 1.0000 - top_k_categorical_accuracy: 1.0000 - multiclass_true_positives: 433.0000 - val_loss: 3.3530 - val_accuracy: 0.3376 - val_categorical_accuracy: 1.0000 - val_top_k_categorical_accuracy: 1.0000 - val_multiclass_true_positives: 106.0000\n",
      "Epoch 52/100\n",
      "40/40 [==============================] - 1s 19ms/step - loss: 3.3447 - accuracy: 0.3447 - categorical_accuracy: 1.0000 - top_k_categorical_accuracy: 1.0000 - multiclass_true_positives: 433.0000 - val_loss: 3.3394 - val_accuracy: 0.3376 - val_categorical_accuracy: 1.0000 - val_top_k_categorical_accuracy: 1.0000 - val_multiclass_true_positives: 106.0000\n",
      "Epoch 53/100\n",
      "40/40 [==============================] - 1s 20ms/step - loss: 3.3227 - accuracy: 0.3447 - categorical_accuracy: 1.0000 - top_k_categorical_accuracy: 1.0000 - multiclass_true_positives: 433.0000 - val_loss: 3.3264 - val_accuracy: 0.3376 - val_categorical_accuracy: 1.0000 - val_top_k_categorical_accuracy: 1.0000 - val_multiclass_true_positives: 106.0000\n",
      "Epoch 54/100\n",
      "40/40 [==============================] - 1s 18ms/step - loss: 3.3149 - accuracy: 0.3447 - categorical_accuracy: 1.0000 - top_k_categorical_accuracy: 1.0000 - multiclass_true_positives: 433.0000 - val_loss: 3.3134 - val_accuracy: 0.3376 - val_categorical_accuracy: 1.0000 - val_top_k_categorical_accuracy: 1.0000 - val_multiclass_true_positives: 106.0000\n",
      "Epoch 55/100\n",
      "40/40 [==============================] - 1s 17ms/step - loss: 3.3022 - accuracy: 0.3447 - categorical_accuracy: 1.0000 - top_k_categorical_accuracy: 1.0000 - multiclass_true_positives: 433.0000 - val_loss: 3.3006 - val_accuracy: 0.3376 - val_categorical_accuracy: 1.0000 - val_top_k_categorical_accuracy: 1.0000 - val_multiclass_true_positives: 106.0000\n",
      "Epoch 56/100\n",
      "40/40 [==============================] - 1s 18ms/step - loss: 3.2876 - accuracy: 0.3447 - categorical_accuracy: 1.0000 - top_k_categorical_accuracy: 1.0000 - multiclass_true_positives: 433.0000 - val_loss: 3.2870 - val_accuracy: 0.3376 - val_categorical_accuracy: 1.0000 - val_top_k_categorical_accuracy: 1.0000 - val_multiclass_true_positives: 106.0000\n",
      "Epoch 57/100\n",
      "40/40 [==============================] - 1s 18ms/step - loss: 3.2773 - accuracy: 0.3447 - categorical_accuracy: 1.0000 - top_k_categorical_accuracy: 1.0000 - multiclass_true_positives: 433.0000 - val_loss: 3.2746 - val_accuracy: 0.3376 - val_categorical_accuracy: 1.0000 - val_top_k_categorical_accuracy: 1.0000 - val_multiclass_true_positives: 106.0000\n",
      "Epoch 58/100\n",
      "40/40 [==============================] - 1s 19ms/step - loss: 3.2620 - accuracy: 0.3447 - categorical_accuracy: 1.0000 - top_k_categorical_accuracy: 1.0000 - multiclass_true_positives: 433.0000 - val_loss: 3.2617 - val_accuracy: 0.3376 - val_categorical_accuracy: 1.0000 - val_top_k_categorical_accuracy: 1.0000 - val_multiclass_true_positives: 106.0000\n",
      "Epoch 59/100\n",
      "40/40 [==============================] - 1s 20ms/step - loss: 3.2406 - accuracy: 0.3447 - categorical_accuracy: 1.0000 - top_k_categorical_accuracy: 1.0000 - multiclass_true_positives: 433.0000 - val_loss: 3.2493 - val_accuracy: 0.3376 - val_categorical_accuracy: 1.0000 - val_top_k_categorical_accuracy: 1.0000 - val_multiclass_true_positives: 106.0000\n",
      "Epoch 60/100\n",
      "40/40 [==============================] - 1s 20ms/step - loss: 3.2292 - accuracy: 0.3447 - categorical_accuracy: 1.0000 - top_k_categorical_accuracy: 1.0000 - multiclass_true_positives: 433.0000 - val_loss: 3.2368 - val_accuracy: 0.3376 - val_categorical_accuracy: 1.0000 - val_top_k_categorical_accuracy: 1.0000 - val_multiclass_true_positives: 106.0000\n",
      "Epoch 61/100\n",
      "40/40 [==============================] - 1s 20ms/step - loss: 3.2272 - accuracy: 0.3447 - categorical_accuracy: 1.0000 - top_k_categorical_accuracy: 1.0000 - multiclass_true_positives: 433.0000 - val_loss: 3.2244 - val_accuracy: 0.3376 - val_categorical_accuracy: 1.0000 - val_top_k_categorical_accuracy: 1.0000 - val_multiclass_true_positives: 106.0000\n",
      "Epoch 62/100\n",
      "40/40 [==============================] - 1s 21ms/step - loss: 3.2137 - accuracy: 0.3447 - categorical_accuracy: 1.0000 - top_k_categorical_accuracy: 1.0000 - multiclass_true_positives: 433.0000 - val_loss: 3.2121 - val_accuracy: 0.3376 - val_categorical_accuracy: 1.0000 - val_top_k_categorical_accuracy: 1.0000 - val_multiclass_true_positives: 106.0000\n",
      "Epoch 63/100\n",
      "40/40 [==============================] - 1s 22ms/step - loss: 3.1935 - accuracy: 0.3447 - categorical_accuracy: 1.0000 - top_k_categorical_accuracy: 1.0000 - multiclass_true_positives: 433.0000 - val_loss: 3.1994 - val_accuracy: 0.3376 - val_categorical_accuracy: 1.0000 - val_top_k_categorical_accuracy: 1.0000 - val_multiclass_true_positives: 106.0000\n",
      "Epoch 64/100\n",
      "40/40 [==============================] - 1s 20ms/step - loss: 3.1797 - accuracy: 0.3447 - categorical_accuracy: 1.0000 - top_k_categorical_accuracy: 1.0000 - multiclass_true_positives: 433.0000 - val_loss: 3.1875 - val_accuracy: 0.3376 - val_categorical_accuracy: 1.0000 - val_top_k_categorical_accuracy: 1.0000 - val_multiclass_true_positives: 106.0000\n",
      "Epoch 65/100\n",
      "40/40 [==============================] - 1s 20ms/step - loss: 3.1755 - accuracy: 0.3447 - categorical_accuracy: 1.0000 - top_k_categorical_accuracy: 1.0000 - multiclass_true_positives: 433.0000 - val_loss: 3.1749 - val_accuracy: 0.3376 - val_categorical_accuracy: 1.0000 - val_top_k_categorical_accuracy: 1.0000 - val_multiclass_true_positives: 106.0000\n",
      "Epoch 66/100\n",
      "40/40 [==============================] - 1s 22ms/step - loss: 3.1541 - accuracy: 0.3447 - categorical_accuracy: 0.9992 - top_k_categorical_accuracy: 1.0000 - multiclass_true_positives: 433.0000 - val_loss: 3.1633 - val_accuracy: 0.3376 - val_categorical_accuracy: 1.0000 - val_top_k_categorical_accuracy: 1.0000 - val_multiclass_true_positives: 106.0000\n",
      "Epoch 67/100\n",
      "40/40 [==============================] - 1s 20ms/step - loss: 3.1480 - accuracy: 0.3447 - categorical_accuracy: 1.0000 - top_k_categorical_accuracy: 1.0000 - multiclass_true_positives: 433.0000 - val_loss: 3.1513 - val_accuracy: 0.3376 - val_categorical_accuracy: 1.0000 - val_top_k_categorical_accuracy: 1.0000 - val_multiclass_true_positives: 106.0000\n",
      "Epoch 68/100\n",
      "40/40 [==============================] - 1s 20ms/step - loss: 3.1297 - accuracy: 0.3447 - categorical_accuracy: 1.0000 - top_k_categorical_accuracy: 1.0000 - multiclass_true_positives: 433.0000 - val_loss: 3.1394 - val_accuracy: 0.3376 - val_categorical_accuracy: 1.0000 - val_top_k_categorical_accuracy: 1.0000 - val_multiclass_true_positives: 106.0000\n",
      "Epoch 69/100\n",
      "40/40 [==============================] - 1s 19ms/step - loss: 3.1243 - accuracy: 0.3447 - categorical_accuracy: 1.0000 - top_k_categorical_accuracy: 1.0000 - multiclass_true_positives: 433.0000 - val_loss: 3.1278 - val_accuracy: 0.3376 - val_categorical_accuracy: 1.0000 - val_top_k_categorical_accuracy: 1.0000 - val_multiclass_true_positives: 106.0000\n",
      "Epoch 70/100\n",
      "40/40 [==============================] - 1s 20ms/step - loss: 3.1073 - accuracy: 0.3447 - categorical_accuracy: 1.0000 - top_k_categorical_accuracy: 1.0000 - multiclass_true_positives: 433.0000 - val_loss: 3.1161 - val_accuracy: 0.3376 - val_categorical_accuracy: 1.0000 - val_top_k_categorical_accuracy: 1.0000 - val_multiclass_true_positives: 106.0000\n",
      "Epoch 71/100\n",
      "40/40 [==============================] - 1s 19ms/step - loss: 3.1027 - accuracy: 0.3447 - categorical_accuracy: 1.0000 - top_k_categorical_accuracy: 1.0000 - multiclass_true_positives: 433.0000 - val_loss: 3.1045 - val_accuracy: 0.3376 - val_categorical_accuracy: 1.0000 - val_top_k_categorical_accuracy: 1.0000 - val_multiclass_true_positives: 106.0000\n",
      "Epoch 72/100\n",
      "40/40 [==============================] - 1s 23ms/step - loss: 3.0842 - accuracy: 0.3447 - categorical_accuracy: 1.0000 - top_k_categorical_accuracy: 1.0000 - multiclass_true_positives: 433.0000 - val_loss: 3.0931 - val_accuracy: 0.3376 - val_categorical_accuracy: 1.0000 - val_top_k_categorical_accuracy: 1.0000 - val_multiclass_true_positives: 106.0000\n",
      "Epoch 73/100\n",
      "40/40 [==============================] - 1s 23ms/step - loss: 3.0689 - accuracy: 0.3447 - categorical_accuracy: 1.0000 - top_k_categorical_accuracy: 1.0000 - multiclass_true_positives: 433.0000 - val_loss: 3.0817 - val_accuracy: 0.3376 - val_categorical_accuracy: 1.0000 - val_top_k_categorical_accuracy: 1.0000 - val_multiclass_true_positives: 106.0000\n",
      "Epoch 74/100\n",
      "40/40 [==============================] - 1s 20ms/step - loss: 3.0689 - accuracy: 0.3447 - categorical_accuracy: 1.0000 - top_k_categorical_accuracy: 1.0000 - multiclass_true_positives: 433.0000 - val_loss: 3.0702 - val_accuracy: 0.3376 - val_categorical_accuracy: 1.0000 - val_top_k_categorical_accuracy: 1.0000 - val_multiclass_true_positives: 106.0000\n",
      "Epoch 75/100\n",
      "40/40 [==============================] - 1s 22ms/step - loss: 3.0464 - accuracy: 0.3447 - categorical_accuracy: 1.0000 - top_k_categorical_accuracy: 1.0000 - multiclass_true_positives: 433.0000 - val_loss: 3.0591 - val_accuracy: 0.3376 - val_categorical_accuracy: 1.0000 - val_top_k_categorical_accuracy: 1.0000 - val_multiclass_true_positives: 106.0000\n",
      "Epoch 76/100\n",
      "40/40 [==============================] - 1s 19ms/step - loss: 3.0397 - accuracy: 0.3447 - categorical_accuracy: 1.0000 - top_k_categorical_accuracy: 1.0000 - multiclass_true_positives: 433.0000 - val_loss: 3.0480 - val_accuracy: 0.3376 - val_categorical_accuracy: 1.0000 - val_top_k_categorical_accuracy: 1.0000 - val_multiclass_true_positives: 106.0000\n",
      "Epoch 77/100\n",
      "40/40 [==============================] - 1s 24ms/step - loss: 3.0316 - accuracy: 0.3447 - categorical_accuracy: 1.0000 - top_k_categorical_accuracy: 1.0000 - multiclass_true_positives: 433.0000 - val_loss: 3.0368 - val_accuracy: 0.3376 - val_categorical_accuracy: 1.0000 - val_top_k_categorical_accuracy: 1.0000 - val_multiclass_true_positives: 106.0000\n",
      "Epoch 78/100\n",
      "40/40 [==============================] - 1s 26ms/step - loss: 3.0248 - accuracy: 0.3447 - categorical_accuracy: 1.0000 - top_k_categorical_accuracy: 1.0000 - multiclass_true_positives: 433.0000 - val_loss: 3.0261 - val_accuracy: 0.3376 - val_categorical_accuracy: 1.0000 - val_top_k_categorical_accuracy: 1.0000 - val_multiclass_true_positives: 106.0000\n",
      "Epoch 79/100\n",
      "40/40 [==============================] - 1s 19ms/step - loss: 3.0045 - accuracy: 0.3447 - categorical_accuracy: 1.0000 - top_k_categorical_accuracy: 1.0000 - multiclass_true_positives: 433.0000 - val_loss: 3.0149 - val_accuracy: 0.3376 - val_categorical_accuracy: 1.0000 - val_top_k_categorical_accuracy: 1.0000 - val_multiclass_true_positives: 106.0000\n",
      "Epoch 80/100\n",
      "40/40 [==============================] - 1s 20ms/step - loss: 3.8044 - accuracy: 0.3248 - categorical_accuracy: 0.9427 - top_k_categorical_accuracy: 0.9697 - multiclass_true_positives: 408.0000 - val_loss: 3.0954 - val_accuracy: 0.3376 - val_categorical_accuracy: 1.0000 - val_top_k_categorical_accuracy: 1.0000 - val_multiclass_true_positives: 106.0000\n",
      "Epoch 81/100\n",
      "40/40 [==============================] - 1s 18ms/step - loss: 3.1731 - accuracy: 0.3400 - categorical_accuracy: 0.9896 - top_k_categorical_accuracy: 1.0000 - multiclass_true_positives: 427.0000 - val_loss: 3.0191 - val_accuracy: 0.3376 - val_categorical_accuracy: 1.0000 - val_top_k_categorical_accuracy: 1.0000 - val_multiclass_true_positives: 106.0000\n",
      "Epoch 82/100\n",
      "40/40 [==============================] - 1s 19ms/step - loss: 2.9989 - accuracy: 0.3447 - categorical_accuracy: 1.0000 - top_k_categorical_accuracy: 1.0000 - multiclass_true_positives: 433.0000 - val_loss: 3.0095 - val_accuracy: 0.3376 - val_categorical_accuracy: 1.0000 - val_top_k_categorical_accuracy: 1.0000 - val_multiclass_true_positives: 106.0000\n",
      "Epoch 83/100\n",
      "40/40 [==============================] - 1s 22ms/step - loss: 2.9826 - accuracy: 0.3447 - categorical_accuracy: 1.0000 - top_k_categorical_accuracy: 1.0000 - multiclass_true_positives: 433.0000 - val_loss: 2.9990 - val_accuracy: 0.3376 - val_categorical_accuracy: 1.0000 - val_top_k_categorical_accuracy: 1.0000 - val_multiclass_true_positives: 106.0000\n",
      "Epoch 84/100\n",
      "40/40 [==============================] - 1s 19ms/step - loss: 2.9832 - accuracy: 0.3447 - categorical_accuracy: 1.0000 - top_k_categorical_accuracy: 1.0000 - multiclass_true_positives: 433.0000 - val_loss: 2.9889 - val_accuracy: 0.3376 - val_categorical_accuracy: 1.0000 - val_top_k_categorical_accuracy: 1.0000 - val_multiclass_true_positives: 106.0000\n",
      "Epoch 85/100\n",
      "40/40 [==============================] - 1s 17ms/step - loss: 2.9658 - accuracy: 0.3447 - categorical_accuracy: 1.0000 - top_k_categorical_accuracy: 1.0000 - multiclass_true_positives: 433.0000 - val_loss: 2.9787 - val_accuracy: 0.3376 - val_categorical_accuracy: 1.0000 - val_top_k_categorical_accuracy: 1.0000 - val_multiclass_true_positives: 106.0000\n",
      "Epoch 86/100\n",
      "40/40 [==============================] - 1s 20ms/step - loss: 2.9528 - accuracy: 0.3447 - categorical_accuracy: 1.0000 - top_k_categorical_accuracy: 1.0000 - multiclass_true_positives: 433.0000 - val_loss: 2.9689 - val_accuracy: 0.3376 - val_categorical_accuracy: 1.0000 - val_top_k_categorical_accuracy: 1.0000 - val_multiclass_true_positives: 106.0000\n",
      "Epoch 87/100\n",
      "40/40 [==============================] - 1s 18ms/step - loss: 2.9449 - accuracy: 0.3447 - categorical_accuracy: 1.0000 - top_k_categorical_accuracy: 1.0000 - multiclass_true_positives: 433.0000 - val_loss: 2.9588 - val_accuracy: 0.3376 - val_categorical_accuracy: 1.0000 - val_top_k_categorical_accuracy: 1.0000 - val_multiclass_true_positives: 106.0000\n",
      "Epoch 88/100\n",
      "40/40 [==============================] - 1s 19ms/step - loss: 2.9379 - accuracy: 0.3447 - categorical_accuracy: 1.0000 - top_k_categorical_accuracy: 1.0000 - multiclass_true_positives: 433.0000 - val_loss: 2.9490 - val_accuracy: 0.3376 - val_categorical_accuracy: 1.0000 - val_top_k_categorical_accuracy: 1.0000 - val_multiclass_true_positives: 106.0000\n",
      "Epoch 89/100\n",
      "40/40 [==============================] - 1s 21ms/step - loss: 2.9368 - accuracy: 0.3447 - categorical_accuracy: 1.0000 - top_k_categorical_accuracy: 1.0000 - multiclass_true_positives: 433.0000 - val_loss: 2.9397 - val_accuracy: 0.3376 - val_categorical_accuracy: 1.0000 - val_top_k_categorical_accuracy: 1.0000 - val_multiclass_true_positives: 106.0000\n",
      "Epoch 90/100\n",
      "40/40 [==============================] - 1s 18ms/step - loss: 2.9138 - accuracy: 0.3447 - categorical_accuracy: 1.0000 - top_k_categorical_accuracy: 1.0000 - multiclass_true_positives: 433.0000 - val_loss: 2.9305 - val_accuracy: 0.3376 - val_categorical_accuracy: 1.0000 - val_top_k_categorical_accuracy: 1.0000 - val_multiclass_true_positives: 106.0000\n",
      "Epoch 91/100\n",
      "40/40 [==============================] - 1s 19ms/step - loss: 2.9072 - accuracy: 0.3447 - categorical_accuracy: 1.0000 - top_k_categorical_accuracy: 1.0000 - multiclass_true_positives: 433.0000 - val_loss: 2.9213 - val_accuracy: 0.3376 - val_categorical_accuracy: 1.0000 - val_top_k_categorical_accuracy: 1.0000 - val_multiclass_true_positives: 106.0000\n",
      "Epoch 92/100\n",
      "40/40 [==============================] - 1s 16ms/step - loss: 2.9012 - accuracy: 0.3447 - categorical_accuracy: 1.0000 - top_k_categorical_accuracy: 1.0000 - multiclass_true_positives: 433.0000 - val_loss: 2.9112 - val_accuracy: 0.3376 - val_categorical_accuracy: 1.0000 - val_top_k_categorical_accuracy: 1.0000 - val_multiclass_true_positives: 106.0000\n",
      "Epoch 93/100\n",
      "40/40 [==============================] - 1s 16ms/step - loss: 2.8952 - accuracy: 0.3447 - categorical_accuracy: 1.0000 - top_k_categorical_accuracy: 1.0000 - multiclass_true_positives: 433.0000 - val_loss: 2.9018 - val_accuracy: 0.3376 - val_categorical_accuracy: 1.0000 - val_top_k_categorical_accuracy: 1.0000 - val_multiclass_true_positives: 106.0000\n",
      "Epoch 94/100\n",
      "40/40 [==============================] - 1s 16ms/step - loss: 2.8809 - accuracy: 0.3447 - categorical_accuracy: 1.0000 - top_k_categorical_accuracy: 1.0000 - multiclass_true_positives: 433.0000 - val_loss: 2.8921 - val_accuracy: 0.3376 - val_categorical_accuracy: 1.0000 - val_top_k_categorical_accuracy: 1.0000 - val_multiclass_true_positives: 106.0000\n",
      "Epoch 95/100\n",
      "40/40 [==============================] - 1s 15ms/step - loss: 2.8894 - accuracy: 0.3447 - categorical_accuracy: 1.0000 - top_k_categorical_accuracy: 1.0000 - multiclass_true_positives: 433.0000 - val_loss: 2.8861 - val_accuracy: 0.3376 - val_categorical_accuracy: 1.0000 - val_top_k_categorical_accuracy: 1.0000 - val_multiclass_true_positives: 106.0000\n",
      "Epoch 96/100\n",
      "40/40 [==============================] - 1s 16ms/step - loss: 2.8575 - accuracy: 0.3447 - categorical_accuracy: 1.0000 - top_k_categorical_accuracy: 1.0000 - multiclass_true_positives: 433.0000 - val_loss: 2.8769 - val_accuracy: 0.3376 - val_categorical_accuracy: 1.0000 - val_top_k_categorical_accuracy: 1.0000 - val_multiclass_true_positives: 106.0000\n",
      "Epoch 97/100\n",
      "40/40 [==============================] - 1s 17ms/step - loss: 2.8581 - accuracy: 0.3447 - categorical_accuracy: 1.0000 - top_k_categorical_accuracy: 1.0000 - multiclass_true_positives: 433.0000 - val_loss: 2.8676 - val_accuracy: 0.3376 - val_categorical_accuracy: 1.0000 - val_top_k_categorical_accuracy: 1.0000 - val_multiclass_true_positives: 106.0000\n",
      "Epoch 98/100\n",
      "40/40 [==============================] - 1s 18ms/step - loss: 2.8399 - accuracy: 0.3447 - categorical_accuracy: 1.0000 - top_k_categorical_accuracy: 1.0000 - multiclass_true_positives: 433.0000 - val_loss: 2.8578 - val_accuracy: 0.3376 - val_categorical_accuracy: 1.0000 - val_top_k_categorical_accuracy: 1.0000 - val_multiclass_true_positives: 106.0000\n",
      "Epoch 99/100\n",
      "40/40 [==============================] - 1s 19ms/step - loss: 2.8385 - accuracy: 0.3447 - categorical_accuracy: 1.0000 - top_k_categorical_accuracy: 1.0000 - multiclass_true_positives: 433.0000 - val_loss: 2.8492 - val_accuracy: 0.3376 - val_categorical_accuracy: 1.0000 - val_top_k_categorical_accuracy: 1.0000 - val_multiclass_true_positives: 106.0000\n",
      "Epoch 100/100\n",
      "40/40 [==============================] - 1s 17ms/step - loss: 2.8237 - accuracy: 0.3447 - categorical_accuracy: 1.0000 - top_k_categorical_accuracy: 1.0000 - multiclass_true_positives: 433.0000 - val_loss: 2.8407 - val_accuracy: 0.3376 - val_categorical_accuracy: 1.0000 - val_top_k_categorical_accuracy: 1.0000 - val_multiclass_true_positives: 106.0000\n",
      "Best epoch: 2\n"
     ]
    }
   ],
   "source": [
    "# Get the optimal hyperparameters\n",
    "best_hps=tuner.get_best_hyperparameters(num_trials=1)[0]\n",
    "\n",
    "# Build the model with the optimal hyperparameters and train it on the data for 50 epochs\n",
    "model = tuner.hypermodel.build(best_hps)\n",
    "history = model.fit(X_train, y_train, epochs=100, validation_split=0.2)\n",
    "\n",
    "val_acc_per_epoch = history.history['val_accuracy']\n",
    "best_epoch = val_acc_per_epoch.index(max(val_acc_per_epoch)) + 1\n",
    "print('Best epoch: %d' % (best_epoch,))"
   ]
  },
  {
   "cell_type": "code",
   "execution_count": 18,
   "metadata": {},
   "outputs": [
    {
     "name": "stdout",
     "output_type": "stream",
     "text": [
      "Epoch 1/2\n",
      "38/40 [===========================>..] - ETA: 0s - loss: 36.9629 - accuracy: 0.1546 - categorical_accuracy: 0.1965 - top_k_categorical_accuracy: 0.7541 - multiclass_true_positives: 188.0000"
     ]
    },
    {
     "name": "stderr",
     "output_type": "stream",
     "text": [
      "c:\\Users\\Edel\\.virtualenvs\\Desarrollo-OyWcDdAp\\lib\\site-packages\\keras\\engine\\training.py:2448: UserWarning: Metric MulticlassTruePositives implements a `reset_states()` method; rename it to `reset_state()` (without the final \"s\"). The name `reset_states()` has been deprecated to improve API consistency.\n",
      "  m.reset_state()\n"
     ]
    },
    {
     "name": "stdout",
     "output_type": "stream",
     "text": [
      "40/40 [==============================] - 2s 22ms/step - loss: 35.9531 - accuracy: 0.1553 - categorical_accuracy: 0.1903 - top_k_categorical_accuracy: 0.7619 - multiclass_true_positives: 195.0000 - val_loss: 5.2357 - val_accuracy: 0.1783 - val_categorical_accuracy: 0.0223 - val_top_k_categorical_accuracy: 1.0000 - val_multiclass_true_positives: 56.0000\n",
      "Epoch 2/2\n",
      "40/40 [==============================] - 1s 16ms/step - loss: 5.0738 - accuracy: 0.2373 - categorical_accuracy: 0.3885 - top_k_categorical_accuracy: 0.9976 - multiclass_true_positives: 298.0000 - val_loss: 4.8984 - val_accuracy: 0.3376 - val_categorical_accuracy: 1.0000 - val_top_k_categorical_accuracy: 1.0000 - val_multiclass_true_positives: 106.0000\n"
     ]
    },
    {
     "data": {
      "text/plain": [
       "<keras.callbacks.History at 0x2410f15f4c0>"
      ]
     },
     "execution_count": 18,
     "metadata": {},
     "output_type": "execute_result"
    }
   ],
   "source": [
    "hypermodel = tuner.hypermodel.build(best_hps)\n",
    "\n",
    "# Retrain the model\n",
    "hypermodel.fit(X_train, y_train, epochs=best_epoch, validation_split=0.2)"
   ]
  },
  {
   "cell_type": "code",
   "execution_count": 19,
   "metadata": {},
   "outputs": [
    {
     "name": "stdout",
     "output_type": "stream",
     "text": [
      "13/13 [==============================] - 0s 9ms/step - loss: 2.9121 - accuracy: 0.3028 - categorical_accuracy: 1.0000 - top_k_categorical_accuracy: 1.0000 - multiclass_true_positives: 119.0000\n",
      "test loss: 2.9120655059814453, test accuracy: 0.3027989864349365\n"
     ]
    },
    {
     "name": "stderr",
     "output_type": "stream",
     "text": [
      "c:\\Users\\Edel\\.virtualenvs\\Desarrollo-OyWcDdAp\\lib\\site-packages\\keras\\engine\\training.py:2448: UserWarning: Metric MulticlassTruePositives implements a `reset_states()` method; rename it to `reset_state()` (without the final \"s\"). The name `reset_states()` has been deprecated to improve API consistency.\n",
      "  m.reset_state()\n"
     ]
    }
   ],
   "source": [
    "# Evaluate the result\n",
    "eval_result = model.evaluate(X_test, y_test)\n",
    "print(f\"test loss: {eval_result[0]}, test accuracy: {eval_result[1]}\")"
   ]
  },
  {
   "cell_type": "code",
   "execution_count": 20,
   "metadata": {},
   "outputs": [
    {
     "name": "stdout",
     "output_type": "stream",
     "text": [
      "13/13 [==============================] - 0s 5ms/step\n",
      "              precision    recall  f1-score   support\n",
      "\n",
      "           0       0.30      1.00      0.46       119\n",
      "           1       0.00      0.00      0.00        23\n",
      "           2       0.00      0.00      0.00        74\n",
      "           3       0.00      0.00      0.00        23\n",
      "           4       0.00      0.00      0.00        21\n",
      "           5       0.00      0.00      0.00        17\n",
      "           6       0.00      0.00      0.00         8\n",
      "           7       0.00      0.00      0.00        32\n",
      "           8       0.00      0.00      0.00        14\n",
      "           9       0.00      0.00      0.00         9\n",
      "          10       0.00      0.00      0.00         4\n",
      "          11       0.00      0.00      0.00        15\n",
      "          12       0.00      0.00      0.00         5\n",
      "          13       0.00      0.00      0.00         6\n",
      "          14       0.00      0.00      0.00         3\n",
      "          15       0.00      0.00      0.00         3\n",
      "          16       0.00      0.00      0.00         3\n",
      "          17       0.00      0.00      0.00         7\n",
      "          18       0.00      0.00      0.00         7\n",
      "\n",
      "    accuracy                           0.30       393\n",
      "   macro avg       0.02      0.05      0.02       393\n",
      "weighted avg       0.09      0.30      0.14       393\n",
      "\n"
     ]
    },
    {
     "name": "stderr",
     "output_type": "stream",
     "text": [
      "c:\\Users\\Edel\\.virtualenvs\\Desarrollo-OyWcDdAp\\lib\\site-packages\\sklearn\\metrics\\_classification.py:1344: UndefinedMetricWarning: Precision and F-score are ill-defined and being set to 0.0 in labels with no predicted samples. Use `zero_division` parameter to control this behavior.\n",
      "  _warn_prf(average, modifier, msg_start, len(result))\n",
      "c:\\Users\\Edel\\.virtualenvs\\Desarrollo-OyWcDdAp\\lib\\site-packages\\sklearn\\metrics\\_classification.py:1344: UndefinedMetricWarning: Precision and F-score are ill-defined and being set to 0.0 in labels with no predicted samples. Use `zero_division` parameter to control this behavior.\n",
      "  _warn_prf(average, modifier, msg_start, len(result))\n",
      "c:\\Users\\Edel\\.virtualenvs\\Desarrollo-OyWcDdAp\\lib\\site-packages\\sklearn\\metrics\\_classification.py:1344: UndefinedMetricWarning: Precision and F-score are ill-defined and being set to 0.0 in labels with no predicted samples. Use `zero_division` parameter to control this behavior.\n",
      "  _warn_prf(average, modifier, msg_start, len(result))\n"
     ]
    }
   ],
   "source": [
    "y_pred = model.predict(X_test)\n",
    "predict = y_pred.argmax(axis=1)\n",
    "print(classification_report(y_test, predict))"
   ]
  },
  {
   "cell_type": "code",
   "execution_count": 21,
   "metadata": {},
   "outputs": [
    {
     "data": {
      "text/plain": [
       "<Axes: >"
      ]
     },
     "execution_count": 21,
     "metadata": {},
     "output_type": "execute_result"
    },
    {
     "data": {
      "image/png": "[encoded data removed]",
      "text/plain": [
       "<Figure size 640x480 with 2 Axes>"
      ]
     },
     "metadata": {},
     "output_type": "display_data"
    }
   ],
   "source": [
    "cm = confusion_matrix(y_test, predict)\n",
    "#sns.heatmap(cm, square=True, annot=True, cmap='Blues', fmt='d', cbar=False)\n",
    "sns.heatmap(cm, annot=True, cmap='Blues')"
   ]
  },
  {
   "cell_type": "code",
   "execution_count": null,
   "metadata": {},
   "outputs": [],
   "source": []
  }
 ],
 "metadata": {
  "kernelspec": {
   "display_name": "Desarrollo-OyWcDdAp",
   "language": "python",
   "name": "python3"
  },
  "language_info": {
   "codemirror_mode": {
    "name": "ipython",
    "version": 3
   },
   "file_extension": ".py",
   "mimetype": "text/x-python",
   "name": "python",
   "nbconvert_exporter": "python",
   "pygments_lexer": "ipython3",
   "version": "3.10.4"
  },
  "orig_nbformat": 4,
  "vscode": {
   "interpreter": {
    "hash": "0c86d74f942837168ba3eb0ab04c2d3bf4a14a75d7820611aca17ecb14925afc"
   }
  }
 },
 "nbformat": 4,
 "nbformat_minor": 2
}
