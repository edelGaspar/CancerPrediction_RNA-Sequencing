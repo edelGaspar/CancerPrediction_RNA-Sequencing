{
 "cells": [
  {
   "attachments": {},
   "cell_type": "markdown",
   "metadata": {},
   "source": [
    "# Genic Notation"
   ]
  },
  {
   "attachments": {},
   "cell_type": "markdown",
   "metadata": {},
   "source": [
    "According to the paper, they have mapped to the human reference genome (hg19).\n",
    "HG19 is the alias to GRCh37."
   ]
  },
  {
   "attachments": {},
   "cell_type": "markdown",
   "metadata": {},
   "source": [
    "Human Gene Annotation - GENCODE Release 19 (GRCh37.p13)\n",
    "\n",
    "https://www.gencodegenes.org/human/release_19.html"
   ]
  },
  {
   "cell_type": "code",
   "execution_count": 1,
   "metadata": {},
   "outputs": [],
   "source": [
    "# Imports\n",
    "import gzip\n",
    "import shutil\n",
    "import re\n",
    "\n",
    "import numpy as np\n",
    "import pandas as pd\n",
    "import matplotlib.pyplot as plt\n",
    "import seaborn as sns\n",
    "import gffutils\n",
    "import os"
   ]
  },
  {
   "cell_type": "code",
   "execution_count": 2,
   "metadata": {},
   "outputs": [],
   "source": [
    "# File_in contains the comprehensive gene annotation on the reference chromosomes only\n",
    "file_in = 'Data/ComprehensiveGeneAnnotation/gencode.v19.annotation.gff3.gz'\n",
    "file_out = 'Data/ComprehensiveGeneAnnotation/gencode.v19.annotation.gff3'\n",
    "db_file = 'Data/ComprehensiveGeneAnnotation/db_GRCh37.db'\n",
    "\n",
    "# # File_in contains the basic gene annotation on the reference chromosomes only\n",
    "# # This is a subset of the corresponding comprehensive annotation, including only those transcripts tagged as 'basic' in every gene\n",
    "# # This is the main annotation file for most users\n",
    "# file_in = 'gencode.v42.basic.annotation.gff3.gz'\n",
    "# file_out = 'gencode.v42.basic.annotation.gff3'\n",
    "\n",
    "with gzip.open(file_in, 'rb') as f_in:\n",
    "    with open(file_out, 'wb') as f_out:\n",
    "        shutil.copyfileobj(f_in, f_out)"
   ]
  },
  {
   "cell_type": "code",
   "execution_count": 3,
   "metadata": {},
   "outputs": [
    {
     "name": "stderr",
     "output_type": "stream",
     "text": [
      "2023-01-17 00:14:25,054 - INFO - Populating features\n",
      "2023-01-17 00:20:45,180 - INFO - Populating features table and first-order relations: 2615565 features\n",
      "2023-01-17 00:20:45,181 - INFO - Updating relations\n",
      "2023-01-17 00:21:23,114 - INFO - Creating relations(parent) index\n",
      "2023-01-17 00:21:25,983 - INFO - Creating relations(child) index\n",
      "2023-01-17 00:21:29,364 - INFO - Creating features(featuretype) index\n",
      "2023-01-17 00:21:31,264 - INFO - Creating features (seqid, start, end) index\n",
      "2023-01-17 00:21:33,398 - INFO - Creating features (seqid, start, end, strand) index\n",
      "2023-01-17 00:21:35,615 - INFO - Running ANALYZE features\n"
     ]
    }
   ],
   "source": [
    "if os.path.exists(db_file):\n",
    "    db = gffutils.FeatureDB(dbfn=db_file)    \n",
    "else:\n",
    "    db = gffutils.create_db(file_out, \":memory:\", merge_strategy='create_unique', id_spec={'gene': 'gene_id', 'transcript': 'transcript_id'},\n",
    "    verbose = True)\n",
    "    "
   ]
  },
  {
   "cell_type": "code",
   "execution_count": 4,
   "metadata": {},
   "outputs": [],
   "source": [
    "def get_length_gen(gene_id, method='max'):\n",
    "    \"\"\"\n",
    "    Calculates the length of the gene\n",
    "    :param gene_id: id of gene, ex 'ENSG00000223972'\n",
    "    :param method:method of length calculation [min, max, mean]\n",
    "    \"\"\" \n",
    "    transcript_count = 0\n",
    "    summation = 0\n",
    "    result = 0\n",
    "    c = db.conn.cursor()\n",
    "    c.execute(f\"SELECT id FROM features WHERE id like '{gene_id}.%'\")\n",
    "    id_version = c.fetchone()[0]\n",
    "    for child_transcript in db.children(id_version, 1, featuretype='transcript'):\n",
    "        transcript_count += 1\n",
    "        axon_sum = sum(exon.stop - exon.start for exon in db.children(child_transcript.id, 1, featuretype='exon'))\n",
    "        match method:\n",
    "            case 'max':\n",
    "                result = result if result > axon_sum else axon_sum\n",
    "            case 'min':\n",
    "                if result == 0:\n",
    "                    result = axon_sum\n",
    "                else:\n",
    "                    result = result if result < axon_sum else axon_sum\n",
    "            case 'mean':\n",
    "                summation += axon_sum\n",
    "                result = (summation)/transcript_count\n",
    "    return result"
   ]
  },
  {
   "cell_type": "code",
   "execution_count": 37,
   "metadata": {},
   "outputs": [],
   "source": [
    "def get_length_gen2(gene_id, method='max'):\n",
    "    \"\"\"\n",
    "    Calculates the length of the gene\n",
    "    :param gene_id: id of gene, ex 'ENSG00000223972'\n",
    "    :param method:method of length calculation [min, max, mean]\n",
    "    \"\"\" \n",
    "    transcript_count = 0\n",
    "    summation = 0\n",
    "    result = 0\n",
    "    gid='ENSG00000223972'\n",
    "    c = db.conn.cursor()\n",
    "    c.execute(f\"SELECT id FROM features WHERE id like '{gid}.%'\")\n",
    "    results = c.fetchone()[0]\n",
    "    print(str(results))"
   ]
  },
  {
   "cell_type": "code",
   "execution_count": 5,
   "metadata": {},
   "outputs": [
    {
     "ename": "TypeError",
     "evalue": "'NoneType' object is not subscriptable",
     "output_type": "error",
     "traceback": [
      "\u001b[1;31m---------------------------------------------------------------------------\u001b[0m",
      "\u001b[1;31mTypeError\u001b[0m                                 Traceback (most recent call last)",
      "Cell \u001b[1;32mIn[5], line 1\u001b[0m\n\u001b[1;32m----> 1\u001b[0m g_length \u001b[39m=\u001b[39m get_length_gen(\u001b[39m'\u001b[39;49m\u001b[39mENSG00000223972.4\u001b[39;49m\u001b[39m'\u001b[39;49m, method\u001b[39m=\u001b[39;49m\u001b[39m'\u001b[39;49m\u001b[39mmean\u001b[39;49m\u001b[39m'\u001b[39;49m)\n\u001b[0;32m      2\u001b[0m \u001b[39mprint\u001b[39m(g_length)\n",
      "Cell \u001b[1;32mIn[4], line 12\u001b[0m, in \u001b[0;36mget_length_gen\u001b[1;34m(gene_id, method)\u001b[0m\n\u001b[0;32m     10\u001b[0m c \u001b[39m=\u001b[39m db\u001b[39m.\u001b[39mconn\u001b[39m.\u001b[39mcursor()\n\u001b[0;32m     11\u001b[0m c\u001b[39m.\u001b[39mexecute(\u001b[39mf\u001b[39m\u001b[39m\"\u001b[39m\u001b[39mSELECT id FROM features WHERE id like \u001b[39m\u001b[39m'\u001b[39m\u001b[39m{\u001b[39;00mgene_id\u001b[39m}\u001b[39;00m\u001b[39m.%\u001b[39m\u001b[39m'\u001b[39m\u001b[39m\"\u001b[39m)\n\u001b[1;32m---> 12\u001b[0m id_version \u001b[39m=\u001b[39m c\u001b[39m.\u001b[39;49mfetchone()[\u001b[39m0\u001b[39;49m]\n\u001b[0;32m     13\u001b[0m \u001b[39mfor\u001b[39;00m child_transcript \u001b[39min\u001b[39;00m db\u001b[39m.\u001b[39mchildren(id_version, \u001b[39m1\u001b[39m, featuretype\u001b[39m=\u001b[39m\u001b[39m'\u001b[39m\u001b[39mtranscript\u001b[39m\u001b[39m'\u001b[39m):\n\u001b[0;32m     14\u001b[0m     transcript_count \u001b[39m+\u001b[39m\u001b[39m=\u001b[39m \u001b[39m1\u001b[39m\n",
      "\u001b[1;31mTypeError\u001b[0m: 'NoneType' object is not subscriptable"
     ]
    }
   ],
   "source": [
    "g_length = get_length_gen('ENSG00000223972.4', method='mean')\n",
    "print(g_length)"
   ]
  }
 ],
 "metadata": {
  "kernelspec": {
   "display_name": "Desarrollo-OyWcDdAp",
   "language": "python",
   "name": "python3"
  },
  "language_info": {
   "codemirror_mode": {
    "name": "ipython",
    "version": 3
   },
   "file_extension": ".py",
   "mimetype": "text/x-python",
   "name": "python",
   "nbconvert_exporter": "python",
   "pygments_lexer": "ipython3",
   "version": "3.10.4 (tags/v3.10.4:9d38120, Mar 23 2022, 23:13:41) [MSC v.1929 64 bit (AMD64)]"
  },
  "orig_nbformat": 4,
  "vscode": {
   "interpreter": {
    "hash": "0c86d74f942837168ba3eb0ab04c2d3bf4a14a75d7820611aca17ecb14925afc"
   }
  }
 },
 "nbformat": 4,
 "nbformat_minor": 2
}
